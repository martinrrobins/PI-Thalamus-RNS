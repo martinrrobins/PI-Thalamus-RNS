{
 "cells": [
  {
   "cell_type": "markdown",
   "metadata": {},
   "source": [
    "# Exploración y analisis de modelos entrenados "
   ]
  },
  {
   "cell_type": "code",
   "execution_count": 1,
   "metadata": {},
   "outputs": [],
   "source": [
    "\n",
    "import pandas as pd\n",
    "import numpy  as np"
   ]
  },
  {
   "cell_type": "code",
   "execution_count": 2,
   "metadata": {},
   "outputs": [],
   "source": [
    "meta_data_file_iEEG = '/media/martin/Disco2/Rns_Data/PITT_PI_EEG/METADATA/allfiles_metadata.csv'\n",
    "df_meta                  = pd.read_csv(meta_data_file_iEEG)"
   ]
  },
  {
   "cell_type": "code",
   "execution_count": 3,
   "metadata": {},
   "outputs": [
    {
     "data": {
      "text/plain": [
       "30"
      ]
     },
     "execution_count": 3,
     "metadata": {},
     "output_type": "execute_result"
    }
   ],
   "source": [
    "len(df_meta['rns_id'].unique())"
   ]
  },
  {
   "cell_type": "code",
   "execution_count": 4,
   "metadata": {},
   "outputs": [],
   "source": [
    "patients      = df_meta['rns_id'].unique().tolist()\n",
    "save_path     = '/home/martin/Documentos/PI-Thalamus/01 Thalamus-PI/Paper_iESPnet_pruebas/05-Train-Test/models_DSF_iESPnet/'"
   ]
  },
  {
   "cell_type": "code",
   "execution_count": 5,
   "metadata": {},
   "outputs": [
    {
     "name": "stdout",
     "output_type": "stream",
     "text": [
      "['/home/martin/Documentos/PI-Thalamus/01 Thalamus-PI/Paper_iESPnet_pruebas/05-Train-Test/models_DSF_iESPnet/PIT-RNS1603/models/model_opt.pth', '/home/martin/Documentos/PI-Thalamus/01 Thalamus-PI/Paper_iESPnet_pruebas/05-Train-Test/models_DSF_iESPnet/PIT-RNS6989/models/model_opt.pth', '/home/martin/Documentos/PI-Thalamus/01 Thalamus-PI/Paper_iESPnet_pruebas/05-Train-Test/models_DSF_iESPnet/PIT-RNS3016/models/model_opt.pth', '/home/martin/Documentos/PI-Thalamus/01 Thalamus-PI/Paper_iESPnet_pruebas/05-Train-Test/models_DSF_iESPnet/PIT-RNS1529/models/model_opt.pth', '/home/martin/Documentos/PI-Thalamus/01 Thalamus-PI/Paper_iESPnet_pruebas/05-Train-Test/models_DSF_iESPnet/PIT-RNS7168/models/model_opt.pth', '/home/martin/Documentos/PI-Thalamus/01 Thalamus-PI/Paper_iESPnet_pruebas/05-Train-Test/models_DSF_iESPnet/PIT-RNS4098/models/model_opt.pth', '/home/martin/Documentos/PI-Thalamus/01 Thalamus-PI/Paper_iESPnet_pruebas/05-Train-Test/models_DSF_iESPnet/PIT-RNS1836/models/model_opt.pth', '/home/martin/Documentos/PI-Thalamus/01 Thalamus-PI/Paper_iESPnet_pruebas/05-Train-Test/models_DSF_iESPnet/PIT-RNS9183/models/model_opt.pth', '/home/martin/Documentos/PI-Thalamus/01 Thalamus-PI/Paper_iESPnet_pruebas/05-Train-Test/models_DSF_iESPnet/PIT-RNS1440/models/model_opt.pth', '/home/martin/Documentos/PI-Thalamus/01 Thalamus-PI/Paper_iESPnet_pruebas/05-Train-Test/models_DSF_iESPnet/PIT-RNS1713/models/model_opt.pth', '/home/martin/Documentos/PI-Thalamus/01 Thalamus-PI/Paper_iESPnet_pruebas/05-Train-Test/models_DSF_iESPnet/PIT-RNS9536/models/model_opt.pth', '/home/martin/Documentos/PI-Thalamus/01 Thalamus-PI/Paper_iESPnet_pruebas/05-Train-Test/models_DSF_iESPnet/PIT-RNS2543/models/model_opt.pth', '/home/martin/Documentos/PI-Thalamus/01 Thalamus-PI/Paper_iESPnet_pruebas/05-Train-Test/models_DSF_iESPnet/PIT-RNS1438/models/model_opt.pth', '/home/martin/Documentos/PI-Thalamus/01 Thalamus-PI/Paper_iESPnet_pruebas/05-Train-Test/models_DSF_iESPnet/PIT-RNS1534/models/model_opt.pth', '/home/martin/Documentos/PI-Thalamus/01 Thalamus-PI/Paper_iESPnet_pruebas/05-Train-Test/models_DSF_iESPnet/PIT-RNS1703/models/model_opt.pth', '/home/martin/Documentos/PI-Thalamus/01 Thalamus-PI/Paper_iESPnet_pruebas/05-Train-Test/models_DSF_iESPnet/PIT-RNS1556/models/model_opt.pth', '/home/martin/Documentos/PI-Thalamus/01 Thalamus-PI/Paper_iESPnet_pruebas/05-Train-Test/models_DSF_iESPnet/PIT-RNS1597/models/model_opt.pth', '/home/martin/Documentos/PI-Thalamus/01 Thalamus-PI/Paper_iESPnet_pruebas/05-Train-Test/models_DSF_iESPnet/PIT-RNS6992/models/model_opt.pth', '/home/martin/Documentos/PI-Thalamus/01 Thalamus-PI/Paper_iESPnet_pruebas/05-Train-Test/models_DSF_iESPnet/PIT-RNS8326/models/model_opt.pth', '/home/martin/Documentos/PI-Thalamus/01 Thalamus-PI/Paper_iESPnet_pruebas/05-Train-Test/models_DSF_iESPnet/PIT-RNS2227/models/model_opt.pth', '/home/martin/Documentos/PI-Thalamus/01 Thalamus-PI/Paper_iESPnet_pruebas/05-Train-Test/models_DSF_iESPnet/PIT-RNS8163/models/model_opt.pth', '/home/martin/Documentos/PI-Thalamus/01 Thalamus-PI/Paper_iESPnet_pruebas/05-Train-Test/models_DSF_iESPnet/PIT-RNS8973/models/model_opt.pth', '/home/martin/Documentos/PI-Thalamus/01 Thalamus-PI/Paper_iESPnet_pruebas/05-Train-Test/models_DSF_iESPnet/PIT-RNS6806/models/model_opt.pth', '/home/martin/Documentos/PI-Thalamus/01 Thalamus-PI/Paper_iESPnet_pruebas/05-Train-Test/models_DSF_iESPnet/PIT-RNS1090/models/model_opt.pth', '/home/martin/Documentos/PI-Thalamus/01 Thalamus-PI/Paper_iESPnet_pruebas/05-Train-Test/models_DSF_iESPnet/PIT-RNS2368/models/model_opt.pth', '/home/martin/Documentos/PI-Thalamus/01 Thalamus-PI/Paper_iESPnet_pruebas/05-Train-Test/models_DSF_iESPnet/PIT-RNS6762/models/model_opt.pth', '/home/martin/Documentos/PI-Thalamus/01 Thalamus-PI/Paper_iESPnet_pruebas/05-Train-Test/models_DSF_iESPnet/PIT-RNS2938/models/model_opt.pth', '/home/martin/Documentos/PI-Thalamus/01 Thalamus-PI/Paper_iESPnet_pruebas/05-Train-Test/models_DSF_iESPnet/PIT-RNS7525/models/model_opt.pth', '/home/martin/Documentos/PI-Thalamus/01 Thalamus-PI/Paper_iESPnet_pruebas/05-Train-Test/models_DSF_iESPnet/PIT-RNS0427/models/model_opt.pth', '/home/martin/Documentos/PI-Thalamus/01 Thalamus-PI/Paper_iESPnet_pruebas/05-Train-Test/models_DSF_iESPnet/PIT-RNS8076/models/model_opt.pth']\n"
     ]
    }
   ],
   "source": [
    "save_models = []\n",
    "for s in range(len(patients)):\n",
    "    save_models.append(save_path + patients[s] + '/models/'+ 'model_opt.pth')\n",
    "print(save_models)"
   ]
  },
  {
   "cell_type": "code",
   "execution_count": 6,
   "metadata": {},
   "outputs": [
    {
     "name": "stdout",
     "output_type": "stream",
     "text": [
      "['/home/martin/Documentos/PI-Thalamus/01 Thalamus-PI/Paper_iESPnet_pruebas/05-Train-Test/models_DSF_iESPnet/PIT-RNS1603/results/PIT-RNS1603results.npy', '/home/martin/Documentos/PI-Thalamus/01 Thalamus-PI/Paper_iESPnet_pruebas/05-Train-Test/models_DSF_iESPnet/PIT-RNS6989/results/PIT-RNS6989results.npy', '/home/martin/Documentos/PI-Thalamus/01 Thalamus-PI/Paper_iESPnet_pruebas/05-Train-Test/models_DSF_iESPnet/PIT-RNS3016/results/PIT-RNS3016results.npy', '/home/martin/Documentos/PI-Thalamus/01 Thalamus-PI/Paper_iESPnet_pruebas/05-Train-Test/models_DSF_iESPnet/PIT-RNS1529/results/PIT-RNS1529results.npy', '/home/martin/Documentos/PI-Thalamus/01 Thalamus-PI/Paper_iESPnet_pruebas/05-Train-Test/models_DSF_iESPnet/PIT-RNS7168/results/PIT-RNS7168results.npy', '/home/martin/Documentos/PI-Thalamus/01 Thalamus-PI/Paper_iESPnet_pruebas/05-Train-Test/models_DSF_iESPnet/PIT-RNS4098/results/PIT-RNS4098results.npy', '/home/martin/Documentos/PI-Thalamus/01 Thalamus-PI/Paper_iESPnet_pruebas/05-Train-Test/models_DSF_iESPnet/PIT-RNS1836/results/PIT-RNS1836results.npy', '/home/martin/Documentos/PI-Thalamus/01 Thalamus-PI/Paper_iESPnet_pruebas/05-Train-Test/models_DSF_iESPnet/PIT-RNS9183/results/PIT-RNS9183results.npy', '/home/martin/Documentos/PI-Thalamus/01 Thalamus-PI/Paper_iESPnet_pruebas/05-Train-Test/models_DSF_iESPnet/PIT-RNS1440/results/PIT-RNS1440results.npy', '/home/martin/Documentos/PI-Thalamus/01 Thalamus-PI/Paper_iESPnet_pruebas/05-Train-Test/models_DSF_iESPnet/PIT-RNS1713/results/PIT-RNS1713results.npy', '/home/martin/Documentos/PI-Thalamus/01 Thalamus-PI/Paper_iESPnet_pruebas/05-Train-Test/models_DSF_iESPnet/PIT-RNS9536/results/PIT-RNS9536results.npy', '/home/martin/Documentos/PI-Thalamus/01 Thalamus-PI/Paper_iESPnet_pruebas/05-Train-Test/models_DSF_iESPnet/PIT-RNS2543/results/PIT-RNS2543results.npy', '/home/martin/Documentos/PI-Thalamus/01 Thalamus-PI/Paper_iESPnet_pruebas/05-Train-Test/models_DSF_iESPnet/PIT-RNS1438/results/PIT-RNS1438results.npy', '/home/martin/Documentos/PI-Thalamus/01 Thalamus-PI/Paper_iESPnet_pruebas/05-Train-Test/models_DSF_iESPnet/PIT-RNS1534/results/PIT-RNS1534results.npy', '/home/martin/Documentos/PI-Thalamus/01 Thalamus-PI/Paper_iESPnet_pruebas/05-Train-Test/models_DSF_iESPnet/PIT-RNS1703/results/PIT-RNS1703results.npy', '/home/martin/Documentos/PI-Thalamus/01 Thalamus-PI/Paper_iESPnet_pruebas/05-Train-Test/models_DSF_iESPnet/PIT-RNS1556/results/PIT-RNS1556results.npy', '/home/martin/Documentos/PI-Thalamus/01 Thalamus-PI/Paper_iESPnet_pruebas/05-Train-Test/models_DSF_iESPnet/PIT-RNS1597/results/PIT-RNS1597results.npy', '/home/martin/Documentos/PI-Thalamus/01 Thalamus-PI/Paper_iESPnet_pruebas/05-Train-Test/models_DSF_iESPnet/PIT-RNS6992/results/PIT-RNS6992results.npy', '/home/martin/Documentos/PI-Thalamus/01 Thalamus-PI/Paper_iESPnet_pruebas/05-Train-Test/models_DSF_iESPnet/PIT-RNS8326/results/PIT-RNS8326results.npy', '/home/martin/Documentos/PI-Thalamus/01 Thalamus-PI/Paper_iESPnet_pruebas/05-Train-Test/models_DSF_iESPnet/PIT-RNS2227/results/PIT-RNS2227results.npy', '/home/martin/Documentos/PI-Thalamus/01 Thalamus-PI/Paper_iESPnet_pruebas/05-Train-Test/models_DSF_iESPnet/PIT-RNS8163/results/PIT-RNS8163results.npy', '/home/martin/Documentos/PI-Thalamus/01 Thalamus-PI/Paper_iESPnet_pruebas/05-Train-Test/models_DSF_iESPnet/PIT-RNS8973/results/PIT-RNS8973results.npy', '/home/martin/Documentos/PI-Thalamus/01 Thalamus-PI/Paper_iESPnet_pruebas/05-Train-Test/models_DSF_iESPnet/PIT-RNS6806/results/PIT-RNS6806results.npy', '/home/martin/Documentos/PI-Thalamus/01 Thalamus-PI/Paper_iESPnet_pruebas/05-Train-Test/models_DSF_iESPnet/PIT-RNS1090/results/PIT-RNS1090results.npy', '/home/martin/Documentos/PI-Thalamus/01 Thalamus-PI/Paper_iESPnet_pruebas/05-Train-Test/models_DSF_iESPnet/PIT-RNS2368/results/PIT-RNS2368results.npy', '/home/martin/Documentos/PI-Thalamus/01 Thalamus-PI/Paper_iESPnet_pruebas/05-Train-Test/models_DSF_iESPnet/PIT-RNS6762/results/PIT-RNS6762results.npy', '/home/martin/Documentos/PI-Thalamus/01 Thalamus-PI/Paper_iESPnet_pruebas/05-Train-Test/models_DSF_iESPnet/PIT-RNS2938/results/PIT-RNS2938results.npy', '/home/martin/Documentos/PI-Thalamus/01 Thalamus-PI/Paper_iESPnet_pruebas/05-Train-Test/models_DSF_iESPnet/PIT-RNS7525/results/PIT-RNS7525results.npy', '/home/martin/Documentos/PI-Thalamus/01 Thalamus-PI/Paper_iESPnet_pruebas/05-Train-Test/models_DSF_iESPnet/PIT-RNS0427/results/PIT-RNS0427results.npy', '/home/martin/Documentos/PI-Thalamus/01 Thalamus-PI/Paper_iESPnet_pruebas/05-Train-Test/models_DSF_iESPnet/PIT-RNS8076/results/PIT-RNS8076results.npy']\n"
     ]
    }
   ],
   "source": [
    "save_results = []\n",
    "for s in range(len(patients)):\n",
    "    save_results.append(save_path + patients[s] + '/results/'+ patients[s]+'results.npy')\n",
    "print(save_results)"
   ]
  },
  {
   "cell_type": "code",
   "execution_count": 7,
   "metadata": {},
   "outputs": [
    {
     "data": {
      "text/plain": [
       "'/home/martin/Documentos/PI-Thalamus/01 Thalamus-PI/Paper_iESPnet_pruebas/05-Train-Test/models_DSF_iESPnet/PIT-RNS0427/models/model_opt.pth'"
      ]
     },
     "execution_count": 7,
     "metadata": {},
     "output_type": "execute_result"
    }
   ],
   "source": [
    "save_models[28]"
   ]
  },
  {
   "cell_type": "code",
   "execution_count": 8,
   "metadata": {},
   "outputs": [
    {
     "data": {
      "text/plain": [
       "'/home/martin/Documentos/PI-Thalamus/01 Thalamus-PI/Paper_iESPnet_pruebas/05-Train-Test/models_DSF_iESPnet/PIT-RNS0427/results/PIT-RNS0427results.npy'"
      ]
     },
     "execution_count": 8,
     "metadata": {},
     "output_type": "execute_result"
    }
   ],
   "source": [
    "save_results[28]"
   ]
  },
  {
   "cell_type": "code",
   "execution_count": 12,
   "metadata": {},
   "outputs": [],
   "source": [
    "s                       = 28\n",
    "results                 = []\n",
    "prediction_te           = []\n",
    "accuracy                = []\n",
    "f1                      = []\n",
    "precision               = []\n",
    "recall                  = []\n",
    "MAE_time                = []\n",
    "\n",
    "\n",
    "results.append(np.load(save_results[s],allow_pickle=True).item())\n",
    "prediction_te.append(results[0].get('prediction_te'))"
   ]
  },
  {
   "cell_type": "code",
   "execution_count": 13,
   "metadata": {},
   "outputs": [],
   "source": [
    "accuracy.append(float(prediction_te[0].get('accuracy')))\n",
    "f1.append(float(prediction_te[0].get('f1')))\n",
    "precision.append(float(prediction_te[0].get('precision')))\n",
    "recall.append(float(prediction_te[0].get('recall')))\n",
    "MAE_time.append(float(prediction_te[0].get('MAE_time')))"
   ]
  },
  {
   "cell_type": "code",
   "execution_count": 14,
   "metadata": {},
   "outputs": [],
   "source": [
    "metricas1 = {\n",
    "             '': ['Accuracy', 'F1', 'Recall', 'Precision', 'MAE'],\n",
    "             'PIT-RNS0427': [accuracy[0], f1[0], precision[0], recall[0], MAE_time[0]]\n",
    "            }"
   ]
  },
  {
   "cell_type": "code",
   "execution_count": 15,
   "metadata": {},
   "outputs": [],
   "source": [
    "df_results_1 = pd.DataFrame(metricas1)"
   ]
  },
  {
   "cell_type": "code",
   "execution_count": 16,
   "metadata": {},
   "outputs": [
    {
     "data": {
      "text/html": [
       "<div>\n",
       "<style scoped>\n",
       "    .dataframe tbody tr th:only-of-type {\n",
       "        vertical-align: middle;\n",
       "    }\n",
       "\n",
       "    .dataframe tbody tr th {\n",
       "        vertical-align: top;\n",
       "    }\n",
       "\n",
       "    .dataframe thead th {\n",
       "        text-align: right;\n",
       "    }\n",
       "</style>\n",
       "<table border=\"1\" class=\"dataframe\">\n",
       "  <thead>\n",
       "    <tr style=\"text-align: right;\">\n",
       "      <th></th>\n",
       "      <th></th>\n",
       "      <th>PIT-RNS0427</th>\n",
       "    </tr>\n",
       "  </thead>\n",
       "  <tbody>\n",
       "    <tr>\n",
       "      <th>0</th>\n",
       "      <td>Accuracy</td>\n",
       "      <td>0.552019</td>\n",
       "    </tr>\n",
       "    <tr>\n",
       "      <th>1</th>\n",
       "      <td>F1</td>\n",
       "      <td>0.549584</td>\n",
       "    </tr>\n",
       "    <tr>\n",
       "      <th>2</th>\n",
       "      <td>Recall</td>\n",
       "      <td>0.547170</td>\n",
       "    </tr>\n",
       "    <tr>\n",
       "      <th>3</th>\n",
       "      <td>Precision</td>\n",
       "      <td>0.552019</td>\n",
       "    </tr>\n",
       "    <tr>\n",
       "      <th>4</th>\n",
       "      <td>MAE</td>\n",
       "      <td>15.000000</td>\n",
       "    </tr>\n",
       "  </tbody>\n",
       "</table>\n",
       "</div>"
      ],
      "text/plain": [
       "              PIT-RNS0427\n",
       "0   Accuracy     0.552019\n",
       "1         F1     0.549584\n",
       "2     Recall     0.547170\n",
       "3  Precision     0.552019\n",
       "4        MAE    15.000000"
      ]
     },
     "execution_count": 16,
     "metadata": {},
     "output_type": "execute_result"
    }
   ],
   "source": [
    "df_results_1 "
   ]
  },
  {
   "cell_type": "markdown",
   "metadata": {},
   "source": [
    "------------------------------------------------------------------------------------------------------------------------------------------------------------"
   ]
  },
  {
   "cell_type": "code",
   "execution_count": 9,
   "metadata": {},
   "outputs": [],
   "source": [
    "meta_data_file_noprocess = '/media/martin/Disco2/Rns_Data/PITT_PI_noprocess/METADATA_noprocess/allfiles_metadata.csv'\n",
    "df_meta_noprocess        = pd.read_csv(meta_data_file_noprocess)"
   ]
  },
  {
   "cell_type": "code",
   "execution_count": 10,
   "metadata": {},
   "outputs": [
    {
     "data": {
      "text/plain": [
       "30"
      ]
     },
     "execution_count": 10,
     "metadata": {},
     "output_type": "execute_result"
    }
   ],
   "source": [
    "len(df_meta_noprocess['rns_id'].unique())"
   ]
  },
  {
   "cell_type": "code",
   "execution_count": 12,
   "metadata": {},
   "outputs": [],
   "source": [
    "patients_noprocess       = df_meta_noprocess['rns_id'].unique().tolist()\n",
    "save_path_noprocess      = '/media/martin/Disco2/Rns_Data/models/modelo-30-noprocess/'"
   ]
  },
  {
   "cell_type": "code",
   "execution_count": 13,
   "metadata": {},
   "outputs": [
    {
     "name": "stdout",
     "output_type": "stream",
     "text": [
      "['/media/martin/Disco2/Rns_Data/models/modelo-30-noprocess/PIT-RNS1603/models/model_opt.pth', '/media/martin/Disco2/Rns_Data/models/modelo-30-noprocess/PIT-RNS6989/models/model_opt.pth', '/media/martin/Disco2/Rns_Data/models/modelo-30-noprocess/PIT-RNS3016/models/model_opt.pth', '/media/martin/Disco2/Rns_Data/models/modelo-30-noprocess/PIT-RNS1529/models/model_opt.pth', '/media/martin/Disco2/Rns_Data/models/modelo-30-noprocess/PIT-RNS7168/models/model_opt.pth', '/media/martin/Disco2/Rns_Data/models/modelo-30-noprocess/PIT-RNS4098/models/model_opt.pth', '/media/martin/Disco2/Rns_Data/models/modelo-30-noprocess/PIT-RNS1836/models/model_opt.pth', '/media/martin/Disco2/Rns_Data/models/modelo-30-noprocess/PIT-RNS9183/models/model_opt.pth', '/media/martin/Disco2/Rns_Data/models/modelo-30-noprocess/PIT-RNS1440/models/model_opt.pth', '/media/martin/Disco2/Rns_Data/models/modelo-30-noprocess/PIT-RNS1713/models/model_opt.pth', '/media/martin/Disco2/Rns_Data/models/modelo-30-noprocess/PIT-RNS9536/models/model_opt.pth', '/media/martin/Disco2/Rns_Data/models/modelo-30-noprocess/PIT-RNS2543/models/model_opt.pth', '/media/martin/Disco2/Rns_Data/models/modelo-30-noprocess/PIT-RNS1438/models/model_opt.pth', '/media/martin/Disco2/Rns_Data/models/modelo-30-noprocess/PIT-RNS1534/models/model_opt.pth', '/media/martin/Disco2/Rns_Data/models/modelo-30-noprocess/PIT-RNS1703/models/model_opt.pth', '/media/martin/Disco2/Rns_Data/models/modelo-30-noprocess/PIT-RNS1556/models/model_opt.pth', '/media/martin/Disco2/Rns_Data/models/modelo-30-noprocess/PIT-RNS1597/models/model_opt.pth', '/media/martin/Disco2/Rns_Data/models/modelo-30-noprocess/PIT-RNS6992/models/model_opt.pth', '/media/martin/Disco2/Rns_Data/models/modelo-30-noprocess/PIT-RNS8326/models/model_opt.pth', '/media/martin/Disco2/Rns_Data/models/modelo-30-noprocess/PIT-RNS2227/models/model_opt.pth', '/media/martin/Disco2/Rns_Data/models/modelo-30-noprocess/PIT-RNS8163/models/model_opt.pth', '/media/martin/Disco2/Rns_Data/models/modelo-30-noprocess/PIT-RNS8973/models/model_opt.pth', '/media/martin/Disco2/Rns_Data/models/modelo-30-noprocess/PIT-RNS6806/models/model_opt.pth', '/media/martin/Disco2/Rns_Data/models/modelo-30-noprocess/PIT-RNS1090/models/model_opt.pth', '/media/martin/Disco2/Rns_Data/models/modelo-30-noprocess/PIT-RNS2368/models/model_opt.pth', '/media/martin/Disco2/Rns_Data/models/modelo-30-noprocess/PIT-RNS6762/models/model_opt.pth', '/media/martin/Disco2/Rns_Data/models/modelo-30-noprocess/PIT-RNS2938/models/model_opt.pth', '/media/martin/Disco2/Rns_Data/models/modelo-30-noprocess/PIT-RNS7525/models/model_opt.pth', '/media/martin/Disco2/Rns_Data/models/modelo-30-noprocess/PIT-RNS0427/models/model_opt.pth', '/media/martin/Disco2/Rns_Data/models/modelo-30-noprocess/PIT-RNS8076/models/model_opt.pth']\n"
     ]
    }
   ],
   "source": [
    "save_models_noprocess = []\n",
    "for s in range(len(patients_noprocess)):\n",
    "    save_models_noprocess.append(save_path_noprocess + patients_noprocess[s] + '/models/'+ 'model_opt.pth')\n",
    "print(save_models_noprocess)"
   ]
  },
  {
   "cell_type": "code",
   "execution_count": 14,
   "metadata": {},
   "outputs": [
    {
     "name": "stdout",
     "output_type": "stream",
     "text": [
      "['/media/martin/Disco2/Rns_Data/models/modelo-30-noprocess/PIT-RNS1603/results/PIT-RNS1603results.npy', '/media/martin/Disco2/Rns_Data/models/modelo-30-noprocess/PIT-RNS6989/results/PIT-RNS6989results.npy', '/media/martin/Disco2/Rns_Data/models/modelo-30-noprocess/PIT-RNS3016/results/PIT-RNS3016results.npy', '/media/martin/Disco2/Rns_Data/models/modelo-30-noprocess/PIT-RNS1529/results/PIT-RNS1529results.npy', '/media/martin/Disco2/Rns_Data/models/modelo-30-noprocess/PIT-RNS7168/results/PIT-RNS7168results.npy', '/media/martin/Disco2/Rns_Data/models/modelo-30-noprocess/PIT-RNS4098/results/PIT-RNS4098results.npy', '/media/martin/Disco2/Rns_Data/models/modelo-30-noprocess/PIT-RNS1836/results/PIT-RNS1836results.npy', '/media/martin/Disco2/Rns_Data/models/modelo-30-noprocess/PIT-RNS9183/results/PIT-RNS9183results.npy', '/media/martin/Disco2/Rns_Data/models/modelo-30-noprocess/PIT-RNS1440/results/PIT-RNS1440results.npy', '/media/martin/Disco2/Rns_Data/models/modelo-30-noprocess/PIT-RNS1713/results/PIT-RNS1713results.npy', '/media/martin/Disco2/Rns_Data/models/modelo-30-noprocess/PIT-RNS9536/results/PIT-RNS9536results.npy', '/media/martin/Disco2/Rns_Data/models/modelo-30-noprocess/PIT-RNS2543/results/PIT-RNS2543results.npy', '/media/martin/Disco2/Rns_Data/models/modelo-30-noprocess/PIT-RNS1438/results/PIT-RNS1438results.npy', '/media/martin/Disco2/Rns_Data/models/modelo-30-noprocess/PIT-RNS1534/results/PIT-RNS1534results.npy', '/media/martin/Disco2/Rns_Data/models/modelo-30-noprocess/PIT-RNS1703/results/PIT-RNS1703results.npy', '/media/martin/Disco2/Rns_Data/models/modelo-30-noprocess/PIT-RNS1556/results/PIT-RNS1556results.npy', '/media/martin/Disco2/Rns_Data/models/modelo-30-noprocess/PIT-RNS1597/results/PIT-RNS1597results.npy', '/media/martin/Disco2/Rns_Data/models/modelo-30-noprocess/PIT-RNS6992/results/PIT-RNS6992results.npy', '/media/martin/Disco2/Rns_Data/models/modelo-30-noprocess/PIT-RNS8326/results/PIT-RNS8326results.npy', '/media/martin/Disco2/Rns_Data/models/modelo-30-noprocess/PIT-RNS2227/results/PIT-RNS2227results.npy', '/media/martin/Disco2/Rns_Data/models/modelo-30-noprocess/PIT-RNS8163/results/PIT-RNS8163results.npy', '/media/martin/Disco2/Rns_Data/models/modelo-30-noprocess/PIT-RNS8973/results/PIT-RNS8973results.npy', '/media/martin/Disco2/Rns_Data/models/modelo-30-noprocess/PIT-RNS6806/results/PIT-RNS6806results.npy', '/media/martin/Disco2/Rns_Data/models/modelo-30-noprocess/PIT-RNS1090/results/PIT-RNS1090results.npy', '/media/martin/Disco2/Rns_Data/models/modelo-30-noprocess/PIT-RNS2368/results/PIT-RNS2368results.npy', '/media/martin/Disco2/Rns_Data/models/modelo-30-noprocess/PIT-RNS6762/results/PIT-RNS6762results.npy', '/media/martin/Disco2/Rns_Data/models/modelo-30-noprocess/PIT-RNS2938/results/PIT-RNS2938results.npy', '/media/martin/Disco2/Rns_Data/models/modelo-30-noprocess/PIT-RNS7525/results/PIT-RNS7525results.npy', '/media/martin/Disco2/Rns_Data/models/modelo-30-noprocess/PIT-RNS0427/results/PIT-RNS0427results.npy', '/media/martin/Disco2/Rns_Data/models/modelo-30-noprocess/PIT-RNS8076/results/PIT-RNS8076results.npy']\n"
     ]
    }
   ],
   "source": [
    "save_results_noprocess = []\n",
    "for s in range(len(patients_noprocess)):\n",
    "    save_results_noprocess.append(save_path_noprocess + patients_noprocess[s] + '/results/'+ patients_noprocess[s]+'results.npy')\n",
    "print(save_results_noprocess)"
   ]
  },
  {
   "cell_type": "code",
   "execution_count": 29,
   "metadata": {},
   "outputs": [
    {
     "data": {
      "text/plain": [
       "'/media/martin/Disco2/Rns_Data/models/modelo-30-noprocess/PIT-RNS0427/models/model_opt.pth'"
      ]
     },
     "execution_count": 29,
     "metadata": {},
     "output_type": "execute_result"
    }
   ],
   "source": [
    "save_models_noprocess[28]"
   ]
  },
  {
   "cell_type": "code",
   "execution_count": 30,
   "metadata": {},
   "outputs": [
    {
     "data": {
      "text/plain": [
       "'/media/martin/Disco2/Rns_Data/models/modelo-30-noprocess/PIT-RNS0427/results/PIT-RNS0427results.npy'"
      ]
     },
     "execution_count": 30,
     "metadata": {},
     "output_type": "execute_result"
    }
   ],
   "source": [
    "save_results_noprocess[28]"
   ]
  },
  {
   "cell_type": "code",
   "execution_count": 17,
   "metadata": {},
   "outputs": [],
   "source": [
    "results_noprocess=[]\n",
    "for s in range(len(save_results_noprocess)):\n",
    "    results_noprocess.append(np.load(save_results_noprocess[s],allow_pickle=True).item())"
   ]
  },
  {
   "cell_type": "code",
   "execution_count": 18,
   "metadata": {},
   "outputs": [
    {
     "name": "stdout",
     "output_type": "stream",
     "text": [
      "dict_keys(['train_losses', 'train_acupr', 'prediction_te', 'prediction_tr', 'hparams', 'threshold', 'train_size'])\n"
     ]
    }
   ],
   "source": [
    "print(results_noprocess[0].keys())"
   ]
  },
  {
   "cell_type": "code",
   "execution_count": 20,
   "metadata": {},
   "outputs": [],
   "source": [
    "prediction_te_noprocess = []\n",
    "for s in range (len(results_noprocess)):\n",
    "    prediction_te_noprocess.append(results_noprocess[s].get('prediction_te'))"
   ]
  },
  {
   "cell_type": "code",
   "execution_count": 21,
   "metadata": {},
   "outputs": [
    {
     "name": "stdout",
     "output_type": "stream",
     "text": [
      "dict_keys(['accuracy', 'f1', 'precision', 'recall', 'y_true', 'y_pred', 't_true', 't_pred', 'l_true', 'l_pred', 'proba', 'MAE_time'])\n"
     ]
    }
   ],
   "source": [
    "print(prediction_te_noprocess[0].keys())"
   ]
  },
  {
   "cell_type": "code",
   "execution_count": 27,
   "metadata": {},
   "outputs": [],
   "source": [
    "accuracy_noprocess = []\n",
    "for s in range (len(prediction_te_noprocess)):\n",
    "    accuracy_noprocess.append(float(prediction_te_noprocess[s].get('accuracy')))\n",
    "    \n",
    "f1_noprocess = []\n",
    "for s in range (len(prediction_te_noprocess)):\n",
    "    f1_noprocess.append(float(prediction_te_noprocess[s].get('f1')))\n",
    "\n",
    "precision_noprocess = []\n",
    "for s in range (len(prediction_te_noprocess)):\n",
    "    precision_noprocess.append(float(prediction_te_noprocess[s].get('precision')))\n",
    "\n",
    "recall_noprocess = []\n",
    "for s in range (len(prediction_te_noprocess)):\n",
    "    recall_noprocess.append(float(prediction_te_noprocess[s].get('recall')))\n",
    "\n",
    "MAE_time_noprocess = []\n",
    "for s in range (len(prediction_te_noprocess)):\n",
    "    MAE_time_noprocess.append(float(prediction_te_noprocess[s].get('MAE_time')))"
   ]
  },
  {
   "cell_type": "code",
   "execution_count": 28,
   "metadata": {},
   "outputs": [
    {
     "data": {
      "text/plain": [
       "28"
      ]
     },
     "execution_count": 28,
     "metadata": {},
     "output_type": "execute_result"
    }
   ],
   "source": [
    "patients_noprocess.index('PIT-RNS0427')"
   ]
  },
  {
   "cell_type": "code",
   "execution_count": 31,
   "metadata": {},
   "outputs": [
    {
     "data": {
      "text/plain": [
       "0.5448370639879776"
      ]
     },
     "execution_count": 31,
     "metadata": {},
     "output_type": "execute_result"
    }
   ],
   "source": [
    "accuracy_noprocess[28]"
   ]
  },
  {
   "cell_type": "code",
   "execution_count": 32,
   "metadata": {},
   "outputs": [
    {
     "data": {
      "text/plain": [
       "0.574189828813074"
      ]
     },
     "execution_count": 32,
     "metadata": {},
     "output_type": "execute_result"
    }
   ],
   "source": [
    "f1_noprocess[28]"
   ]
  },
  {
   "cell_type": "code",
   "execution_count": 33,
   "metadata": {},
   "outputs": [
    {
     "data": {
      "text/plain": [
       "0.6068855218855218"
      ]
     },
     "execution_count": 33,
     "metadata": {},
     "output_type": "execute_result"
    }
   ],
   "source": [
    "precision_noprocess[28]"
   ]
  },
  {
   "cell_type": "code",
   "execution_count": 34,
   "metadata": {},
   "outputs": [
    {
     "data": {
      "text/plain": [
       "0.5448370639879776"
      ]
     },
     "execution_count": 34,
     "metadata": {},
     "output_type": "execute_result"
    }
   ],
   "source": [
    "recall_noprocess[28]"
   ]
  },
  {
   "cell_type": "code",
   "execution_count": 35,
   "metadata": {},
   "outputs": [
    {
     "data": {
      "text/plain": [
       "15.486486486486486"
      ]
     },
     "execution_count": 35,
     "metadata": {},
     "output_type": "execute_result"
    }
   ],
   "source": [
    "MAE_time_noprocess[28]"
   ]
  },
  {
   "cell_type": "code",
   "execution_count": 42,
   "metadata": {},
   "outputs": [],
   "source": [
    "metricas = {\n",
    "            '': ['Accuracy', 'F1', 'Recall', 'Precision', 'MAE'],\n",
    "            'PIT-RNS0427': [accuracy_noprocess[28], f1_noprocess[28], precision_noprocess[28], recall_noprocess[28], MAE_time_noprocess[28]]\n",
    "           }"
   ]
  },
  {
   "cell_type": "code",
   "execution_count": 43,
   "metadata": {},
   "outputs": [],
   "source": [
    "df_results = pd.DataFrame(metricas)"
   ]
  },
  {
   "cell_type": "code",
   "execution_count": 44,
   "metadata": {},
   "outputs": [
    {
     "data": {
      "text/html": [
       "<div>\n",
       "<style scoped>\n",
       "    .dataframe tbody tr th:only-of-type {\n",
       "        vertical-align: middle;\n",
       "    }\n",
       "\n",
       "    .dataframe tbody tr th {\n",
       "        vertical-align: top;\n",
       "    }\n",
       "\n",
       "    .dataframe thead th {\n",
       "        text-align: right;\n",
       "    }\n",
       "</style>\n",
       "<table border=\"1\" class=\"dataframe\">\n",
       "  <thead>\n",
       "    <tr style=\"text-align: right;\">\n",
       "      <th></th>\n",
       "      <th></th>\n",
       "      <th>PIT-RNS0427</th>\n",
       "    </tr>\n",
       "  </thead>\n",
       "  <tbody>\n",
       "    <tr>\n",
       "      <th>0</th>\n",
       "      <td>Accuracy</td>\n",
       "      <td>0.544837</td>\n",
       "    </tr>\n",
       "    <tr>\n",
       "      <th>1</th>\n",
       "      <td>F1</td>\n",
       "      <td>0.574190</td>\n",
       "    </tr>\n",
       "    <tr>\n",
       "      <th>2</th>\n",
       "      <td>Recall</td>\n",
       "      <td>0.606886</td>\n",
       "    </tr>\n",
       "    <tr>\n",
       "      <th>3</th>\n",
       "      <td>Precision</td>\n",
       "      <td>0.544837</td>\n",
       "    </tr>\n",
       "    <tr>\n",
       "      <th>4</th>\n",
       "      <td>MAE</td>\n",
       "      <td>15.486486</td>\n",
       "    </tr>\n",
       "  </tbody>\n",
       "</table>\n",
       "</div>"
      ],
      "text/plain": [
       "              PIT-RNS0427\n",
       "0   Accuracy     0.544837\n",
       "1         F1     0.574190\n",
       "2     Recall     0.606886\n",
       "3  Precision     0.544837\n",
       "4        MAE    15.486486"
      ]
     },
     "execution_count": 44,
     "metadata": {},
     "output_type": "execute_result"
    }
   ],
   "source": [
    "df_results"
   ]
  },
  {
   "cell_type": "code",
   "execution_count": 17,
   "metadata": {},
   "outputs": [
    {
     "data": {
      "text/html": [
       "<div>\n",
       "<style scoped>\n",
       "    .dataframe tbody tr th:only-of-type {\n",
       "        vertical-align: middle;\n",
       "    }\n",
       "\n",
       "    .dataframe tbody tr th {\n",
       "        vertical-align: top;\n",
       "    }\n",
       "\n",
       "    .dataframe thead th {\n",
       "        text-align: right;\n",
       "    }\n",
       "</style>\n",
       "<table border=\"1\" class=\"dataframe\">\n",
       "  <thead>\n",
       "    <tr style=\"text-align: right;\">\n",
       "      <th></th>\n",
       "      <th></th>\n",
       "      <th>PIT-RNS0427</th>\n",
       "    </tr>\n",
       "  </thead>\n",
       "  <tbody>\n",
       "    <tr>\n",
       "      <th>0</th>\n",
       "      <td>Accuracy</td>\n",
       "      <td>0.552019</td>\n",
       "    </tr>\n",
       "    <tr>\n",
       "      <th>1</th>\n",
       "      <td>F1</td>\n",
       "      <td>0.549584</td>\n",
       "    </tr>\n",
       "    <tr>\n",
       "      <th>2</th>\n",
       "      <td>Recall</td>\n",
       "      <td>0.547170</td>\n",
       "    </tr>\n",
       "    <tr>\n",
       "      <th>3</th>\n",
       "      <td>Precision</td>\n",
       "      <td>0.552019</td>\n",
       "    </tr>\n",
       "    <tr>\n",
       "      <th>4</th>\n",
       "      <td>MAE</td>\n",
       "      <td>15.000000</td>\n",
       "    </tr>\n",
       "  </tbody>\n",
       "</table>\n",
       "</div>"
      ],
      "text/plain": [
       "              PIT-RNS0427\n",
       "0   Accuracy     0.552019\n",
       "1         F1     0.549584\n",
       "2     Recall     0.547170\n",
       "3  Precision     0.552019\n",
       "4        MAE    15.000000"
      ]
     },
     "execution_count": 17,
     "metadata": {},
     "output_type": "execute_result"
    }
   ],
   "source": [
    "df_results_1"
   ]
  }
 ],
 "metadata": {
  "kernelspec": {
   "display_name": "env_thalamus",
   "language": "python",
   "name": "python3"
  },
  "language_info": {
   "codemirror_mode": {
    "name": "ipython",
    "version": 3
   },
   "file_extension": ".py",
   "mimetype": "text/x-python",
   "name": "python",
   "nbconvert_exporter": "python",
   "pygments_lexer": "ipython3",
   "version": "3.10.12"
  }
 },
 "nbformat": 4,
 "nbformat_minor": 2
}
