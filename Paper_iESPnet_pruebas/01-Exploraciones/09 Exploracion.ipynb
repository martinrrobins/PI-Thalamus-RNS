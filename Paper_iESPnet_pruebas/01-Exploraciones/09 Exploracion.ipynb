{
 "cells": [
  {
   "cell_type": "markdown",
   "metadata": {},
   "source": [
    "# Creación de función que convierte el iEEG en esprectrograma y label continuo"
   ]
  },
  {
   "cell_type": "code",
   "execution_count": 51,
   "metadata": {},
   "outputs": [],
   "source": [
    "import torch\n",
    "import librosa\n",
    "\n",
    "import numpy                 as np\n",
    "import pandas                as pd\n",
    "import utilit_espectrograms  as ue\n",
    "import torchaudio.transforms as T\n",
    "\n",
    "from scipy import fft        as sp_fft"
   ]
  },
  {
   "cell_type": "code",
   "execution_count": 52,
   "metadata": {},
   "outputs": [],
   "source": [
    "root_dir       = '/media/martin/Disco2/Rns_Data/PITT_PI_EEG/'\n",
    "meta_data_file = '/media/martin/Disco2/Rns_Data/PITT_PI_EEG/METADATA/allfiles_metadata.csv'\n",
    "\n",
    "df_meta        = pd.read_csv(meta_data_file)\n",
    "patients       = df_meta['rns_id'].unique().tolist()\n",
    "s              = 0\n",
    "\n",
    "train_df       = df_meta.copy()\n",
    "train_df.drop(train_df[train_df['rns_id'] == patients[s]].index, inplace = True)"
   ]
  },
  {
   "cell_type": "code",
   "execution_count": 53,
   "metadata": {},
   "outputs": [],
   "source": [
    "# nombre de los datos\n",
    "\n",
    "iEEG_arr = np.asarray(train_df.iloc[:, 1])"
   ]
  },
  {
   "cell_type": "code",
   "execution_count": 55,
   "metadata": {},
   "outputs": [],
   "source": [
    "idx = 11\n",
    "\n",
    "# Get image name from the pandas df\n",
    "file_name = root_dir + iEEG_arr[idx] + '.npy'\n",
    "\n",
    "dic   = np.load(file_name, allow_pickle=True)\n",
    "data  = dic.item().get('iEEG')\n",
    "label = dic.item().get('label_time')"
   ]
  },
  {
   "cell_type": "code",
   "execution_count": 56,
   "metadata": {},
   "outputs": [
    {
     "name": "stdout",
     "output_type": "stream",
     "text": [
      "iEEG: torch.Size([4, 22500]) \n",
      "\n",
      "label: (2,)\n"
     ]
    }
   ],
   "source": [
    "print('iEEG:',data.shape,'\\n')\n",
    "print('label:',label.shape)"
   ]
  },
  {
   "cell_type": "markdown",
   "metadata": {},
   "source": [
    "## Transformación a espectrograma"
   ]
  },
  {
   "cell_type": "code",
   "execution_count": 57,
   "metadata": {},
   "outputs": [],
   "source": [
    "def get_spectrogram_2(signal, fs, n_fft = 256, win_len = None, hop_len = None, power = 2.0):\n",
    "\n",
    "    wind_dic={'periodic': True, 'beta': 10}\n",
    "\n",
    "    spectrogram = T.Spectrogram(\n",
    "                                n_fft=n_fft, \n",
    "                                win_length=win_len,\n",
    "                                hop_length=hop_len, \n",
    "                                pad=0,\n",
    "                                window_fn =torch.kaiser_window,\n",
    "                                normalized=False,\n",
    "                                power=power, \n",
    "                                wkwargs=wind_dic\n",
    "                               )\n",
    "\n",
    "    time   = np.arange(win_len/2, signal.shape[-1] + win_len/2 + 1, win_len - (win_len-hop_len))/float(fs)\n",
    "    time  -= (win_len/2) / float(fs)\n",
    "\n",
    "    freqs  = sp_fft.rfftfreq(n_fft, 1/fs)\n",
    "\n",
    "    spec   = spectrogram(signal)\n",
    "\n",
    "    # spec to DB\n",
    "    spec   = librosa.power_to_db(spec, top_db=top_db)\n",
    "\n",
    "    # save up to 60 Hz\n",
    "    idx_60 = np.where(freqs <= 60)[0][-1]\n",
    "    spec   = spec[:, :idx_60,:]\n",
    "\n",
    "    return spec, time, freqs"
   ]
  },
  {
   "cell_type": "code",
   "execution_count": 58,
   "metadata": {},
   "outputs": [],
   "source": [
    "# Definición de variables para crear el espectrograma \n",
    "\n",
    "ECOG_SAMPLE_RATE = 250\n",
    "ECOG_CHANNELS    = 4\n",
    "TT               = 1000 # window length\n",
    "SPEC_WIN_LEN     = int(ECOG_SAMPLE_RATE * TT / 1000 ) # win size\n",
    "overlap          = 500 \n",
    "SPEC_HOP_LEN     = int(ECOG_SAMPLE_RATE * (TT - overlap) / 1000) # Length of hop between windows.\n",
    "SPEC_NFFT        = 500  # to see changes in 0.5 reso\n",
    "top_db           = 40.0\n",
    "\n",
    "spec, t, f = get_spectrogram_2(data, ECOG_SAMPLE_RATE, SPEC_NFFT, SPEC_WIN_LEN, SPEC_HOP_LEN)"
   ]
  },
  {
   "cell_type": "markdown",
   "metadata": {},
   "source": [
    "## label continuo"
   ]
  },
  {
   "cell_type": "code",
   "execution_count": 59,
   "metadata": {},
   "outputs": [],
   "source": [
    "time  = np.linspace(0, 90, 181)"
   ]
  },
  {
   "cell_type": "markdown",
   "metadata": {},
   "source": [
    "Para algun otra prueba estaria bueno pasar el dato del tiempo como punto flotante y no como un entero para que pueda tomar los valores .5. Lo pase de esta forma para no perder informacion"
   ]
  },
  {
   "cell_type": "code",
   "execution_count": 60,
   "metadata": {},
   "outputs": [],
   "source": [
    "label_time = np.zeros(181)\n",
    "\n",
    "if label[0] == 1:\n",
    "    idx_t = np.where(time <= label[1])[0][-1]\n",
    "    label_time[idx_t]=1"
   ]
  },
  {
   "cell_type": "code",
   "execution_count": 63,
   "metadata": {},
   "outputs": [],
   "source": [
    "class smoothing_label(object):\n",
    "    def __call__(self, label, n=5, std=2.5):\n",
    "        \"\"\"\"apply label smoothing.\"\"\"\n",
    "        label_time_smooth = label.copy()\n",
    "        # for idx in range(len(label)):\n",
    "        leng  = len(label)\n",
    "        idx_t = np.where(label==1)[0]\n",
    "        \n",
    "        if len(idx_t)!=0:\n",
    "            if leng  - idx_t < n:\n",
    "                n = leng  - idx_t\n",
    "                aux = np.arange(idx_t-n,idx_t+n,1)\n",
    "            elif idx_t - n < 0 : # in the very begining\n",
    "                n = n + (idx_t - n)\n",
    "                aux = np.arange(idx_t-n,idx_t+n,1)\n",
    "            else:\n",
    "                aux = np.arange(idx_t-n,idx_t+n,1)\n",
    "                \n",
    "            if aux.size!=0:                \n",
    "                gaus =np.exp(-np.power(aux - idx_t, 2.) / (2 * np.power(std, 2.)))\n",
    "                label_time_smooth[aux] = gaus\n",
    "            else:\n",
    "                label_time_smooth[idx_t] = 1\n",
    "        return label_time_smooth"
   ]
  },
  {
   "cell_type": "code",
   "execution_count": 64,
   "metadata": {},
   "outputs": [],
   "source": [
    "target_transform = smoothing_label()"
   ]
  },
  {
   "cell_type": "code",
   "execution_count": 65,
   "metadata": {},
   "outputs": [],
   "source": [
    "label = target_transform(label_time)"
   ]
  },
  {
   "cell_type": "code",
   "execution_count": 66,
   "metadata": {},
   "outputs": [
    {
     "data": {
      "text/plain": [
       "array([0., 0., 0., 0., 0., 0., 0., 0., 0., 0., 0., 0., 0., 0., 0., 0., 0.,\n",
       "       0., 0., 0., 0., 0., 0., 0., 0., 0., 0., 0., 0., 0., 0., 0., 0., 0.,\n",
       "       0., 0., 0., 0., 0., 0., 0., 0., 0., 0., 0., 0., 0., 0., 0., 0., 0.,\n",
       "       0., 0., 0., 0., 0., 0., 0., 0., 0., 0., 0., 0., 0., 0., 0., 0., 0.,\n",
       "       0., 0., 0., 0., 0., 0., 0., 0., 0., 0., 0., 0., 0., 0., 0., 0., 0.,\n",
       "       0., 0., 0., 0., 0., 0., 0., 0., 0., 0., 0., 0., 0., 0., 0., 0., 0.,\n",
       "       0., 0., 0., 0., 0., 0., 0., 0., 0., 0., 0., 0., 0., 0., 0., 0., 0.,\n",
       "       0., 0., 0., 0., 0., 0., 0., 0., 0., 0., 0., 0., 0., 0., 0., 0., 0.,\n",
       "       0., 0., 0., 0., 0., 0., 0., 0., 0., 0., 0., 0., 0., 0., 0., 0., 0.,\n",
       "       0., 0., 0., 0., 0., 0., 0., 0., 0., 0., 0., 0., 0., 0., 0., 0., 0.,\n",
       "       0., 0., 0., 0., 0., 0., 0., 0., 0., 0., 0.])"
      ]
     },
     "execution_count": 66,
     "metadata": {},
     "output_type": "execute_result"
    }
   ],
   "source": [
    "label"
   ]
  }
 ],
 "metadata": {
  "kernelspec": {
   "display_name": "env_thalamus",
   "language": "python",
   "name": "python3"
  },
  "language_info": {
   "codemirror_mode": {
    "name": "ipython",
    "version": 3
   },
   "file_extension": ".py",
   "mimetype": "text/x-python",
   "name": "python",
   "nbconvert_exporter": "python",
   "pygments_lexer": "ipython3",
   "version": "3.10.12"
  }
 },
 "nbformat": 4,
 "nbformat_minor": 2
}
