{
 "cells": [
  {
   "cell_type": "markdown",
   "metadata": {},
   "source": [
    "# Cración de dataset con datos de electroencefalografía"
   ]
  },
  {
   "cell_type": "code",
   "execution_count": 80,
   "metadata": {},
   "outputs": [],
   "source": [
    "import pandas as pd\n",
    "import sys\n",
    "import os\n",
    "import torch\n",
    "import torchaudio.transforms as T\n",
    "import numpy as np\n",
    "import mne\n",
    "import librosa\n",
    "import utilit_espectrograms as ue"
   ]
  },
  {
   "cell_type": "code",
   "execution_count": 81,
   "metadata": {},
   "outputs": [],
   "source": [
    "DATA_DIR        = '/media/martin/Disco2/Rns_Data/RNS_ESPM_datatransfer/Data'\n",
    "OUTDATA_DIR     = '/media/martin/Disco2/Rns_Data/PITT_PI_EEG/'\n",
    "OUTMETADATA_DIR = '/media/martin/Disco2/Rns_Data/PITT_PI_EEG/METADATA/'"
   ]
  },
  {
   "cell_type": "code",
   "execution_count": 82,
   "metadata": {},
   "outputs": [],
   "source": [
    "# crear las carpetas en caso de que no existan\n",
    "\n",
    "if not os.path.exists(OUTDATA_DIR):\n",
    "    os.makedirs(OUTDATA_DIR)\n",
    "\n",
    "if not os.path.exists(OUTMETADATA_DIR):\n",
    "    os.makedirs(OUTMETADATA_DIR)"
   ]
  },
  {
   "cell_type": "code",
   "execution_count": 83,
   "metadata": {},
   "outputs": [
    {
     "name": "stdout",
     "output_type": "stream",
     "text": [
      "['PIT-RNS1603', 'PIT-RNS6989', 'PIT-RNS3016', 'PIT-RNS1529', 'PIT-RNS7168', 'PIT-RNS4098', 'PIT-RNS1836', 'PIT-RNS9183', 'PIT-RNS1440', 'PIT-RNS1713', 'PIT-RNS9536', 'PIT-RNS2543', 'PIT-RNS1438', 'PIT-RNS1534', 'PIT-RNS9793', 'PIT-RNS1703', 'PIT-RNS1556', 'PIT-RNS1597', 'PIT-RNS6992', 'PIT-RNS8326', 'PIT-RNS2227', 'PIT-RNS8163', 'PIT-RNS4998', 'PIT-RNS8973', 'PIT-RNS6806', 'PIT-RNS1090', 'PIT-RNS2368', 'PIT-RNS6762', 'PIT-RNS2938', 'PIT-RNS7525', 'PIT-RNS0427', 'PIT-RNS8076']\n",
      "\n",
      "32\n"
     ]
    }
   ],
   "source": [
    "# lista con ids de pacientes\n",
    "\n",
    "RNSIDS = ue.get_subfolders(DATA_DIR)\n",
    "\n",
    "print(RNSIDS)\n",
    "print()\n",
    "print(len(RNSIDS))"
   ]
  },
  {
   "cell_type": "code",
   "execution_count": 89,
   "metadata": {},
   "outputs": [],
   "source": [
    "df = pd.DataFrame(columns=['rns_id', 'data', 'label', 'time'])"
   ]
  },
  {
   "cell_type": "code",
   "execution_count": 90,
   "metadata": {},
   "outputs": [],
   "source": [
    "s      = 0\n",
    "nepoch = 1\n",
    "nfile  = 0"
   ]
  },
  {
   "cell_type": "code",
   "execution_count": 91,
   "metadata": {},
   "outputs": [],
   "source": [
    "data_files  = ue.get_data_files(DATA_DIR, RNSIDS[s], Verbose=False)\n",
    "annot_files = ue.get_annot_files(DATA_DIR, RNSIDS[s], Verbose=False)"
   ]
  },
  {
   "cell_type": "code",
   "execution_count": 107,
   "metadata": {},
   "outputs": [
    {
     "name": "stdout",
     "output_type": "stream",
     "text": [
      "Extracting EDF parameters from /media/martin/Disco2/Rns_Data/RNS_ESPM_datatransfer/Data/PIT-RNS1603/PIT-RNS1603_PE20150909-1.EDF...\n",
      "EDF file detected\n",
      "Setting channel info structure...\n",
      "Creating raw.info structure...\n"
     ]
    },
    {
     "data": {
      "text/plain": [
       "torch.Size([4, 22500])"
      ]
     },
     "execution_count": 107,
     "metadata": {},
     "output_type": "execute_result"
    }
   ],
   "source": [
    "events           = ue.get_events(annot_files[nepoch])\n",
    "X, labels, times = ue.get_epochs_zeropad_all(data_files[nepoch], events)\n",
    "\n",
    "[nt, nc, ns] = np.shape(X)  \n",
    "\n",
    "hosp_id, subject_id, PE_id = ue.get_patient_PE(data_files[nepoch], RNSIDS[s])\n",
    "\n",
    "file   = X[nfile, :, :]\n",
    "signal = torch.from_numpy(file)\n",
    "signal = (signal - signal.mean()) / signal.std()\n",
    "\n",
    "signal.shape"
   ]
  },
  {
   "cell_type": "code",
   "execution_count": 108,
   "metadata": {},
   "outputs": [
    {
     "name": "stdout",
     "output_type": "stream",
     "text": [
      "Extracting EDF parameters from /media/martin/Disco2/Rns_Data/RNS_ESPM_datatransfer/Data/PIT-RNS1603/PIT-RNS1603_PE20150909-1.EDF...\n",
      "EDF file detected\n",
      "Setting channel info structure...\n",
      "Creating raw.info structure...\n"
     ]
    }
   ],
   "source": [
    "label_time = np.zeros((signal.shape[1],))\n",
    "\n",
    "# frecuencia de muestreo\n",
    "raw    = mne.io.read_raw_edf(data_files[nepoch])\n",
    "sf     = raw.info['sfreq']\n",
    "\n",
    "times  = times * sf\n",
    "indice = times[times != 0]\n",
    "indice = [int(float(x)) for x in indice]\n",
    "for i in indice:\n",
    "    label_time[i]=1"
   ]
  },
  {
   "cell_type": "code",
   "execution_count": null,
   "metadata": {},
   "outputs": [],
   "source": [
    "for s in range(len(RNSIDS)):\n",
    "    \n",
    "    print('Running subject ' + RNSIDS[s] + ' [s]: ' + str(s))\n",
    "    data_files  = ue.get_data_files(DATA_DIR, RNSIDS[s], Verbose=False)\n",
    "    annot_files = ue.get_annot_files(DATA_DIR, RNSIDS[s], Verbose=False)\n",
    "\n",
    "    for nepoch in range(len(data_files)):\n",
    "\n",
    "        events           = ue.get_events(annot_files[nepoch])\n",
    "        X, labels, times = ue.get_epochs_zeropad_all(data_files[nepoch], events)\n",
    "\n",
    "        [nt, nc, ns] = np.shape(X)        \n",
    "\n",
    "        hosp_id, subject_id, PE_id = ue.get_patient_PE(data_files[nepoch], RNSIDS[s])\n",
    "\n",
    "        for nfile in range(nt):\n",
    "            file = X[nfile, :, :]\n",
    "            signal = torch.from_numpy(file)\n",
    "\n",
    "            # normalize the waveform\n",
    "            signal = (signal - signal.mean()) / signal.std()\n",
    "\n",
    "            # label time\n",
    "            label_time = np.zeros((signal.shape[2],))\n",
    "                \n",
    "            if labels[nfile] !=0:\n",
    "                idx_t = np.where(t<=times[nfile])[0][-1]\n",
    "                label_time[idx_t]=1\n",
    "\n",
    "            data = {'iEEG': signal, 'label': label_time}\n",
    "\n",
    "            file_name = hosp_id + '_' + subject_id + '_' + PE_id + '_E' + str(nfile)\n",
    "\n",
    "            df_aux = {  \n",
    "                        'rns_id': hosp_id + '-' + subject_id, \n",
    "                        'data'  : file_name,\n",
    "                        'label' : labels[nfile],\n",
    "                        'time'  : times[nfile]\n",
    "                     }\n",
    "            \n",
    "            df = pd.concat([df, pd.DataFrame([df_aux])], ignore_index=True)\n",
    "\n",
    "            np.save(OUTDATA_DIR + file_name, data)\n",
    "\n",
    "    df.to_csv(OUTMETADATA_DIR + 'allfiles_metadata.csv', index=False)"
   ]
  }
 ],
 "metadata": {
  "kernelspec": {
   "display_name": "env_thalamus",
   "language": "python",
   "name": "python3"
  },
  "language_info": {
   "codemirror_mode": {
    "name": "ipython",
    "version": 3
   },
   "file_extension": ".py",
   "mimetype": "text/x-python",
   "name": "python",
   "nbconvert_exporter": "python",
   "pygments_lexer": "ipython3",
   "version": "3.10.12"
  }
 },
 "nbformat": 4,
 "nbformat_minor": 2
}
