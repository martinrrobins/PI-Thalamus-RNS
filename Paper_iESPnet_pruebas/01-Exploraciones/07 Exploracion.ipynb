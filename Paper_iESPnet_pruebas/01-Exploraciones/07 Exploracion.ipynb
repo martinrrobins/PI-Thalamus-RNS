{
 "cells": [
  {
   "cell_type": "markdown",
   "metadata": {},
   "source": [
    "# Cración de dataset con datos de electroencefalografía"
   ]
  },
  {
   "cell_type": "code",
   "execution_count": 1,
   "metadata": {},
   "outputs": [],
   "source": [
    "import pandas as pd\n",
    "import sys\n",
    "import os\n",
    "import torch\n",
    "import torchaudio.transforms as T\n",
    "import numpy as np\n",
    "import mne\n",
    "import librosa\n",
    "import utilit_espectrograms as ue"
   ]
  },
  {
   "cell_type": "code",
   "execution_count": 2,
   "metadata": {},
   "outputs": [],
   "source": [
    "DATA_DIR        = '/media/martin/Disco2/Rns_Data/RNS_ESPM_datatransfer/Data'\n",
    "OUTDATA_DIR     = '/media/martin/Disco2/Rns_Data/PITT_PI_DATA/'\n",
    "OUTMETADATA_DIR = '/media/martin/Disco2/Rns_Data/PITT_PI_DATA/METADATA/'"
   ]
  },
  {
   "cell_type": "code",
   "execution_count": 3,
   "metadata": {},
   "outputs": [],
   "source": [
    "# crear las carpetas en caso de que no existan\n",
    "\n",
    "if not os.path.exists(OUTDATA_DIR):\n",
    "    os.makedirs(OUTDATA_DIR)\n",
    "\n",
    "if not os.path.exists(OUTMETADATA_DIR):\n",
    "    os.makedirs(OUTMETADATA_DIR)"
   ]
  },
  {
   "cell_type": "code",
   "execution_count": 4,
   "metadata": {},
   "outputs": [],
   "source": [
    "# lista con ids de pacientes\n",
    "\n",
    "RNSIDS = ue.get_subfolders(DATA_DIR)"
   ]
  },
  {
   "cell_type": "code",
   "execution_count": 5,
   "metadata": {},
   "outputs": [],
   "source": [
    "df = pd.DataFrame(columns=['rns_id', 'data', 'label', 'time'])"
   ]
  },
  {
   "cell_type": "markdown",
   "metadata": {},
   "source": [
    "ejemplo de un nfile"
   ]
  },
  {
   "cell_type": "code",
   "execution_count": 15,
   "metadata": {},
   "outputs": [],
   "source": [
    "s      = 1\n",
    "nepoch = 3\n",
    "#nfile  = 23"
   ]
  },
  {
   "cell_type": "code",
   "execution_count": 16,
   "metadata": {},
   "outputs": [],
   "source": [
    "data_files  = ue.get_data_files(DATA_DIR, RNSIDS[s], Verbose=False)\n",
    "annot_files = ue.get_annot_files(DATA_DIR, RNSIDS[s], Verbose=False)"
   ]
  },
  {
   "cell_type": "code",
   "execution_count": 17,
   "metadata": {},
   "outputs": [
    {
     "data": {
      "text/plain": [
       "['/media/martin/Disco2/Rns_Data/RNS_ESPM_datatransfer/Data/PIT-RNS6989/PIT-RNS6989_PE20190319-1.EDF',\n",
       " '/media/martin/Disco2/Rns_Data/RNS_ESPM_datatransfer/Data/PIT-RNS6989/PIT-RNS6989_PE20190423-1.EDF',\n",
       " '/media/martin/Disco2/Rns_Data/RNS_ESPM_datatransfer/Data/PIT-RNS6989/PIT-RNS6989_PE20190507-1.EDF',\n",
       " '/media/martin/Disco2/Rns_Data/RNS_ESPM_datatransfer/Data/PIT-RNS6989/PIT-RNS6989_PE20190625-1.EDF',\n",
       " '/media/martin/Disco2/Rns_Data/RNS_ESPM_datatransfer/Data/PIT-RNS6989/PIT-RNS6989_PE20190708-1.EDF',\n",
       " '/media/martin/Disco2/Rns_Data/RNS_ESPM_datatransfer/Data/PIT-RNS6989/PIT-RNS6989_PE20190709-1.EDF',\n",
       " '/media/martin/Disco2/Rns_Data/RNS_ESPM_datatransfer/Data/PIT-RNS6989/PIT-RNS6989_PE20190903-1.EDF',\n",
       " '/media/martin/Disco2/Rns_Data/RNS_ESPM_datatransfer/Data/PIT-RNS6989/PIT-RNS6989_PE20190903-2.EDF',\n",
       " '/media/martin/Disco2/Rns_Data/RNS_ESPM_datatransfer/Data/PIT-RNS6989/PIT-RNS6989_PE20191015-1.EDF',\n",
       " '/media/martin/Disco2/Rns_Data/RNS_ESPM_datatransfer/Data/PIT-RNS6989/PIT-RNS6989_PE20191104-1.EDF',\n",
       " '/media/martin/Disco2/Rns_Data/RNS_ESPM_datatransfer/Data/PIT-RNS6989/PIT-RNS6989_PE20200225-1.EDF',\n",
       " '/media/martin/Disco2/Rns_Data/RNS_ESPM_datatransfer/Data/PIT-RNS6989/PIT-RNS6989_PE20200721-1.EDF']"
      ]
     },
     "execution_count": 17,
     "metadata": {},
     "output_type": "execute_result"
    }
   ],
   "source": [
    "data_files"
   ]
  },
  {
   "cell_type": "code",
   "execution_count": 18,
   "metadata": {},
   "outputs": [
    {
     "data": {
      "text/plain": [
       "'PIT-RNS6989'"
      ]
     },
     "execution_count": 18,
     "metadata": {},
     "output_type": "execute_result"
    }
   ],
   "source": [
    "RNSIDS[s]"
   ]
  },
  {
   "cell_type": "code",
   "execution_count": 19,
   "metadata": {},
   "outputs": [
    {
     "name": "stdout",
     "output_type": "stream",
     "text": [
      "Extracting EDF parameters from /media/martin/Disco2/Rns_Data/RNS_ESPM_datatransfer/Data/PIT-RNS6989/PIT-RNS6989_PE20190625-1.EDF...\n",
      "EDF file detected\n",
      "Setting channel info structure...\n",
      "Creating raw.info structure...\n"
     ]
    }
   ],
   "source": [
    "# signal\n",
    "events  = ue.get_events(annot_files[nepoch])\n",
    "short_file, time2pad, num_stim_samples= ue.get_padded_and_estim_time(data_files[nepoch], events)"
   ]
  },
  {
   "cell_type": "code",
   "execution_count": 20,
   "metadata": {},
   "outputs": [
    {
     "data": {
      "text/plain": [
       "5"
      ]
     },
     "execution_count": 20,
     "metadata": {},
     "output_type": "execute_result"
    }
   ],
   "source": [
    "short_file"
   ]
  },
  {
   "cell_type": "code",
   "execution_count": 21,
   "metadata": {},
   "outputs": [
    {
     "data": {
      "text/plain": [
       "[0.196, 0.164, 0.076, 0.088, 0.10400000000000001]"
      ]
     },
     "execution_count": 21,
     "metadata": {},
     "output_type": "execute_result"
    }
   ],
   "source": [
    "time2pad"
   ]
  },
  {
   "cell_type": "code",
   "execution_count": 22,
   "metadata": {},
   "outputs": [
    {
     "data": {
      "text/plain": [
       "np.float64(3.9737024999999995)"
      ]
     },
     "execution_count": 22,
     "metadata": {},
     "output_type": "execute_result"
    }
   ],
   "source": [
    "num_stim_samples"
   ]
  },
  {
   "cell_type": "code",
   "execution_count": 14,
   "metadata": {},
   "outputs": [
    {
     "ename": "NameError",
     "evalue": "name 'label_time' is not defined",
     "output_type": "error",
     "traceback": [
      "\u001b[0;31m---------------------------------------------------------------------------\u001b[0m",
      "\u001b[0;31mNameError\u001b[0m                                 Traceback (most recent call last)",
      "Cell \u001b[0;32mIn[14], line 1\u001b[0m\n\u001b[0;32m----> 1\u001b[0m \u001b[43mlabel_time\u001b[49m\u001b[38;5;241m.\u001b[39mastype(np\u001b[38;5;241m.\u001b[39mfloat32)\n",
      "\u001b[0;31mNameError\u001b[0m: name 'label_time' is not defined"
     ]
    }
   ],
   "source": [
    "label_time.astype(np.float32)"
   ]
  },
  {
   "cell_type": "markdown",
   "metadata": {},
   "source": [
    "fin ejemplo de un nfile"
   ]
  },
  {
   "cell_type": "code",
   "execution_count": null,
   "metadata": {},
   "outputs": [],
   "source": [
    "for s in range(len(RNSIDS)):\n",
    "    \n",
    "    print('Running subject ' + RNSIDS[s] + ' [s]: ' + str(s))\n",
    "    data_files  = ue.get_data_files(DATA_DIR, RNSIDS[s], Verbose=False)\n",
    "    annot_files = ue.get_annot_files(DATA_DIR, RNSIDS[s], Verbose=False)\n",
    "\n",
    "    for nepoch in range(len(data_files)):\n",
    "\n",
    "        events                                         = ue.get_events(annot_files[nepoch])\n",
    "        short_file, time2pad, num_stim_samples, n_stim = ue.get_padded_and_estim_time(data_files[nepoch], events)\n",
    "\n",
    "        [nt, nc, ns] = np.shape(X)        \n",
    "\n",
    "        hosp_id, subject_id, PE_id = ue.get_patient_PE(data_files[nepoch], RNSIDS[s])\n",
    "\n",
    "        for nfile in range(nt):\n",
    "            file   = X[nfile, :, :]\n",
    "            signal = torch.from_numpy(file)\n",
    "            signal = (signal - signal.mean()) / signal.std()\n",
    "            signal = signal.to(torch.float32)\n",
    "\n",
    "            # label\n",
    "            label_time = np.zeros(2)\n",
    "            label_time[0] = labels[nfile]\n",
    "            label_time[1] = times[nfile]\n",
    "            label_time.astype(np.float32)\n",
    "\n",
    "            data      = {'iEEG': signal, 'label_time': label_time}\n",
    "            file_name = hosp_id + '_' + subject_id + '_' + PE_id + '_E' + str(nfile)\n",
    "\n",
    "            df_aux = {  \n",
    "                        'rns_id': hosp_id + '-' + subject_id, \n",
    "                        'data'  : file_name,\n",
    "                        'label' : labels[nfile],\n",
    "                        'time'  : times[nfile]\n",
    "                     }\n",
    "            \n",
    "            df = pd.concat([df, pd.DataFrame([df_aux])], ignore_index=True)\n",
    "\n",
    "            np.save(OUTDATA_DIR + file_name, data)\n",
    "\n",
    "    df.to_csv(OUTMETADATA_DIR + 'allfiles_metadata.csv', index=False)"
   ]
  }
 ],
 "metadata": {
  "kernelspec": {
   "display_name": "Python (env_thalamus)",
   "language": "python",
   "name": "env_thalamus"
  },
  "language_info": {
   "codemirror_mode": {
    "name": "ipython",
    "version": 3
   },
   "file_extension": ".py",
   "mimetype": "text/x-python",
   "name": "python",
   "nbconvert_exporter": "python",
   "pygments_lexer": "ipython3",
   "version": "3.10.12"
  }
 },
 "nbformat": 4,
 "nbformat_minor": 2
}
