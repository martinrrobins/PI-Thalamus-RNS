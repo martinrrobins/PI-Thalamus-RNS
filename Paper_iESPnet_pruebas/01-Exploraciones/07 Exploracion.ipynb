{
 "cells": [
  {
   "cell_type": "markdown",
   "metadata": {},
   "source": [
    "# Cración de dataset con datos de electroencefalografía"
   ]
  },
  {
   "cell_type": "code",
   "execution_count": 27,
   "metadata": {},
   "outputs": [],
   "source": [
    "import pandas as pd\n",
    "import sys\n",
    "import os\n",
    "import torch\n",
    "import torchaudio.transforms as T\n",
    "import numpy as np\n",
    "import mne\n",
    "import librosa\n",
    "import utilit_espectrograms as ue"
   ]
  },
  {
   "cell_type": "code",
   "execution_count": 28,
   "metadata": {},
   "outputs": [],
   "source": [
    "DATA_DIR        = '/media/martin/Disco2/Rns_Data/RNS_ESPM_datatransfer/Data'\n",
    "OUTDATA_DIR     = '/media/martin/Disco2/Rns_Data/PITT_PI_EEG/'\n",
    "OUTMETADATA_DIR = '/media/martin/Disco2/Rns_Data/PITT_PI_EEG/METADATA/'"
   ]
  },
  {
   "cell_type": "code",
   "execution_count": 29,
   "metadata": {},
   "outputs": [],
   "source": [
    "# crear las carpetas en caso de que no existan\n",
    "\n",
    "if not os.path.exists(OUTDATA_DIR):\n",
    "    os.makedirs(OUTDATA_DIR)\n",
    "\n",
    "if not os.path.exists(OUTMETADATA_DIR):\n",
    "    os.makedirs(OUTMETADATA_DIR)"
   ]
  },
  {
   "cell_type": "code",
   "execution_count": 30,
   "metadata": {},
   "outputs": [],
   "source": [
    "# lista con ids de pacientes\n",
    "\n",
    "RNSIDS = ue.get_subfolders(DATA_DIR)"
   ]
  },
  {
   "cell_type": "code",
   "execution_count": 31,
   "metadata": {},
   "outputs": [],
   "source": [
    "df = pd.DataFrame(columns=['rns_id', 'data', 'label', 'time'])"
   ]
  },
  {
   "cell_type": "markdown",
   "metadata": {},
   "source": [
    "ejemplo de un nfile"
   ]
  },
  {
   "cell_type": "code",
   "execution_count": 43,
   "metadata": {},
   "outputs": [],
   "source": [
    "s      = 0\n",
    "nepoch = 1\n",
    "nfile  = 23"
   ]
  },
  {
   "cell_type": "code",
   "execution_count": 44,
   "metadata": {},
   "outputs": [],
   "source": [
    "data_files  = ue.get_data_files(DATA_DIR, RNSIDS[s], Verbose=False)\n",
    "annot_files = ue.get_annot_files(DATA_DIR, RNSIDS[s], Verbose=False)"
   ]
  },
  {
   "cell_type": "code",
   "execution_count": 47,
   "metadata": {},
   "outputs": [
    {
     "data": {
      "text/plain": [
       "'PIT-RNS8973'"
      ]
     },
     "execution_count": 47,
     "metadata": {},
     "output_type": "execute_result"
    }
   ],
   "source": [
    "RNSIDS[23]"
   ]
  },
  {
   "cell_type": "code",
   "execution_count": 45,
   "metadata": {},
   "outputs": [
    {
     "name": "stdout",
     "output_type": "stream",
     "text": [
      "Extracting EDF parameters from /media/martin/Disco2/Rns_Data/RNS_ESPM_datatransfer/Data/PIT-RNS1603/PIT-RNS1603_PE20150909-1.EDF...\n",
      "EDF file detected\n",
      "Setting channel info structure...\n",
      "Creating raw.info structure...\n"
     ]
    }
   ],
   "source": [
    "# signal\n",
    "\n",
    "events           = ue.get_events(annot_files[nepoch])\n",
    "X, labels, times = ue.get_epochs_zeropad_all(data_files[nepoch], events)\n",
    "\n",
    "[nt, nc, ns] = np.shape(X)  \n",
    "\n",
    "hosp_id, subject_id, PE_id = ue.get_patient_PE(data_files[nepoch], RNSIDS[s])\n",
    "\n",
    "file   = X[nfile, :, :]\n",
    "signal = torch.from_numpy(file)\n",
    "signal = (signal - signal.mean()) / signal.std()\n",
    "\n",
    "# label\n",
    "label_time = np.zeros(2)\n",
    "\n",
    "label_time[0] = labels[nfile]\n",
    "label_time[1] = times[nfile]"
   ]
  },
  {
   "cell_type": "code",
   "execution_count": 46,
   "metadata": {},
   "outputs": [
    {
     "data": {
      "text/plain": [
       "array([ 1.      , 38.261326], dtype=float32)"
      ]
     },
     "execution_count": 46,
     "metadata": {},
     "output_type": "execute_result"
    }
   ],
   "source": [
    "label_time.astype(np.float32)"
   ]
  },
  {
   "cell_type": "markdown",
   "metadata": {},
   "source": [
    "fin ejemplo de un nfile"
   ]
  },
  {
   "cell_type": "code",
   "execution_count": null,
   "metadata": {},
   "outputs": [],
   "source": [
    "for s in range(len(RNSIDS)):\n",
    "    \n",
    "    print('Running subject ' + RNSIDS[s] + ' [s]: ' + str(s))\n",
    "    data_files  = ue.get_data_files(DATA_DIR, RNSIDS[s], Verbose=False)\n",
    "    annot_files = ue.get_annot_files(DATA_DIR, RNSIDS[s], Verbose=False)\n",
    "\n",
    "    for nepoch in range(len(data_files)):\n",
    "\n",
    "        events           = ue.get_events(annot_files[nepoch])\n",
    "        X, labels, times = ue.get_epochs_zeropad_all(data_files[nepoch], events)\n",
    "\n",
    "        [nt, nc, ns] = np.shape(X)        \n",
    "\n",
    "        hosp_id, subject_id, PE_id = ue.get_patient_PE(data_files[nepoch], RNSIDS[s])\n",
    "\n",
    "        for nfile in range(nt):\n",
    "            file   = X[nfile, :, :]\n",
    "            signal = torch.from_numpy(file)\n",
    "            signal = (signal - signal.mean()) / signal.std()\n",
    "            signal = signal.to(torch.float32)\n",
    "\n",
    "            # label\n",
    "            label_time = np.zeros(2)\n",
    "            label_time[0] = labels[nfile]\n",
    "            label_time[1] = times[nfile]\n",
    "            label_time.astype(np.float32)\n",
    "\n",
    "            data      = {'iEEG': signal, 'label_time': label_time}\n",
    "            file_name = hosp_id + '_' + subject_id + '_' + PE_id + '_E' + str(nfile)\n",
    "\n",
    "            df_aux = {  \n",
    "                        'rns_id': hosp_id + '-' + subject_id, \n",
    "                        'data'  : file_name,\n",
    "                        'label' : labels[nfile],\n",
    "                        'time'  : times[nfile]\n",
    "                     }\n",
    "            \n",
    "            df = pd.concat([df, pd.DataFrame([df_aux])], ignore_index=True)\n",
    "\n",
    "            np.save(OUTDATA_DIR + file_name, data)\n",
    "\n",
    "    df.to_csv(OUTMETADATA_DIR + 'allfiles_metadata.csv', index=False)"
   ]
  }
 ],
 "metadata": {
  "kernelspec": {
   "display_name": "env_thalamus",
   "language": "python",
   "name": "python3"
  },
  "language_info": {
   "codemirror_mode": {
    "name": "ipython",
    "version": 3
   },
   "file_extension": ".py",
   "mimetype": "text/x-python",
   "name": "python",
   "nbconvert_exporter": "python",
   "pygments_lexer": "ipython3",
   "version": "3.10.12"
  }
 },
 "nbformat": 4,
 "nbformat_minor": 2
}
