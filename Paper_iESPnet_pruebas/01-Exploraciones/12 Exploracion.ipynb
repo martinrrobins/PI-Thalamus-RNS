{
 "cells": [
  {
   "cell_type": "markdown",
   "metadata": {},
   "source": [
    "# Reproducibilidad de experimentos"
   ]
  },
  {
   "cell_type": "code",
   "execution_count": 1,
   "metadata": {},
   "outputs": [],
   "source": [
    "import sys\n",
    "import os\n",
    "import torch\n",
    "import random\n",
    "\n",
    "import torchaudio.transforms    as T\n",
    "import torch.optim              as optim\n",
    "import pandas                   as pd\n",
    "import numpy                    as np\n",
    "\n",
    "from torchvision       import transforms\n",
    "from torch.utils.data  import DataLoader\n",
    "from torch             import nn\n",
    "from sklearn.metrics   import balanced_accuracy_score, recall_score, precision_score, mean_absolute_error, average_precision_score\n",
    "\n",
    "sys.path.append(os.path.abspath(os.path.join('..','05-Train-Test')))\n",
    "from utilit_train_test import make_weights_for_balanced_classes\n",
    "\n",
    "sys.path.append(os.path.abspath(os.path.join('..','..','iESPnet_SRC_main','utilities')))\n",
    "from Generator         import SeizureDatasetLabelTimev2, permute_spec, smoothing_label\n",
    "from Model             import iESPnet\n",
    "from TrainEval         import train_model_v2, test_model_v2, get_performance_indices\n",
    "from IO                import get_spectrogram_2\n",
    "\n",
    "sys.path.append(os.path.abspath(os.path.join('../../..','03 Dynamic-Spatial-Filtering')))\n",
    "from models            import DynamicSpatialFilter\n",
    "\n",
    "torch.set_printoptions(precision=10)\n",
    "\n",
    "# set the seed for reproducibility\n",
    "torch.manual_seed(0)\n",
    "random.seed(0)\n"
   ]
  },
  {
   "cell_type": "code",
   "execution_count": 2,
   "metadata": {},
   "outputs": [],
   "source": [
    "# direccion donde se encuentran los espectrogramas \n",
    "SPE_DIR        = '/media/martin/Disco2/Rns_Data/PITT_PI_EEG/'\n",
    "meta_data_file = '/media/martin/Disco2/Rns_Data/PITT_PI_EEG/METADATA/allfiles_metadata.csv'\n",
    "\n",
    "df_meta        = pd.read_csv(meta_data_file)"
   ]
  },
  {
   "cell_type": "code",
   "execution_count": 3,
   "metadata": {},
   "outputs": [],
   "source": [
    "# Variables iESPnet\n",
    "FREQ_MASK_PARAM    = 10\n",
    "TIME_MASK_PARAN    = 20\n",
    "N_CLASSES          = 1\n",
    "learning_rate      = 1e-3\n",
    "batch_size         = 64    #128\n",
    "epochs             = 20\n",
    "num_workers        = 4\n",
    "\n",
    "save_path          = 'models_DSF_iESPnet_prueba/'\n",
    "patients           = df_meta['rns_id'].unique().tolist()"
   ]
  },
  {
   "cell_type": "code",
   "execution_count": 4,
   "metadata": {},
   "outputs": [],
   "source": [
    "# Variables DSF\n",
    "denoising          = 'autoreject'   # 'autoreject' 'data_augm' \n",
    "model              = 'stager_net'\n",
    "dsf_type           = 'dsfd'         # 'dsfd' 'dsfm_st'\n",
    "mlp_input          = 'log_diag_cov'\n",
    "dsf_soft_thresh    = False\n",
    "dsf_n_out_channels = None\n",
    "n_channels         = 4"
   ]
  },
  {
   "cell_type": "code",
   "execution_count": 5,
   "metadata": {},
   "outputs": [],
   "source": [
    "# hiperparametros iESPnet\n",
    "hparams = {\n",
    "           \"n_cnn_layers\" : 3,\n",
    "           \"n_rnn_layers\" : 3,\n",
    "           \"rnn_dim\"      : [150, 100, 50],\n",
    "           \"n_class\"      : N_CLASSES,\n",
    "           \"out_ch\"       : [8,8,16],\n",
    "           \"dropout\"      : 0.3,\n",
    "           \"learning_rate\": learning_rate,\n",
    "           \"batch_size\"   : batch_size,\n",
    "           \"num_workers\"  : num_workers,\n",
    "           \"epochs\"       : epochs\n",
    "          }"
   ]
  },
  {
   "cell_type": "code",
   "execution_count": 6,
   "metadata": {},
   "outputs": [],
   "source": [
    "# define train y test de df_meta\n",
    "test_id  = ['PIT-RNS1090', 'PIT-RNS8973', 'PIT-RNS1438', 'PIT-RNS8326', 'PIT-RNS3016']\n",
    "vali_id  = ['PIT-RNS1603', 'PIT-RNS1556', 'PIT-RNS1534', 'PIT-RNS6989', 'PIT-RNS2543', 'PIT-RNS7168', 'PIT-RNS6762']"
   ]
  },
  {
   "cell_type": "code",
   "execution_count": 7,
   "metadata": {},
   "outputs": [],
   "source": [
    "train_df = df_meta.copy() # hace falta resetear el indice de train_df?\n",
    "test_df  = pd.DataFrame()\n",
    "vali_df  = pd.DataFrame()"
   ]
  },
  {
   "cell_type": "code",
   "execution_count": 8,
   "metadata": {},
   "outputs": [],
   "source": [
    "for s in range (len(test_id)):\n",
    "    test_df = pd.concat([test_df, df_meta[df_meta['rns_id'] == test_id[s]]])\n",
    "    test_df.reset_index(drop=True, inplace=True)\n",
    "    train_df.drop(train_df[train_df['rns_id'] == test_id[s]].index, inplace = True)\n",
    "\n",
    "for s in range(len(vali_id)):\n",
    "    vali_df=pd.concat([vali_df, df_meta[df_meta['rns_id'] == vali_id[s]]])\n",
    "    vali_df.reset_index(drop=True, inplace=True)\n",
    "    train_df.drop(train_df[train_df['rns_id'] == vali_id[s]].index, inplace = True)"
   ]
  },
  {
   "cell_type": "code",
   "execution_count": 9,
   "metadata": {},
   "outputs": [],
   "source": [
    "# experimentos que se van a realizar\n",
    "experiments_1 = ['exp1','exp2','exp3']\n",
    "experiments_2 = ['.1','.2','.3']"
   ]
  },
  {
   "cell_type": "code",
   "execution_count": 10,
   "metadata": {},
   "outputs": [],
   "source": [
    "s = 0\n",
    "j = 0"
   ]
  },
  {
   "cell_type": "code",
   "execution_count": 11,
   "metadata": {},
   "outputs": [],
   "source": [
    "model1 = DynamicSpatialFilter(\n",
    "                              n_channels, \n",
    "                              mlp_input            = mlp_input, \n",
    "                              n_out_channels       = dsf_n_out_channels, \n",
    "                              apply_soft_thresh    = dsf_soft_thresh\n",
    "                             )"
   ]
  },
  {
   "cell_type": "code",
   "execution_count": 12,
   "metadata": {},
   "outputs": [],
   "source": [
    "model2 = iESPnet(\n",
    "                 hparams['n_cnn_layers'],\n",
    "                 hparams['n_rnn_layers'],\n",
    "                 hparams['rnn_dim'],\n",
    "                 hparams['n_class'],\n",
    "                 hparams['out_ch'],\n",
    "                 hparams['dropout'],\n",
    "                )"
   ]
  },
  {
   "cell_type": "code",
   "execution_count": 13,
   "metadata": {},
   "outputs": [],
   "source": [
    "save_runs        = save_path + experiments_1[s] + '/' + str(experiments_1[s]) + str(experiments_2[j]) + '/runs/'\n",
    "save_models      = save_path + experiments_1[s] + '/' + str(experiments_1[s]) + str(experiments_2[j]) + '/models/'\n",
    "save_predictions = save_path + experiments_1[s] + '/' + str(experiments_1[s]) + str(experiments_2[j]) + '/results/'\n",
    "save_figs        = save_path + experiments_1[s] + '/' + str(experiments_1[s]) + str(experiments_2[j]) + '/figs/'\n",
    "\n",
    "if not os.path.exists(save_path):\n",
    "    os.makedirs(save_path)\n",
    "\n",
    "if not os.path.exists(save_runs):\n",
    "    os.makedirs(save_runs)\n",
    "\n",
    "if not os.path.exists(save_models):\n",
    "    os.makedirs(save_models)\n",
    "\n",
    "if not os.path.exists(save_predictions):\n",
    "    os.makedirs(save_predictions)\n",
    "\n",
    "if not os.path.exists(save_figs):\n",
    "    os.makedirs(save_figs)"
   ]
  },
  {
   "cell_type": "code",
   "execution_count": 14,
   "metadata": {},
   "outputs": [
    {
     "name": "stdout",
     "output_type": "stream",
     "text": [
      "Running training for: exp1.1\n"
     ]
    }
   ],
   "source": [
    "print('Running training for: ' + experiments_1[s] +  experiments_2[j])"
   ]
  },
  {
   "cell_type": "code",
   "execution_count": 15,
   "metadata": {},
   "outputs": [],
   "source": [
    "# Dataloaders creados\n",
    "train_data = SeizureDatasetLabelTimev2(\n",
    "                                       file             = train_df,\n",
    "                                       root_dir         = SPE_DIR,\n",
    "                                       transform        = None, \n",
    "                                       target_transform = smoothing_label(),\n",
    "                                      )"
   ]
  },
  {
   "cell_type": "code",
   "execution_count": 16,
   "metadata": {},
   "outputs": [],
   "source": [
    "# testing data should be balanced, just be \"as it is\"\n",
    "test_data  = SeizureDatasetLabelTimev2(\n",
    "                                       file             = test_df,\n",
    "                                       root_dir         = SPE_DIR,\n",
    "                                       transform        = None,\n",
    "                                       target_transform = smoothing_label()  \n",
    "                                      )"
   ]
  },
  {
   "cell_type": "code",
   "execution_count": 17,
   "metadata": {},
   "outputs": [],
   "source": [
    "# validation data should be balanced, just be \"as it is\"\n",
    "vali_data  = SeizureDatasetLabelTimev2(\n",
    "                                       file             = vali_df,\n",
    "                                       root_dir         = SPE_DIR,\n",
    "                                       transform        = None,\n",
    "                                       target_transform = smoothing_label()  \n",
    "                                      )"
   ]
  },
  {
   "cell_type": "code",
   "execution_count": 18,
   "metadata": {},
   "outputs": [],
   "source": [
    "# data augmentation \n",
    "transform_train = transforms.Compose([\n",
    "                                      T.FrequencyMasking(FREQ_MASK_PARAM),\n",
    "                                      T.TimeMasking(TIME_MASK_PARAN), \n",
    "                                      permute_spec()                                                                     \n",
    "                                    ])"
   ]
  },
  {
   "cell_type": "code",
   "execution_count": 19,
   "metadata": {},
   "outputs": [],
   "source": [
    "weights = make_weights_for_balanced_classes(train_df, [0,1], n_concat=1)\n",
    "sampler = torch.utils.data.sampler.WeightedRandomSampler(weights, len(weights))"
   ]
  },
  {
   "cell_type": "code",
   "execution_count": 20,
   "metadata": {},
   "outputs": [],
   "source": [
    "outputfile = save_models + 'model_' + str(experiments_1[s] + experiments_2[j])"
   ]
  },
  {
   "cell_type": "code",
   "execution_count": 21,
   "metadata": {},
   "outputs": [
    {
     "data": {
      "text/plain": [
       "'\\n\\navg_train_losses, train_accs, avg_valid_losses, valid_accs = train_model_v2(\\n                                                                            model1, \\n                                                                            model2, \\n                                                                            hparams, \\n                                                                            epochs, \\n                                                                            train_data, \\n                                                                            vali_data, \\n                                                                            transform_train, \\n                                                                            sampler, \\n                                                                            outputfile,\\n                                                                            experiments_1[s],\\n                                                                            experiments_2[j]\\n                                                                           )\\n\\n'"
      ]
     },
     "execution_count": 21,
     "metadata": {},
     "output_type": "execute_result"
    }
   ],
   "source": [
    "'''\n",
    "\n",
    "avg_train_losses, train_accs, avg_valid_losses, valid_accs = train_model_v2(\n",
    "                                                                            model1, \n",
    "                                                                            model2, \n",
    "                                                                            hparams, \n",
    "                                                                            epochs, \n",
    "                                                                            train_data, \n",
    "                                                                            vali_data, \n",
    "                                                                            transform_train, \n",
    "                                                                            sampler, \n",
    "                                                                            outputfile,\n",
    "                                                                            experiments_1[s],\n",
    "                                                                            experiments_2[j]\n",
    "                                                                           )\n",
    "\n",
    "'''                                                                          "
   ]
  },
  {
   "cell_type": "code",
   "execution_count": 22,
   "metadata": {},
   "outputs": [],
   "source": [
    "avg_train_losses = []\n",
    "train_accs       = []"
   ]
  },
  {
   "cell_type": "code",
   "execution_count": 23,
   "metadata": {},
   "outputs": [],
   "source": [
    "avg_valid_losses = [] \n",
    "valid_accs       = []"
   ]
  },
  {
   "cell_type": "code",
   "execution_count": 24,
   "metadata": {},
   "outputs": [
    {
     "name": "stdout",
     "output_type": "stream",
     "text": [
      "Using cuda device\n"
     ]
    }
   ],
   "source": [
    "use_cuda = torch.cuda.is_available()\n",
    "device = torch.device(\"cuda\" if use_cuda else \"cpu\")\n",
    "print('Using {} device'.format(device))"
   ]
  },
  {
   "cell_type": "code",
   "execution_count": 25,
   "metadata": {},
   "outputs": [],
   "source": [
    "# following pytorch suggestion to speed up training\n",
    "torch.backends.cudnn.benchmark = False"
   ]
  },
  {
   "cell_type": "code",
   "execution_count": 26,
   "metadata": {},
   "outputs": [],
   "source": [
    "kwargs = {'num_workers': hparams[\"num_workers\"], 'pin_memory': True} if use_cuda else {}\n",
    "\n",
    "train_loader = DataLoader(train_data, batch_size = hparams[\"batch_size\"], sampler = sampler, **kwargs)\n",
    "valid_loader = DataLoader(vali_data, batch_size = hparams[\"batch_size\"], shuffle = False, **kwargs)"
   ]
  },
  {
   "cell_type": "code",
   "execution_count": 27,
   "metadata": {},
   "outputs": [
    {
     "data": {
      "text/plain": [
       "DynamicSpatialFilter(\n",
       "  (feat_extractor): SpatialFeatureExtractor()\n",
       "  (mlp): Sequential(\n",
       "    (0): Linear(in_features=4, out_features=4, bias=True)\n",
       "    (1): ReLU()\n",
       "    (2): Linear(in_features=4, out_features=20, bias=True)\n",
       "  )\n",
       ")"
      ]
     },
     "execution_count": 27,
     "metadata": {},
     "output_type": "execute_result"
    }
   ],
   "source": [
    "#move model1 to device\n",
    "model1.to(device)"
   ]
  },
  {
   "cell_type": "code",
   "execution_count": 28,
   "metadata": {},
   "outputs": [
    {
     "data": {
      "text/plain": [
       "iESPnet(\n",
       "  (freqcnn): Sequential(\n",
       "    (0): Conv2d(4, 8, kernel_size=(120, 1), stride=(1, 1), padding=(119, 0), dilation=(2, 1), bias=False)\n",
       "    (1): ReLU()\n",
       "    (2): InstanceNorm2d(8, eps=1e-05, momentum=0.01, affine=True, track_running_stats=True)\n",
       "  )\n",
       "  (timecnn): Sequential(\n",
       "    (0): Conv2d(4, 8, kernel_size=(1, 181), stride=(1, 1), padding=(0, 180), dilation=(1, 2), bias=False)\n",
       "    (1): ReLU()\n",
       "    (2): InstanceNorm2d(8, eps=1e-05, momentum=0.01, affine=True, track_running_stats=True)\n",
       "  )\n",
       "  (cnn_ori): Conv2d(4, 16, kernel_size=(3, 3), stride=(2, 1), padding=(1, 1), bias=False)\n",
       "  (cnn): Conv2d(16, 16, kernel_size=(3, 3), stride=(2, 1), padding=(1, 1), bias=False)\n",
       "  (rescnn_layers): Sequential(\n",
       "    (0): ResidualCNNbatch(\n",
       "      (cnn1): Conv2d(16, 16, kernel_size=(3, 3), stride=(1, 1), padding=(1, 1), bias=False)\n",
       "      (cnn2): Conv2d(16, 16, kernel_size=(3, 3), stride=(1, 1), padding=(1, 1), bias=False)\n",
       "      (dropout1): Dropout(p=0.3, inplace=False)\n",
       "      (dropout2): Dropout(p=0.3, inplace=False)\n",
       "      (norm1): BatchNorm2d(16, eps=1e-05, momentum=0.01, affine=True, track_running_stats=True)\n",
       "      (norm2): BatchNorm2d(16, eps=1e-05, momentum=0.01, affine=True, track_running_stats=True)\n",
       "    )\n",
       "    (1): ResidualCNNbatch(\n",
       "      (cnn1): Conv2d(16, 16, kernel_size=(3, 3), stride=(1, 1), padding=(1, 1), bias=False)\n",
       "      (cnn2): Conv2d(16, 16, kernel_size=(3, 3), stride=(1, 1), padding=(1, 1), bias=False)\n",
       "      (dropout1): Dropout(p=0.3, inplace=False)\n",
       "      (dropout2): Dropout(p=0.3, inplace=False)\n",
       "      (norm1): BatchNorm2d(16, eps=1e-05, momentum=0.01, affine=True, track_running_stats=True)\n",
       "      (norm2): BatchNorm2d(16, eps=1e-05, momentum=0.01, affine=True, track_running_stats=True)\n",
       "    )\n",
       "    (2): ResidualCNNbatch(\n",
       "      (cnn1): Conv2d(16, 16, kernel_size=(3, 3), stride=(1, 1), padding=(1, 1), bias=False)\n",
       "      (cnn2): Conv2d(16, 16, kernel_size=(3, 3), stride=(1, 1), padding=(1, 1), bias=False)\n",
       "      (dropout1): Dropout(p=0.3, inplace=False)\n",
       "      (dropout2): Dropout(p=0.3, inplace=False)\n",
       "      (norm1): BatchNorm2d(16, eps=1e-05, momentum=0.01, affine=True, track_running_stats=True)\n",
       "      (norm2): BatchNorm2d(16, eps=1e-05, momentum=0.01, affine=True, track_running_stats=True)\n",
       "    )\n",
       "  )\n",
       "  (rescnn_layers_ori): Sequential(\n",
       "    (0): ResidualCNNbatch(\n",
       "      (cnn1): Conv2d(16, 16, kernel_size=(3, 3), stride=(1, 1), padding=(1, 1), bias=False)\n",
       "      (cnn2): Conv2d(16, 16, kernel_size=(3, 3), stride=(1, 1), padding=(1, 1), bias=False)\n",
       "      (dropout1): Dropout(p=0.3, inplace=False)\n",
       "      (dropout2): Dropout(p=0.3, inplace=False)\n",
       "      (norm1): BatchNorm2d(16, eps=1e-05, momentum=0.01, affine=True, track_running_stats=True)\n",
       "      (norm2): BatchNorm2d(16, eps=1e-05, momentum=0.01, affine=True, track_running_stats=True)\n",
       "    )\n",
       "    (1): ResidualCNNbatch(\n",
       "      (cnn1): Conv2d(16, 16, kernel_size=(3, 3), stride=(1, 1), padding=(1, 1), bias=False)\n",
       "      (cnn2): Conv2d(16, 16, kernel_size=(3, 3), stride=(1, 1), padding=(1, 1), bias=False)\n",
       "      (dropout1): Dropout(p=0.3, inplace=False)\n",
       "      (dropout2): Dropout(p=0.3, inplace=False)\n",
       "      (norm1): BatchNorm2d(16, eps=1e-05, momentum=0.01, affine=True, track_running_stats=True)\n",
       "      (norm2): BatchNorm2d(16, eps=1e-05, momentum=0.01, affine=True, track_running_stats=True)\n",
       "    )\n",
       "    (2): ResidualCNNbatch(\n",
       "      (cnn1): Conv2d(16, 16, kernel_size=(3, 3), stride=(1, 1), padding=(1, 1), bias=False)\n",
       "      (cnn2): Conv2d(16, 16, kernel_size=(3, 3), stride=(1, 1), padding=(1, 1), bias=False)\n",
       "      (dropout1): Dropout(p=0.3, inplace=False)\n",
       "      (dropout2): Dropout(p=0.3, inplace=False)\n",
       "      (norm1): BatchNorm2d(16, eps=1e-05, momentum=0.01, affine=True, track_running_stats=True)\n",
       "      (norm2): BatchNorm2d(16, eps=1e-05, momentum=0.01, affine=True, track_running_stats=True)\n",
       "    )\n",
       "  )\n",
       "  (avgpool): AdaptiveAvgPool2d(output_size=(40, 181))\n",
       "  (rnn_layers): Sequential(\n",
       "    (0): BidirectionalGRU(\n",
       "      (BiGRU): GRU(1280, 150, batch_first=True, bidirectional=True)\n",
       "      (layer_norm): LayerNorm((1280,), eps=1e-05, elementwise_affine=True)\n",
       "      (dropout): Dropout(p=0.3, inplace=False)\n",
       "    )\n",
       "    (1): BidirectionalGRU(\n",
       "      (BiGRU): GRU(300, 100, bidirectional=True)\n",
       "      (layer_norm): LayerNorm((300,), eps=1e-05, elementwise_affine=True)\n",
       "      (dropout): Dropout(p=0.3, inplace=False)\n",
       "    )\n",
       "    (2): BidirectionalGRU(\n",
       "      (BiGRU): GRU(200, 50, bidirectional=True)\n",
       "      (layer_norm): LayerNorm((200,), eps=1e-05, elementwise_affine=True)\n",
       "      (dropout): Dropout(p=0.3, inplace=False)\n",
       "    )\n",
       "  )\n",
       "  (classifier): Sequential(\n",
       "    (0): Linear(in_features=100, out_features=50, bias=True)\n",
       "    (1): ReLU()\n",
       "    (2): Dropout(p=0.3, inplace=False)\n",
       "    (3): Linear(in_features=50, out_features=1, bias=True)\n",
       "  )\n",
       ")"
      ]
     },
     "execution_count": 28,
     "metadata": {},
     "output_type": "execute_result"
    }
   ],
   "source": [
    "#move model2 to device\n",
    "model2.to(device)"
   ]
  },
  {
   "cell_type": "code",
   "execution_count": 29,
   "metadata": {},
   "outputs": [
    {
     "name": "stdout",
     "output_type": "stream",
     "text": [
      "Num Model Parameters 120\n",
      "Num Model Parameters 1654837\n"
     ]
    }
   ],
   "source": [
    "print('Num Model Parameters', sum([param1.nelement() for param1 in model1.parameters()]))\n",
    "print('Num Model Parameters', sum([param2.nelement() for param2 in model2.parameters()]))"
   ]
  },
  {
   "cell_type": "code",
   "execution_count": 30,
   "metadata": {},
   "outputs": [],
   "source": [
    "optimizer1 = optim.AdamW(model1.parameters(), hparams['learning_rate'], weight_decay=1e-4)\n",
    "optimizer2 = optim.AdamW(model2.parameters(), hparams['learning_rate'], weight_decay=1e-4)\n",
    "\n",
    "scheduler1 = optim.lr_scheduler.OneCycleLR(\n",
    "                                           optimizer1, \n",
    "                                           max_lr          = hparams['learning_rate'], \n",
    "                                           steps_per_epoch = int(len(train_loader)),\n",
    "                                           epochs          = hparams['epochs'],\n",
    "                                           anneal_strategy = 'linear'\n",
    "                                          )\n",
    "\n",
    "scheduler2 = optim.lr_scheduler.OneCycleLR(\n",
    "                                           optimizer2, \n",
    "                                           max_lr          = hparams['learning_rate'], \n",
    "                                           steps_per_epoch = int(len(train_loader)*2),\n",
    "                                           epochs          = hparams['epochs'],\n",
    "                                           anneal_strategy = 'linear'\n",
    "                                          )\n",
    "      \n",
    "criterion = nn.BCEWithLogitsLoss().to(device)"
   ]
  },
  {
   "cell_type": "code",
   "execution_count": 31,
   "metadata": {},
   "outputs": [],
   "source": [
    "epoch = 1"
   ]
  },
  {
   "cell_type": "code",
   "execution_count": 32,
   "metadata": {},
   "outputs": [
    {
     "data": {
      "text/plain": [
       "'\\n\\ntrain_losses, train_aucpr = training_DSF_iESPnet(\\n                                                 model1, \\n                                                 model2, \\n                                                 device, \\n                                                 train_loader, \\n                                                 transform_train, \\n                                                 criterion, \\n                                                 optimizer1, \\n                                                 optimizer2, \\n                                                 scheduler1, \\n                                                 scheduler2, \\n                                                 epoch,\\n                                                 experiment_1,\\n                                                 experiment_2\\n                                                )\\n\\n'"
      ]
     },
     "execution_count": 32,
     "metadata": {},
     "output_type": "execute_result"
    }
   ],
   "source": [
    "'''\n",
    "\n",
    "train_losses, train_aucpr = training_DSF_iESPnet(\n",
    "                                                 model1, \n",
    "                                                 model2, \n",
    "                                                 device, \n",
    "                                                 train_loader, \n",
    "                                                 transform_train, \n",
    "                                                 criterion, \n",
    "                                                 optimizer1, \n",
    "                                                 optimizer2, \n",
    "                                                 scheduler1, \n",
    "                                                 scheduler2, \n",
    "                                                 epoch,\n",
    "                                                 experiment_1,\n",
    "                                                 experiment_2\n",
    "                                                )\n",
    "\n",
    "'''                                                "
   ]
  },
  {
   "cell_type": "code",
   "execution_count": 33,
   "metadata": {},
   "outputs": [],
   "source": [
    "experiment_1 = experiments_1[s]\n",
    "experiment_2 = experiments_2[j]"
   ]
  },
  {
   "cell_type": "code",
   "execution_count": 34,
   "metadata": {},
   "outputs": [],
   "source": [
    "# create spectrogram\n",
    "ECOG_SAMPLE_RATE = 250\n",
    "ECOG_CHANNELS    = 4\n",
    "TT               = 1000 # window length\n",
    "SPEC_WIN_LEN     = int(ECOG_SAMPLE_RATE * TT / 1000 ) # win size\n",
    "overlap          = 500 \n",
    "SPEC_HOP_LEN     = int(ECOG_SAMPLE_RATE * (TT - overlap) / 1000) # Length of hop between windows.\n",
    "SPEC_NFFT        = 500  # to see changes in 0.5 reso\n",
    "if   experiment_2 == '.1':  \n",
    "    top_db       = 40.0\n",
    "elif experiment_2 == '.2':\n",
    "    top_db       = 60.0\n",
    "elif experiment_2 == '.3':\n",
    "    top_db       = 80.0"
   ]
  },
  {
   "cell_type": "code",
   "execution_count": 35,
   "metadata": {},
   "outputs": [],
   "source": [
    "train_loss   = 0.0\n",
    "train_losses = []\n",
    "cont         = 0"
   ]
  },
  {
   "cell_type": "code",
   "execution_count": 36,
   "metadata": {},
   "outputs": [
    {
     "data": {
      "text/plain": [
       "DynamicSpatialFilter(\n",
       "  (feat_extractor): SpatialFeatureExtractor()\n",
       "  (mlp): Sequential(\n",
       "    (0): Linear(in_features=4, out_features=4, bias=True)\n",
       "    (1): ReLU()\n",
       "    (2): Linear(in_features=4, out_features=20, bias=True)\n",
       "  )\n",
       ")"
      ]
     },
     "execution_count": 36,
     "metadata": {},
     "output_type": "execute_result"
    }
   ],
   "source": [
    "model1.train()"
   ]
  },
  {
   "cell_type": "code",
   "execution_count": 37,
   "metadata": {},
   "outputs": [
    {
     "data": {
      "text/plain": [
       "iESPnet(\n",
       "  (freqcnn): Sequential(\n",
       "    (0): Conv2d(4, 8, kernel_size=(120, 1), stride=(1, 1), padding=(119, 0), dilation=(2, 1), bias=False)\n",
       "    (1): ReLU()\n",
       "    (2): InstanceNorm2d(8, eps=1e-05, momentum=0.01, affine=True, track_running_stats=True)\n",
       "  )\n",
       "  (timecnn): Sequential(\n",
       "    (0): Conv2d(4, 8, kernel_size=(1, 181), stride=(1, 1), padding=(0, 180), dilation=(1, 2), bias=False)\n",
       "    (1): ReLU()\n",
       "    (2): InstanceNorm2d(8, eps=1e-05, momentum=0.01, affine=True, track_running_stats=True)\n",
       "  )\n",
       "  (cnn_ori): Conv2d(4, 16, kernel_size=(3, 3), stride=(2, 1), padding=(1, 1), bias=False)\n",
       "  (cnn): Conv2d(16, 16, kernel_size=(3, 3), stride=(2, 1), padding=(1, 1), bias=False)\n",
       "  (rescnn_layers): Sequential(\n",
       "    (0): ResidualCNNbatch(\n",
       "      (cnn1): Conv2d(16, 16, kernel_size=(3, 3), stride=(1, 1), padding=(1, 1), bias=False)\n",
       "      (cnn2): Conv2d(16, 16, kernel_size=(3, 3), stride=(1, 1), padding=(1, 1), bias=False)\n",
       "      (dropout1): Dropout(p=0.3, inplace=False)\n",
       "      (dropout2): Dropout(p=0.3, inplace=False)\n",
       "      (norm1): BatchNorm2d(16, eps=1e-05, momentum=0.01, affine=True, track_running_stats=True)\n",
       "      (norm2): BatchNorm2d(16, eps=1e-05, momentum=0.01, affine=True, track_running_stats=True)\n",
       "    )\n",
       "    (1): ResidualCNNbatch(\n",
       "      (cnn1): Conv2d(16, 16, kernel_size=(3, 3), stride=(1, 1), padding=(1, 1), bias=False)\n",
       "      (cnn2): Conv2d(16, 16, kernel_size=(3, 3), stride=(1, 1), padding=(1, 1), bias=False)\n",
       "      (dropout1): Dropout(p=0.3, inplace=False)\n",
       "      (dropout2): Dropout(p=0.3, inplace=False)\n",
       "      (norm1): BatchNorm2d(16, eps=1e-05, momentum=0.01, affine=True, track_running_stats=True)\n",
       "      (norm2): BatchNorm2d(16, eps=1e-05, momentum=0.01, affine=True, track_running_stats=True)\n",
       "    )\n",
       "    (2): ResidualCNNbatch(\n",
       "      (cnn1): Conv2d(16, 16, kernel_size=(3, 3), stride=(1, 1), padding=(1, 1), bias=False)\n",
       "      (cnn2): Conv2d(16, 16, kernel_size=(3, 3), stride=(1, 1), padding=(1, 1), bias=False)\n",
       "      (dropout1): Dropout(p=0.3, inplace=False)\n",
       "      (dropout2): Dropout(p=0.3, inplace=False)\n",
       "      (norm1): BatchNorm2d(16, eps=1e-05, momentum=0.01, affine=True, track_running_stats=True)\n",
       "      (norm2): BatchNorm2d(16, eps=1e-05, momentum=0.01, affine=True, track_running_stats=True)\n",
       "    )\n",
       "  )\n",
       "  (rescnn_layers_ori): Sequential(\n",
       "    (0): ResidualCNNbatch(\n",
       "      (cnn1): Conv2d(16, 16, kernel_size=(3, 3), stride=(1, 1), padding=(1, 1), bias=False)\n",
       "      (cnn2): Conv2d(16, 16, kernel_size=(3, 3), stride=(1, 1), padding=(1, 1), bias=False)\n",
       "      (dropout1): Dropout(p=0.3, inplace=False)\n",
       "      (dropout2): Dropout(p=0.3, inplace=False)\n",
       "      (norm1): BatchNorm2d(16, eps=1e-05, momentum=0.01, affine=True, track_running_stats=True)\n",
       "      (norm2): BatchNorm2d(16, eps=1e-05, momentum=0.01, affine=True, track_running_stats=True)\n",
       "    )\n",
       "    (1): ResidualCNNbatch(\n",
       "      (cnn1): Conv2d(16, 16, kernel_size=(3, 3), stride=(1, 1), padding=(1, 1), bias=False)\n",
       "      (cnn2): Conv2d(16, 16, kernel_size=(3, 3), stride=(1, 1), padding=(1, 1), bias=False)\n",
       "      (dropout1): Dropout(p=0.3, inplace=False)\n",
       "      (dropout2): Dropout(p=0.3, inplace=False)\n",
       "      (norm1): BatchNorm2d(16, eps=1e-05, momentum=0.01, affine=True, track_running_stats=True)\n",
       "      (norm2): BatchNorm2d(16, eps=1e-05, momentum=0.01, affine=True, track_running_stats=True)\n",
       "    )\n",
       "    (2): ResidualCNNbatch(\n",
       "      (cnn1): Conv2d(16, 16, kernel_size=(3, 3), stride=(1, 1), padding=(1, 1), bias=False)\n",
       "      (cnn2): Conv2d(16, 16, kernel_size=(3, 3), stride=(1, 1), padding=(1, 1), bias=False)\n",
       "      (dropout1): Dropout(p=0.3, inplace=False)\n",
       "      (dropout2): Dropout(p=0.3, inplace=False)\n",
       "      (norm1): BatchNorm2d(16, eps=1e-05, momentum=0.01, affine=True, track_running_stats=True)\n",
       "      (norm2): BatchNorm2d(16, eps=1e-05, momentum=0.01, affine=True, track_running_stats=True)\n",
       "    )\n",
       "  )\n",
       "  (avgpool): AdaptiveAvgPool2d(output_size=(40, 181))\n",
       "  (rnn_layers): Sequential(\n",
       "    (0): BidirectionalGRU(\n",
       "      (BiGRU): GRU(1280, 150, batch_first=True, bidirectional=True)\n",
       "      (layer_norm): LayerNorm((1280,), eps=1e-05, elementwise_affine=True)\n",
       "      (dropout): Dropout(p=0.3, inplace=False)\n",
       "    )\n",
       "    (1): BidirectionalGRU(\n",
       "      (BiGRU): GRU(300, 100, bidirectional=True)\n",
       "      (layer_norm): LayerNorm((300,), eps=1e-05, elementwise_affine=True)\n",
       "      (dropout): Dropout(p=0.3, inplace=False)\n",
       "    )\n",
       "    (2): BidirectionalGRU(\n",
       "      (BiGRU): GRU(200, 50, bidirectional=True)\n",
       "      (layer_norm): LayerNorm((200,), eps=1e-05, elementwise_affine=True)\n",
       "      (dropout): Dropout(p=0.3, inplace=False)\n",
       "    )\n",
       "  )\n",
       "  (classifier): Sequential(\n",
       "    (0): Linear(in_features=100, out_features=50, bias=True)\n",
       "    (1): ReLU()\n",
       "    (2): Dropout(p=0.3, inplace=False)\n",
       "    (3): Linear(in_features=50, out_features=1, bias=True)\n",
       "  )\n",
       ")"
      ]
     },
     "execution_count": 37,
     "metadata": {},
     "output_type": "execute_result"
    }
   ],
   "source": [
    "model2.train()"
   ]
  },
  {
   "cell_type": "code",
   "execution_count": 38,
   "metadata": {},
   "outputs": [],
   "source": [
    "for batch_idx, _data in enumerate(train_loader):\n",
    "    cont+=1\n",
    "    eeg, labels = _data \n",
    "    eeg, labels = eeg.to(device), labels.to(device)\n",
    "    break\n",
    "    "
   ]
  },
  {
   "cell_type": "code",
   "execution_count": 39,
   "metadata": {},
   "outputs": [],
   "source": [
    "# Zero the gradients\n",
    "optimizer1.zero_grad(set_to_none=True)\n",
    "optimizer2.zero_grad(set_to_none=True)"
   ]
  },
  {
   "cell_type": "markdown",
   "metadata": {},
   "source": [
    "utilizando la semilla random.seed el data loader siempre decide por el mismo batchsize"
   ]
  },
  {
   "cell_type": "code",
   "execution_count": 40,
   "metadata": {},
   "outputs": [
    {
     "data": {
      "text/plain": [
       "tensor([-0.3365942538,  0.4565646350,  0.3017098010,  ...,\n",
       "        -0.2752188444, -0.4093004763, -0.4093004763], device='cuda:0')"
      ]
     },
     "execution_count": 40,
     "metadata": {},
     "output_type": "execute_result"
    }
   ],
   "source": [
    "eeg[0,0,:]"
   ]
  },
  {
   "cell_type": "code",
   "execution_count": 41,
   "metadata": {},
   "outputs": [],
   "source": [
    "# Perform forward pass to DSF\n",
    "outputs1 = model1(eeg)  # (batch, n_class)\n",
    "outputs1 = outputs1.squeeze(1)"
   ]
  },
  {
   "cell_type": "code",
   "execution_count": 42,
   "metadata": {},
   "outputs": [
    {
     "data": {
      "text/plain": [
       "tensor([1.0571230650, 1.5284662247, 1.5069520473,  ..., 1.4071314335,\n",
       "        1.3824717999, 1.4296525717], device='cuda:0', grad_fn=<SliceBackward0>)"
      ]
     },
     "execution_count": 42,
     "metadata": {},
     "output_type": "execute_result"
    }
   ],
   "source": [
    "outputs1[0,0,:]"
   ]
  },
  {
   "cell_type": "code",
   "execution_count": 43,
   "metadata": {},
   "outputs": [],
   "source": [
    "if   experiment_1 == 'exp1': # sin normalizacion \n",
    "    pass\n",
    "elif experiment_1 == 'exp2': # normalizacion por canal\n",
    "    mean     = outputs1.mean(dim=2, keepdim=True)\n",
    "    std      = outputs1.std(dim=2, keepdim=True)\n",
    "\n",
    "    outputs1 = (outputs1 - mean) / std\n",
    "\n",
    "elif experiment_1 == 'exp3': # normalizacion global\n",
    "    outputs1 = (outputs1 - outputs1.mean()) / outputs1.std()"
   ]
  },
  {
   "cell_type": "code",
   "execution_count": 44,
   "metadata": {},
   "outputs": [],
   "source": [
    "outputs1 = outputs1.to('cpu')"
   ]
  },
  {
   "cell_type": "code",
   "execution_count": 45,
   "metadata": {},
   "outputs": [
    {
     "data": {
      "text/plain": [
       "tensor([1.0571230650, 1.5284662247, 1.5069520473,  ..., 1.4071314335,\n",
       "        1.3824717999, 1.4296525717], grad_fn=<SliceBackward0>)"
      ]
     },
     "execution_count": 45,
     "metadata": {},
     "output_type": "execute_result"
    }
   ],
   "source": [
    "outputs1[0,0,:]"
   ]
  },
  {
   "cell_type": "code",
   "execution_count": 46,
   "metadata": {},
   "outputs": [],
   "source": [
    "# create spectrogram from outputs1\n",
    "spectrograms = get_spectrogram_2(outputs1, device, ECOG_SAMPLE_RATE, SPEC_NFFT, SPEC_WIN_LEN, SPEC_HOP_LEN, top_db)"
   ]
  },
  {
   "cell_type": "code",
   "execution_count": 47,
   "metadata": {},
   "outputs": [
    {
     "data": {
      "text/plain": [
       "array([[42.1847  , 40.824608, 41.287724, ..., 40.95363 , 41.19576 ,\n",
       "        40.61157 ],\n",
       "       [41.368523, 39.98082 , 40.294914, ..., 39.981346, 40.271187,\n",
       "        39.644917],\n",
       "       [38.8527  , 37.600483, 37.191147, ..., 37.011093, 37.43944 ,\n",
       "        36.699203],\n",
       "       ...,\n",
       "       [20.063866, 20.063866, 20.063866, ..., 20.063866, 20.063866,\n",
       "        20.063866],\n",
       "       [20.063866, 20.063866, 20.063866, ..., 20.063866, 20.063866,\n",
       "        20.063866],\n",
       "       [20.063866, 20.063866, 20.063866, ..., 20.063866, 20.063866,\n",
       "        20.063866]], dtype=float32)"
      ]
     },
     "execution_count": 47,
     "metadata": {},
     "output_type": "execute_result"
    }
   ],
   "source": [
    "spectrograms[0,0,:,:]"
   ]
  },
  {
   "cell_type": "code",
   "execution_count": 48,
   "metadata": {},
   "outputs": [],
   "source": [
    "spectrograms = torch.from_numpy(spectrograms)"
   ]
  },
  {
   "cell_type": "code",
   "execution_count": 49,
   "metadata": {},
   "outputs": [
    {
     "data": {
      "text/plain": [
       "tensor([[42.1847000122, 40.8246078491, 41.2877235413,  ...,\n",
       "         40.9536285400, 41.1957588196, 40.6115684509],\n",
       "        [41.3685226440, 39.9808197021, 40.2949142456,  ...,\n",
       "         39.9813461304, 40.2711868286, 39.6449165344],\n",
       "        [38.8526992798, 37.6004829407, 37.1911468506,  ...,\n",
       "         37.0110931396, 37.4394416809, 36.6992034912],\n",
       "        ...,\n",
       "        [20.0638656616, 20.0638656616, 20.0638656616,  ...,\n",
       "         20.0638656616, 20.0638656616, 20.0638656616],\n",
       "        [20.0638656616, 20.0638656616, 20.0638656616,  ...,\n",
       "         20.0638656616, 20.0638656616, 20.0638656616],\n",
       "        [20.0638656616, 20.0638656616, 20.0638656616,  ...,\n",
       "         20.0638656616, 20.0638656616, 20.0638656616]])"
      ]
     },
     "execution_count": 49,
     "metadata": {},
     "output_type": "execute_result"
    }
   ],
   "source": [
    "spectrograms[0,0,:,:]"
   ]
  },
  {
   "cell_type": "code",
   "execution_count": 50,
   "metadata": {},
   "outputs": [],
   "source": [
    "spectrograms_transformed = transform_train(spectrograms)"
   ]
  },
  {
   "cell_type": "code",
   "execution_count": 51,
   "metadata": {},
   "outputs": [
    {
     "data": {
      "text/plain": [
       "tensor([[36.9560470581, 38.5045242310, 37.5006332397,  ...,\n",
       "         37.6816177368, 38.4132537842, 36.1781272888],\n",
       "        [35.9786453247, 37.6109352112, 36.4316062927,  ...,\n",
       "         36.6866188049, 37.5390396118, 35.0619659424],\n",
       "        [32.9985466003, 34.9101295471, 33.0317802429,  ...,\n",
       "         33.5982856750, 34.9096374512, 31.5700321198],\n",
       "        ...,\n",
       "        [ 0.0000000000,  0.0000000000,  0.0000000000,  ...,\n",
       "          0.0000000000,  0.0000000000,  0.0000000000],\n",
       "        [20.0638656616, 20.0638656616, 20.0638656616,  ...,\n",
       "         20.0638656616, 20.0638656616, 20.0638656616],\n",
       "        [20.0638656616, 20.0638656616, 20.0638656616,  ...,\n",
       "         20.0638656616, 20.0638656616, 20.0638656616]])"
      ]
     },
     "execution_count": 51,
     "metadata": {},
     "output_type": "execute_result"
    }
   ],
   "source": [
    "spectrograms_transformed[0,0,:,:]"
   ]
  },
  {
   "cell_type": "code",
   "execution_count": 52,
   "metadata": {},
   "outputs": [],
   "source": [
    "spectrograms2train = torch.cat((spectrograms, spectrograms_transformed), axis=0)"
   ]
  },
  {
   "cell_type": "code",
   "execution_count": 53,
   "metadata": {},
   "outputs": [
    {
     "data": {
      "text/plain": [
       "tensor([[42.1847000122, 40.8246078491, 41.2877235413,  ...,\n",
       "         40.9536285400, 41.1957588196, 40.6115684509],\n",
       "        [41.3685226440, 39.9808197021, 40.2949142456,  ...,\n",
       "         39.9813461304, 40.2711868286, 39.6449165344],\n",
       "        [38.8526992798, 37.6004829407, 37.1911468506,  ...,\n",
       "         37.0110931396, 37.4394416809, 36.6992034912],\n",
       "        ...,\n",
       "        [20.0638656616, 20.0638656616, 20.0638656616,  ...,\n",
       "         20.0638656616, 20.0638656616, 20.0638656616],\n",
       "        [20.0638656616, 20.0638656616, 20.0638656616,  ...,\n",
       "         20.0638656616, 20.0638656616, 20.0638656616],\n",
       "        [20.0638656616, 20.0638656616, 20.0638656616,  ...,\n",
       "         20.0638656616, 20.0638656616, 20.0638656616]])"
      ]
     },
     "execution_count": 53,
     "metadata": {},
     "output_type": "execute_result"
    }
   ],
   "source": [
    "spectrograms2train[0,0,:,:]"
   ]
  },
  {
   "cell_type": "code",
   "execution_count": 54,
   "metadata": {},
   "outputs": [],
   "source": [
    "spectrograms2train = spectrograms2train.to(device)"
   ]
  },
  {
   "cell_type": "code",
   "execution_count": 55,
   "metadata": {},
   "outputs": [
    {
     "data": {
      "text/plain": [
       "tensor([[42.1847000122, 40.8246078491, 41.2877235413,  ...,\n",
       "         40.9536285400, 41.1957588196, 40.6115684509],\n",
       "        [41.3685226440, 39.9808197021, 40.2949142456,  ...,\n",
       "         39.9813461304, 40.2711868286, 39.6449165344],\n",
       "        [38.8526992798, 37.6004829407, 37.1911468506,  ...,\n",
       "         37.0110931396, 37.4394416809, 36.6992034912],\n",
       "        ...,\n",
       "        [20.0638656616, 20.0638656616, 20.0638656616,  ...,\n",
       "         20.0638656616, 20.0638656616, 20.0638656616],\n",
       "        [20.0638656616, 20.0638656616, 20.0638656616,  ...,\n",
       "         20.0638656616, 20.0638656616, 20.0638656616],\n",
       "        [20.0638656616, 20.0638656616, 20.0638656616,  ...,\n",
       "         20.0638656616, 20.0638656616, 20.0638656616]], device='cuda:0')"
      ]
     },
     "execution_count": 55,
     "metadata": {},
     "output_type": "execute_result"
    }
   ],
   "source": [
    "spectrograms2train[0,0,:,:]"
   ]
  },
  {
   "cell_type": "code",
   "execution_count": 56,
   "metadata": {},
   "outputs": [],
   "source": [
    "labels2train = torch.cat((labels, labels), axis=0)"
   ]
  },
  {
   "cell_type": "code",
   "execution_count": 57,
   "metadata": {},
   "outputs": [],
   "source": [
    "outputs2 = model2(spectrograms2train)"
   ]
  },
  {
   "cell_type": "code",
   "execution_count": 58,
   "metadata": {},
   "outputs": [
    {
     "data": {
      "text/plain": [
       "tensor([-0.1099266931, -0.0395331606,  0.0182540305,  0.0263280943,\n",
       "        -0.0239245072, -0.0094657391, -0.0076280385,  0.0017163977,\n",
       "         0.0278404504,  0.0821563751, -0.0951414481,  0.0532986745,\n",
       "         0.1602554023, -0.0038349330, -0.0478094742, -0.0330767632,\n",
       "        -0.0897817090, -0.0956881419, -0.1592417955,  0.1090546548,\n",
       "        -0.2096019089, -0.0089410096,  0.0682112724, -0.0225163996,\n",
       "         0.1059725285, -0.0218000188, -0.1951575279, -0.0371089503,\n",
       "        -0.0463627949,  0.0276790634, -0.0093379505, -0.1291644275,\n",
       "         0.0505096503,  0.0106447712, -0.1384189725, -0.0052026324,\n",
       "         0.0304810740,  0.0873709843,  0.0260692015, -0.0704263374,\n",
       "        -0.0805853978,  0.0205334313, -0.1467180848,  0.0488160327,\n",
       "        -0.0355344638,  0.1028430089, -0.0578082651,  0.1216111854,\n",
       "         0.0409928113,  0.0202666745,  0.0417032465, -0.0568032935,\n",
       "        -0.0639105365, -0.0860885754, -0.0076957941, -0.1232442930,\n",
       "        -0.0745031163, -0.0032451749, -0.0013194829,  0.0171930939,\n",
       "         0.0250975676,  0.0272353142, -0.0543929338,  0.0484283008,\n",
       "         0.0605143160, -0.0470892116, -0.0568928048, -0.0794251040,\n",
       "        -0.0401321799, -0.0091252066, -0.0034837089,  0.0379682928,\n",
       "         0.1298047900, -0.0725241974,  0.0218513831, -0.0530780554,\n",
       "        -0.0138389841,  0.0458000526, -0.0837863460,  0.0464919060,\n",
       "         0.0413343757,  0.0275996085, -0.1412947476,  0.0812176019,\n",
       "         0.0520679653, -0.0854804292,  0.1665673554, -0.0050863251,\n",
       "         0.0507723317, -0.0289808959, -0.0749553964, -0.0662219077,\n",
       "        -0.0073672086,  0.0543670766, -0.1541108191,  0.0955529064,\n",
       "        -0.0864818469,  0.0817930996, -0.1079173759, -0.0236833394,\n",
       "        -0.0237928852,  0.0778099298, -0.0021959804, -0.0343008414,\n",
       "        -0.0297878459, -0.0654504150,  0.0503603220,  0.0270749293,\n",
       "        -0.0654812530, -0.0379734114,  0.0521438159,  0.0997937918,\n",
       "         0.2329315841,  0.0311088599, -0.0906369165,  0.0034228563,\n",
       "         0.0699122995, -0.0513224229,  0.1435166746,  0.0697603077,\n",
       "         0.0542482398, -0.0473178551,  0.1351219118, -0.0011147819,\n",
       "        -0.0025570914,  0.0753760785, -0.1104471460, -0.0341243371,\n",
       "        -0.0193342939,  0.1543995738, -0.0968778059,  0.0720929652,\n",
       "         0.0145727061,  0.0431376062,  0.0041449033,  0.0577359423,\n",
       "        -0.0953513458, -0.1152308658,  0.0538084805, -0.1028495505,\n",
       "        -0.0262362361, -0.0218820870, -0.0271515846,  0.1366993934,\n",
       "         0.0649571121,  0.0263769105,  0.1526633054, -0.1805848777,\n",
       "         0.0473276526,  0.0933282524,  0.1109131947,  0.0956847295,\n",
       "        -0.0312024206, -0.0119420364, -0.0451261252, -0.0007957630,\n",
       "        -0.0306567550, -0.0815264359, -0.0547663644,  0.0317865312,\n",
       "        -0.0155687034,  0.0262100082, -0.0226502791, -0.0023689531,\n",
       "        -0.2376512587,  0.0012698248,  0.1170271263,  0.0104918070,\n",
       "        -0.1868803799, -0.0759528130,  0.0074051358,  0.0581644252,\n",
       "         0.0819134265, -0.0521523878,  0.0142361894, -0.0068736486,\n",
       "         0.0489953421,  0.0443767682,  0.0153045431,  0.0469571836,\n",
       "         0.0723229870], device='cuda:0', grad_fn=<SliceBackward0>)"
      ]
     },
     "execution_count": 58,
     "metadata": {},
     "output_type": "execute_result"
    }
   ],
   "source": [
    "outputs2[0,:]"
   ]
  },
  {
   "cell_type": "code",
   "execution_count": 59,
   "metadata": {},
   "outputs": [],
   "source": [
    "m     = nn.Sigmoid()\n",
    "probs = m(outputs2)"
   ]
  },
  {
   "cell_type": "code",
   "execution_count": 60,
   "metadata": {},
   "outputs": [
    {
     "data": {
      "text/plain": [
       "tensor([0.4725459814, 0.4901179671, 0.5045633316, 0.5065816641, 0.4940191507,\n",
       "        0.4976335764, 0.4980929792, 0.5004290938, 0.5069596767, 0.5205275416,\n",
       "        0.4762325585, 0.5133215189, 0.5399783254, 0.4990412593, 0.4880499244,\n",
       "        0.4917315543, 0.4775696397, 0.4760962427, 0.4602735043, 0.5272366405,\n",
       "        0.4477905333, 0.4977647364, 0.5170462132, 0.4943711162, 0.5264683962,\n",
       "        0.4945501983, 0.4513648748, 0.4907238483, 0.4884113669, 0.5069193244,\n",
       "        0.4976654947, 0.4677537084, 0.5126247406, 0.5026611686, 0.4654504061,\n",
       "        0.4986993670, 0.5076196790, 0.5218288898, 0.5065169334, 0.4824006557,\n",
       "        0.4798645377, 0.5051331520, 0.4633860886, 0.5122016072, 0.4911173284,\n",
       "        0.5256881118, 0.4855519533, 0.5303654075, 0.5102467537, 0.5050665140,\n",
       "        0.5104243159, 0.4858029783, 0.4840277731, 0.4784911275, 0.4980759919,\n",
       "        0.4692278504, 0.4813828170, 0.4991886616, 0.4996701181, 0.5042982101,\n",
       "        0.5062740445, 0.5068084598, 0.4864051342, 0.5121046901, 0.5151239634,\n",
       "        0.4882299006, 0.4857806563, 0.4801541567, 0.4899682999, 0.4977186620,\n",
       "        0.4991290271, 0.5094909072, 0.5324057341, 0.4818769395, 0.5054625869,\n",
       "        0.4867335856, 0.4965403378, 0.5114480257, 0.4790656269, 0.5116208792,\n",
       "        0.5103321671, 0.5068994761, 0.4647350013, 0.5202932358, 0.5130140781,\n",
       "        0.4786429405, 0.5415458083, 0.4987284243, 0.5126903653, 0.4927552938,\n",
       "        0.4812699258, 0.4834505618, 0.4981582165, 0.5135884285, 0.4615483582,\n",
       "        0.5238701105, 0.4783930182, 0.5204368830, 0.4730468094, 0.4940795004,\n",
       "        0.4940520227, 0.5194426775, 0.4994509816, 0.4914256334, 0.4925535619,\n",
       "        0.4836432338, 0.5125874281, 0.5067683458, 0.4836355448, 0.4905078411,\n",
       "        0.5130330324, 0.5249277353, 0.5579710603, 0.5077765584, 0.4773562551,\n",
       "        0.5008557439, 0.5174709558, 0.4871721864, 0.5358177423, 0.5174329877,\n",
       "        0.5135587454, 0.4881727397, 0.5337291956, 0.4997213185, 0.4993607104,\n",
       "        0.5188351274, 0.4724162221, 0.4914697409, 0.4951665699, 0.5385233760,\n",
       "        0.4757995009, 0.5180154443, 0.5036430955, 0.5107827187, 0.5010362267,\n",
       "        0.5144299865, 0.4761802256, 0.4712240994, 0.5134488940, 0.4743102789,\n",
       "        0.4934413135, 0.4945296645, 0.4932125211, 0.5341216922, 0.5162335634,\n",
       "        0.5065938234, 0.5380918980, 0.4549760818, 0.5118296742, 0.5233151317,\n",
       "        0.5276998878, 0.5239029527, 0.4922000170, 0.4970145822, 0.4887203872,\n",
       "        0.4998010695, 0.4923364222, 0.4796296656, 0.4863118529, 0.5079459548,\n",
       "        0.4961079657, 0.5065521002, 0.4943376780, 0.4994077682, 0.4408652782,\n",
       "        0.5003174543, 0.5292233825, 0.5026229620, 0.4534154236, 0.4810208976,\n",
       "        0.5018513203, 0.5145370364, 0.5204669237, 0.4869648218, 0.5035589933,\n",
       "        0.4982815683, 0.5122463703, 0.5110923648, 0.5038260221, 0.5117371082,\n",
       "        0.5180729032], device='cuda:0', grad_fn=<SliceBackward0>)"
      ]
     },
     "execution_count": 60,
     "metadata": {},
     "output_type": "execute_result"
    }
   ],
   "source": [
    "probs[0,:]"
   ]
  },
  {
   "cell_type": "code",
   "execution_count": 61,
   "metadata": {},
   "outputs": [],
   "source": [
    "y_true  = torch.max(labels2train, dim = 1)[0]\n",
    "y_pred  = torch.max(probs, dim = 1)[0]"
   ]
  },
  {
   "cell_type": "code",
   "execution_count": 62,
   "metadata": {},
   "outputs": [],
   "source": [
    "if cont == 1:\n",
    "    Y_true = y_true\n",
    "    Y_pred = y_pred\n",
    "\n",
    "else:                \n",
    "    Y_true = torch.cat((Y_true, y_true), axis=0)\n",
    "    Y_pred = torch.cat((Y_pred, y_pred), axis=0)"
   ]
  },
  {
   "cell_type": "code",
   "execution_count": 63,
   "metadata": {},
   "outputs": [
    {
     "data": {
      "text/plain": [
       "tensor([1., 1., 1., 1., 1., 0., 1., 0., 1., 0., 0., 1., 1., 0., 0., 0., 1., 0.,\n",
       "        1., 1., 1., 1., 0., 1., 0., 1., 1., 1., 1., 0., 1., 1., 0., 1., 0., 1.,\n",
       "        0., 0., 1., 0., 0., 0., 1., 1., 1., 1., 1., 1., 1., 0., 1., 1., 0., 0.,\n",
       "        1., 1., 0., 0., 1., 1., 0., 0., 1., 1., 1., 1., 1., 1., 1., 0., 1., 0.,\n",
       "        1., 0., 0., 1., 1., 0., 0., 0., 1., 0., 1., 1., 1., 1., 0., 1., 0., 1.,\n",
       "        1., 1., 1., 0., 1., 1., 0., 1., 0., 1., 0., 0., 1., 0., 0., 0., 1., 1.,\n",
       "        1., 1., 1., 1., 1., 0., 1., 1., 0., 0., 1., 1., 0., 0., 1., 1., 0., 0.,\n",
       "        1., 1.], device='cuda:0', dtype=torch.float64)"
      ]
     },
     "execution_count": 63,
     "metadata": {},
     "output_type": "execute_result"
    }
   ],
   "source": [
    "y_true"
   ]
  },
  {
   "cell_type": "code",
   "execution_count": 64,
   "metadata": {},
   "outputs": [
    {
     "data": {
      "text/plain": [
       "tensor([0.5579710603, 0.5462026596, 0.5523999929, 0.5542988777, 0.5525311232,\n",
       "        0.5610816479, 0.5778387785, 0.5527662635, 0.5605447888, 0.5505529642,\n",
       "        0.5458220243, 0.5618414879, 0.5538496375, 0.5609320998, 0.5619035959,\n",
       "        0.5702580810, 0.5705679655, 0.5629058480, 0.5540416837, 0.5693856478,\n",
       "        0.5790207386, 0.5796253085, 0.5572024584, 0.5537558198, 0.5563972592,\n",
       "        0.5757946968, 0.5582665205, 0.5702161193, 0.5476136804, 0.5592188835,\n",
       "        0.5790522099, 0.5578448176, 0.5698016286, 0.5597276688, 0.5554230809,\n",
       "        0.5547875166, 0.5514724851, 0.5515486598, 0.5522392392, 0.5644313693,\n",
       "        0.5666114688, 0.5795406103, 0.5634781122, 0.5712374449, 0.5551255941,\n",
       "        0.5729779601, 0.5706380606, 0.5635226369, 0.5622778535, 0.5587263107,\n",
       "        0.5673288703, 0.5635853410, 0.5617873669, 0.5587468743, 0.5516604185,\n",
       "        0.5812342763, 0.5577102304, 0.5524936914, 0.5495192409, 0.5840418935,\n",
       "        0.5641591549, 0.5678297281, 0.5519568324, 0.5747315288, 0.5710065961,\n",
       "        0.5563778877, 0.5566351414, 0.5959411860, 0.5661171675, 0.5551113486,\n",
       "        0.5787357688, 0.5805522203, 0.5724226832, 0.5504689813, 0.5501554608,\n",
       "        0.5684056282, 0.5659961700, 0.5634248257, 0.5658928752, 0.5604723692,\n",
       "        0.5616523623, 0.5605375171, 0.5733414292, 0.5776575208, 0.5690070391,\n",
       "        0.5700604916, 0.5570257902, 0.5665062070, 0.5647127032, 0.5686367154,\n",
       "        0.5829043388, 0.5804343820, 0.5628821254, 0.5610423684, 0.5641254783,\n",
       "        0.5754163861, 0.5571721792, 0.5700967908, 0.5596365333, 0.5759202838,\n",
       "        0.5673605204, 0.5654971004, 0.5768842101, 0.5793126225, 0.5495666862,\n",
       "        0.5701037645, 0.5542775989, 0.5735548735, 0.5732931495, 0.5662925839,\n",
       "        0.5674974322, 0.5497422814, 0.5464010835, 0.5500060916, 0.5754761100,\n",
       "        0.5677797198, 0.5726141930, 0.5821877122, 0.5639145374, 0.5702214837,\n",
       "        0.5654196143, 0.5577779412, 0.5555735230, 0.5516997576, 0.5796990991,\n",
       "        0.5591051579, 0.5691606402, 0.5764452219], device='cuda:0',\n",
       "       grad_fn=<MaxBackward0>)"
      ]
     },
     "execution_count": 64,
     "metadata": {},
     "output_type": "execute_result"
    }
   ],
   "source": [
    "y_pred "
   ]
  },
  {
   "cell_type": "code",
   "execution_count": 65,
   "metadata": {},
   "outputs": [],
   "source": [
    "loss = criterion(outputs2, labels2train)"
   ]
  },
  {
   "cell_type": "code",
   "execution_count": 66,
   "metadata": {},
   "outputs": [
    {
     "data": {
      "text/plain": [
       "tensor(0.6936606664, device='cuda:0', dtype=torch.float64,\n",
       "       grad_fn=<BinaryCrossEntropyWithLogitsBackward0>)"
      ]
     },
     "execution_count": 66,
     "metadata": {},
     "output_type": "execute_result"
    }
   ],
   "source": [
    "loss"
   ]
  },
  {
   "cell_type": "code",
   "execution_count": null,
   "metadata": {},
   "outputs": [],
   "source": [
    "loss.backward()\n",
    "train_loss += loss.item()"
   ]
  },
  {
   "cell_type": "code",
   "execution_count": null,
   "metadata": {},
   "outputs": [],
   "source": [
    "# Perform optimization\n",
    "optimizer1.step()\n",
    "optimizer2.step()\n",
    "scheduler1.step()\n",
    "scheduler2.step()"
   ]
  },
  {
   "cell_type": "code",
   "execution_count": null,
   "metadata": {},
   "outputs": [],
   "source": [
    "# record training loss\n",
    "train_losses.append(loss.item())"
   ]
  },
  {
   "cell_type": "code",
   "execution_count": null,
   "metadata": {},
   "outputs": [],
   "source": [
    "del _data\n",
    "torch.cuda.empty_cache()"
   ]
  },
  {
   "cell_type": "code",
   "execution_count": null,
   "metadata": {},
   "outputs": [],
   "source": [
    "y_val_true, val_pred = Y_true.to('cpu').detach().numpy(), Y_pred.to('cpu').detach().numpy()"
   ]
  },
  {
   "cell_type": "code",
   "execution_count": null,
   "metadata": {},
   "outputs": [
    {
     "data": {
      "text/plain": [
       "array([1., 1., 1., 1., 1., 0., 1., 0., 1., 0., 0., 1., 1., 0., 0., 0., 1.,\n",
       "       0., 1., 1., 1., 1., 0., 1., 0., 1., 1., 1., 1., 0., 1., 1., 0., 1.,\n",
       "       0., 1., 0., 0., 1., 0., 0., 0., 1., 1., 1., 1., 1., 1., 1., 0., 1.,\n",
       "       1., 0., 0., 1., 1., 0., 0., 1., 1., 0., 0., 1., 1., 1., 1., 1., 1.,\n",
       "       1., 0., 1., 0., 1., 0., 0., 1., 1., 0., 0., 0., 1., 0., 1., 1., 1.,\n",
       "       1., 0., 1., 0., 1., 1., 1., 1., 0., 1., 1., 0., 1., 0., 1., 0., 0.,\n",
       "       1., 0., 0., 0., 1., 1., 1., 1., 1., 1., 1., 0., 1., 1., 0., 0., 1.,\n",
       "       1., 0., 0., 1., 1., 0., 0., 1., 1.])"
      ]
     },
     "execution_count": 72,
     "metadata": {},
     "output_type": "execute_result"
    }
   ],
   "source": [
    "y_val_true"
   ]
  },
  {
   "cell_type": "code",
   "execution_count": null,
   "metadata": {},
   "outputs": [
    {
     "data": {
      "text/plain": [
       "array([0.55796456, 0.54619944, 0.5524026 , 0.5543061 , 0.5525338 ,\n",
       "       0.56106955, 0.57785237, 0.5527633 , 0.5605436 , 0.5505509 ,\n",
       "       0.5458222 , 0.56183714, 0.5538384 , 0.5609299 , 0.5618995 ,\n",
       "       0.5702769 , 0.5705745 , 0.5629146 , 0.55404925, 0.56939214,\n",
       "       0.57901895, 0.57962173, 0.55720323, 0.5537612 , 0.55639607,\n",
       "       0.57579565, 0.55826926, 0.5702225 , 0.54760915, 0.55922836,\n",
       "       0.5790541 , 0.5578461 , 0.56979257, 0.5597291 , 0.55542076,\n",
       "       0.5547884 , 0.5514792 , 0.55154955, 0.5522426 , 0.56443703,\n",
       "       0.5666142 , 0.5795472 , 0.56347203, 0.57123345, 0.5551218 ,\n",
       "       0.5729913 , 0.5706498 , 0.56353045, 0.562281  , 0.5587333 ,\n",
       "       0.5673164 , 0.5635918 , 0.5617815 , 0.5587699 , 0.5516663 ,\n",
       "       0.5812272 , 0.5577105 , 0.5524921 , 0.54951537, 0.58403665,\n",
       "       0.56416506, 0.5678289 , 0.5519585 , 0.5747406 , 0.57100874,\n",
       "       0.55639464, 0.5566398 , 0.5959412 , 0.56610674, 0.55510867,\n",
       "       0.578736  , 0.58056575, 0.572433  , 0.55046815, 0.5501506 ,\n",
       "       0.56840324, 0.56598973, 0.5634322 , 0.56589556, 0.5604678 ,\n",
       "       0.56164974, 0.5605354 , 0.57334316, 0.5776491 , 0.56900305,\n",
       "       0.5700762 , 0.5570226 , 0.56648695, 0.5647018 , 0.5686285 ,\n",
       "       0.5829053 , 0.58043313, 0.5628849 , 0.56104183, 0.5641272 ,\n",
       "       0.5754125 , 0.557178  , 0.5701043 , 0.5596295 , 0.5759171 ,\n",
       "       0.5673568 , 0.56550354, 0.576882  , 0.579308  , 0.54956514,\n",
       "       0.5701082 , 0.5542795 , 0.5735532 , 0.57330084, 0.56629115,\n",
       "       0.567497  , 0.54974204, 0.5463945 , 0.5500103 , 0.57547885,\n",
       "       0.5677699 , 0.5726192 , 0.58218586, 0.5639105 , 0.570224  ,\n",
       "       0.5654235 , 0.5577813 , 0.5555641 , 0.55170923, 0.5797044 ,\n",
       "       0.55910695, 0.56916213, 0.576443  ], dtype=float32)"
      ]
     },
     "execution_count": 73,
     "metadata": {},
     "output_type": "execute_result"
    }
   ],
   "source": [
    "val_pred "
   ]
  },
  {
   "cell_type": "code",
   "execution_count": null,
   "metadata": {},
   "outputs": [
    {
     "data": {
      "text/plain": [
       "np.float64(0.693661426627358)"
      ]
     },
     "execution_count": 74,
     "metadata": {},
     "output_type": "execute_result"
    }
   ],
   "source": [
    "np.mean(train_losses)"
   ]
  },
  {
   "cell_type": "code",
   "execution_count": null,
   "metadata": {},
   "outputs": [],
   "source": [
    "train_aucpr = average_precision_score(y_val_true,val_pred)"
   ]
  },
  {
   "cell_type": "code",
   "execution_count": null,
   "metadata": {},
   "outputs": [
    {
     "data": {
      "text/plain": [
       "np.float64(0.7191555105653817)"
      ]
     },
     "execution_count": 76,
     "metadata": {},
     "output_type": "execute_result"
    }
   ],
   "source": [
    "train_aucpr"
   ]
  },
  {
   "cell_type": "code",
   "execution_count": null,
   "metadata": {},
   "outputs": [
    {
     "data": {
      "text/plain": [
       "'\\n\\nvalid_losses, valid_aucpr = validate_v2(\\n                                        model1,\\n                                        model2,\\n                                        device, \\n                                        valid_loader, \\n                                        criterion, \\n                                        epoch,\\n                                        experiment_1,\\n                                        experiment_2\\n                                       )\\n\\n'"
      ]
     },
     "execution_count": 77,
     "metadata": {},
     "output_type": "execute_result"
    }
   ],
   "source": [
    "'''\n",
    "\n",
    "valid_losses, valid_aucpr = validate_v2(\n",
    "                                        model1,\n",
    "                                        model2,\n",
    "                                        device, \n",
    "                                        valid_loader, \n",
    "                                        criterion, \n",
    "                                        epoch,\n",
    "                                        experiment_1,\n",
    "                                        experiment_2\n",
    "                                       )\n",
    "\n",
    "'''"
   ]
  },
  {
   "cell_type": "code",
   "execution_count": null,
   "metadata": {},
   "outputs": [],
   "source": [
    "ECOG_SAMPLE_RATE = 250\n",
    "ECOG_CHANNELS    = 4\n",
    "TT               = 1000 \n",
    "SPEC_WIN_LEN     = int(ECOG_SAMPLE_RATE * TT / 1000 ) \n",
    "overlap          = 500 \n",
    "SPEC_HOP_LEN     = int(ECOG_SAMPLE_RATE * (TT - overlap) / 1000) \n",
    "SPEC_NFFT        = 500\n",
    "if   experiment_2 == '.1':  \n",
    "    top_db       = 40.0\n",
    "elif experiment_2 == '.2':\n",
    "    top_db       = 60.0\n",
    "elif experiment_2 == '.3':\n",
    "    top_db       = 80.0"
   ]
  },
  {
   "cell_type": "code",
   "execution_count": null,
   "metadata": {},
   "outputs": [],
   "source": [
    "valid_losses = []\n",
    "cont         = 0"
   ]
  },
  {
   "cell_type": "code",
   "execution_count": null,
   "metadata": {},
   "outputs": [
    {
     "data": {
      "text/plain": [
       "DynamicSpatialFilter(\n",
       "  (feat_extractor): SpatialFeatureExtractor()\n",
       "  (mlp): Sequential(\n",
       "    (0): Linear(in_features=4, out_features=4, bias=True)\n",
       "    (1): ReLU()\n",
       "    (2): Linear(in_features=4, out_features=20, bias=True)\n",
       "  )\n",
       ")"
      ]
     },
     "execution_count": 34,
     "metadata": {},
     "output_type": "execute_result"
    }
   ],
   "source": [
    "model1.eval()"
   ]
  },
  {
   "cell_type": "code",
   "execution_count": null,
   "metadata": {},
   "outputs": [
    {
     "data": {
      "text/plain": [
       "iESPnet(\n",
       "  (freqcnn): Sequential(\n",
       "    (0): Conv2d(4, 8, kernel_size=(120, 1), stride=(1, 1), padding=(119, 0), dilation=(2, 1), bias=False)\n",
       "    (1): ReLU()\n",
       "    (2): InstanceNorm2d(8, eps=1e-05, momentum=0.01, affine=True, track_running_stats=True)\n",
       "  )\n",
       "  (timecnn): Sequential(\n",
       "    (0): Conv2d(4, 8, kernel_size=(1, 181), stride=(1, 1), padding=(0, 180), dilation=(1, 2), bias=False)\n",
       "    (1): ReLU()\n",
       "    (2): InstanceNorm2d(8, eps=1e-05, momentum=0.01, affine=True, track_running_stats=True)\n",
       "  )\n",
       "  (cnn_ori): Conv2d(4, 16, kernel_size=(3, 3), stride=(2, 1), padding=(1, 1), bias=False)\n",
       "  (cnn): Conv2d(16, 16, kernel_size=(3, 3), stride=(2, 1), padding=(1, 1), bias=False)\n",
       "  (rescnn_layers): Sequential(\n",
       "    (0): ResidualCNNbatch(\n",
       "      (cnn1): Conv2d(16, 16, kernel_size=(3, 3), stride=(1, 1), padding=(1, 1), bias=False)\n",
       "      (cnn2): Conv2d(16, 16, kernel_size=(3, 3), stride=(1, 1), padding=(1, 1), bias=False)\n",
       "      (dropout1): Dropout(p=0.3, inplace=False)\n",
       "      (dropout2): Dropout(p=0.3, inplace=False)\n",
       "      (norm1): BatchNorm2d(16, eps=1e-05, momentum=0.01, affine=True, track_running_stats=True)\n",
       "      (norm2): BatchNorm2d(16, eps=1e-05, momentum=0.01, affine=True, track_running_stats=True)\n",
       "    )\n",
       "    (1): ResidualCNNbatch(\n",
       "      (cnn1): Conv2d(16, 16, kernel_size=(3, 3), stride=(1, 1), padding=(1, 1), bias=False)\n",
       "      (cnn2): Conv2d(16, 16, kernel_size=(3, 3), stride=(1, 1), padding=(1, 1), bias=False)\n",
       "      (dropout1): Dropout(p=0.3, inplace=False)\n",
       "      (dropout2): Dropout(p=0.3, inplace=False)\n",
       "      (norm1): BatchNorm2d(16, eps=1e-05, momentum=0.01, affine=True, track_running_stats=True)\n",
       "      (norm2): BatchNorm2d(16, eps=1e-05, momentum=0.01, affine=True, track_running_stats=True)\n",
       "    )\n",
       "    (2): ResidualCNNbatch(\n",
       "      (cnn1): Conv2d(16, 16, kernel_size=(3, 3), stride=(1, 1), padding=(1, 1), bias=False)\n",
       "      (cnn2): Conv2d(16, 16, kernel_size=(3, 3), stride=(1, 1), padding=(1, 1), bias=False)\n",
       "      (dropout1): Dropout(p=0.3, inplace=False)\n",
       "      (dropout2): Dropout(p=0.3, inplace=False)\n",
       "      (norm1): BatchNorm2d(16, eps=1e-05, momentum=0.01, affine=True, track_running_stats=True)\n",
       "      (norm2): BatchNorm2d(16, eps=1e-05, momentum=0.01, affine=True, track_running_stats=True)\n",
       "    )\n",
       "  )\n",
       "  (rescnn_layers_ori): Sequential(\n",
       "    (0): ResidualCNNbatch(\n",
       "      (cnn1): Conv2d(16, 16, kernel_size=(3, 3), stride=(1, 1), padding=(1, 1), bias=False)\n",
       "      (cnn2): Conv2d(16, 16, kernel_size=(3, 3), stride=(1, 1), padding=(1, 1), bias=False)\n",
       "      (dropout1): Dropout(p=0.3, inplace=False)\n",
       "      (dropout2): Dropout(p=0.3, inplace=False)\n",
       "      (norm1): BatchNorm2d(16, eps=1e-05, momentum=0.01, affine=True, track_running_stats=True)\n",
       "      (norm2): BatchNorm2d(16, eps=1e-05, momentum=0.01, affine=True, track_running_stats=True)\n",
       "    )\n",
       "    (1): ResidualCNNbatch(\n",
       "      (cnn1): Conv2d(16, 16, kernel_size=(3, 3), stride=(1, 1), padding=(1, 1), bias=False)\n",
       "      (cnn2): Conv2d(16, 16, kernel_size=(3, 3), stride=(1, 1), padding=(1, 1), bias=False)\n",
       "      (dropout1): Dropout(p=0.3, inplace=False)\n",
       "      (dropout2): Dropout(p=0.3, inplace=False)\n",
       "      (norm1): BatchNorm2d(16, eps=1e-05, momentum=0.01, affine=True, track_running_stats=True)\n",
       "      (norm2): BatchNorm2d(16, eps=1e-05, momentum=0.01, affine=True, track_running_stats=True)\n",
       "    )\n",
       "    (2): ResidualCNNbatch(\n",
       "      (cnn1): Conv2d(16, 16, kernel_size=(3, 3), stride=(1, 1), padding=(1, 1), bias=False)\n",
       "      (cnn2): Conv2d(16, 16, kernel_size=(3, 3), stride=(1, 1), padding=(1, 1), bias=False)\n",
       "      (dropout1): Dropout(p=0.3, inplace=False)\n",
       "      (dropout2): Dropout(p=0.3, inplace=False)\n",
       "      (norm1): BatchNorm2d(16, eps=1e-05, momentum=0.01, affine=True, track_running_stats=True)\n",
       "      (norm2): BatchNorm2d(16, eps=1e-05, momentum=0.01, affine=True, track_running_stats=True)\n",
       "    )\n",
       "  )\n",
       "  (avgpool): AdaptiveAvgPool2d(output_size=(40, 181))\n",
       "  (rnn_layers): Sequential(\n",
       "    (0): BidirectionalGRU(\n",
       "      (BiGRU): GRU(1280, 150, batch_first=True, bidirectional=True)\n",
       "      (layer_norm): LayerNorm((1280,), eps=1e-05, elementwise_affine=True)\n",
       "      (dropout): Dropout(p=0.3, inplace=False)\n",
       "    )\n",
       "    (1): BidirectionalGRU(\n",
       "      (BiGRU): GRU(300, 100, bidirectional=True)\n",
       "      (layer_norm): LayerNorm((300,), eps=1e-05, elementwise_affine=True)\n",
       "      (dropout): Dropout(p=0.3, inplace=False)\n",
       "    )\n",
       "    (2): BidirectionalGRU(\n",
       "      (BiGRU): GRU(200, 50, bidirectional=True)\n",
       "      (layer_norm): LayerNorm((200,), eps=1e-05, elementwise_affine=True)\n",
       "      (dropout): Dropout(p=0.3, inplace=False)\n",
       "    )\n",
       "  )\n",
       "  (classifier): Sequential(\n",
       "    (0): Linear(in_features=100, out_features=50, bias=True)\n",
       "    (1): ReLU()\n",
       "    (2): Dropout(p=0.3, inplace=False)\n",
       "    (3): Linear(in_features=50, out_features=1, bias=True)\n",
       "  )\n",
       ")"
      ]
     },
     "execution_count": 35,
     "metadata": {},
     "output_type": "execute_result"
    }
   ],
   "source": [
    "model2.eval()"
   ]
  },
  {
   "cell_type": "code",
   "execution_count": null,
   "metadata": {},
   "outputs": [],
   "source": [
    "with torch.no_grad():\n",
    "    for eeg, labels in valid_loader:\n",
    "        cont+=1\n",
    "    \n",
    "        eeg, labels = eeg.to(device), labels.to(device)\n",
    "        break"
   ]
  },
  {
   "cell_type": "code",
   "execution_count": null,
   "metadata": {},
   "outputs": [
    {
     "data": {
      "text/plain": [
       "tensor([-0.4312779605,  0.7666466832,  0.7666466832,  ...,\n",
       "         1.7282834053,  2.3272457123,  2.3272457123], device='cuda:0')"
      ]
     },
     "execution_count": 37,
     "metadata": {},
     "output_type": "execute_result"
    }
   ],
   "source": [
    "eeg[0,0,:]"
   ]
  },
  {
   "cell_type": "code",
   "execution_count": null,
   "metadata": {},
   "outputs": [],
   "source": [
    "outputs1    = model1(eeg)\n",
    "outputs1    = outputs1.squeeze(1)"
   ]
  },
  {
   "cell_type": "code",
   "execution_count": null,
   "metadata": {},
   "outputs": [
    {
     "data": {
      "text/plain": [
       "tensor([ 1.2036125660, -0.5157686472, -0.2858802676,  ...,\n",
       "        -0.3922327757, -1.0043334961, -0.0676615238], device='cuda:0',\n",
       "       grad_fn=<SliceBackward0>)"
      ]
     },
     "execution_count": 39,
     "metadata": {},
     "output_type": "execute_result"
    }
   ],
   "source": [
    "outputs1[0,0,:]"
   ]
  },
  {
   "cell_type": "code",
   "execution_count": null,
   "metadata": {},
   "outputs": [],
   "source": [
    "if   experiment_1 == 'exp1': # sin normalizacion \n",
    "    pass\n",
    "elif experiment_1 == 'exp2': # normalizacion por canal\n",
    "    mean     = outputs1.mean(dim=2, keepdim=True)\n",
    "    std      = outputs1.std(dim=2, keepdim=True)\n",
    "\n",
    "    outputs1 = (outputs1 - mean) / std\n",
    "\n",
    "elif experiment_1 == 'exp3': # normalizacion global\n",
    "    outputs1 = (outputs1 - outputs1.mean()) / outputs1.std()"
   ]
  },
  {
   "cell_type": "code",
   "execution_count": null,
   "metadata": {},
   "outputs": [],
   "source": [
    "outputs1 = outputs1.to('cpu')"
   ]
  },
  {
   "cell_type": "code",
   "execution_count": null,
   "metadata": {},
   "outputs": [
    {
     "data": {
      "text/plain": [
       "tensor([ 1.2036125660, -0.5157686472, -0.2858802676,  ...,\n",
       "        -0.3922327757, -1.0043334961, -0.0676615238], grad_fn=<SliceBackward0>)"
      ]
     },
     "execution_count": 42,
     "metadata": {},
     "output_type": "execute_result"
    }
   ],
   "source": [
    "outputs1[0,0,:]"
   ]
  },
  {
   "cell_type": "code",
   "execution_count": null,
   "metadata": {},
   "outputs": [],
   "source": [
    "spectrograms = get_spectrogram_2(outputs1, device, ECOG_SAMPLE_RATE, SPEC_NFFT, SPEC_WIN_LEN, SPEC_HOP_LEN, top_db)"
   ]
  },
  {
   "cell_type": "code",
   "execution_count": null,
   "metadata": {},
   "outputs": [
    {
     "data": {
      "text/plain": [
       "array([[36.805565, 34.840134, 34.31321 , ..., 34.417633, 34.76141 ,\n",
       "        30.557869],\n",
       "       [36.02135 , 33.790146, 33.390934, ..., 33.623505, 33.93907 ,\n",
       "        29.05682 ],\n",
       "       [33.74846 , 30.42043 , 30.663383, ..., 31.240124, 31.486313,\n",
       "        23.876953],\n",
       "       ...,\n",
       "       [ 3.133751,  9.328862, 11.79624 , ..., 11.992373, 10.561933,\n",
       "        10.242782],\n",
       "       [ 3.133751,  9.636835, 12.209043, ...,  9.976776, 11.249703,\n",
       "        11.043509],\n",
       "       [ 3.133751, 10.14909 , 11.124491, ...,  9.342586, 12.069448,\n",
       "        11.25875 ]], dtype=float32)"
      ]
     },
     "execution_count": 44,
     "metadata": {},
     "output_type": "execute_result"
    }
   ],
   "source": [
    "spectrograms[0,0,:,:]"
   ]
  },
  {
   "cell_type": "code",
   "execution_count": null,
   "metadata": {},
   "outputs": [
    {
     "data": {
      "text/plain": [
       "tensor([[36.8055648804, 34.8401336670, 34.3132095337,  ...,\n",
       "         34.4176330566, 34.7614097595, 30.5578689575],\n",
       "        [36.0213508606, 33.7901458740, 33.3909339905,  ...,\n",
       "         33.6235046387, 33.9390716553, 29.0568199158],\n",
       "        [33.7484588623, 30.4204292297, 30.6633834839,  ...,\n",
       "         31.2401237488, 31.4863128662, 23.8769531250],\n",
       "        ...,\n",
       "        [ 3.1337509155,  9.3288621902, 11.7962398529,  ...,\n",
       "         11.9923734665, 10.5619325638, 10.2427816391],\n",
       "        [ 3.1337509155,  9.6368350983, 12.2090425491,  ...,\n",
       "          9.9767761230, 11.2497034073, 11.0435085297],\n",
       "        [ 3.1337509155, 10.1490898132, 11.1244907379,  ...,\n",
       "          9.3425855637, 12.0694484711, 11.2587499619]], device='cuda:0')"
      ]
     },
     "execution_count": 45,
     "metadata": {},
     "output_type": "execute_result"
    }
   ],
   "source": [
    "spectrograms = torch.from_numpy(spectrograms)\n",
    "spectrograms = spectrograms.to(device)\n",
    "spectrograms[0,0,:,:]"
   ]
  },
  {
   "cell_type": "code",
   "execution_count": null,
   "metadata": {},
   "outputs": [],
   "source": [
    "outputs2 = model2(spectrograms)"
   ]
  },
  {
   "cell_type": "code",
   "execution_count": null,
   "metadata": {},
   "outputs": [
    {
     "data": {
      "text/plain": [
       "tensor([ 0.0268676206, -0.0102258921, -0.0349138603, -0.0334215462,\n",
       "        -0.0234079435, -0.0166705623, -0.0309853628, -0.0297762901,\n",
       "        -0.0336499438, -0.0154534802, -0.0290622711, -0.0222812146,\n",
       "        -0.0254983902, -0.0360274985, -0.0286205560, -0.0244271457,\n",
       "        -0.0182656869, -0.0261916965, -0.0296516716, -0.0395974293,\n",
       "        -0.0171713606, -0.0233043209, -0.0273038149, -0.0303875357,\n",
       "        -0.0247275308, -0.0386262238, -0.0436143354, -0.0479446277,\n",
       "        -0.0290906653, -0.0391142368, -0.0387745947, -0.0319819450,\n",
       "        -0.0314857587, -0.0314369947, -0.0393586233, -0.0308798328,\n",
       "        -0.0312369391, -0.0353200138, -0.0257927105, -0.0194795951,\n",
       "        -0.0309981108, -0.0301626176, -0.0393772423, -0.0464365110,\n",
       "        -0.0310236886, -0.0146152452, -0.0253396258, -0.0161633492,\n",
       "        -0.0305184573, -0.0249036178, -0.0248050913, -0.0222530439,\n",
       "        -0.0183672905, -0.0357629880, -0.0341870040, -0.0478546768,\n",
       "        -0.0350622833, -0.0398877934, -0.0384599566, -0.0418198481,\n",
       "        -0.0401423201, -0.0236726776, -0.0204892755, -0.0358434767,\n",
       "        -0.0469489470, -0.0388308689, -0.0423196629, -0.0343362018,\n",
       "        -0.0388378203, -0.0456668064, -0.0341414288, -0.0461413786,\n",
       "        -0.0404542014, -0.0481747165, -0.0444417074, -0.0441723019,\n",
       "        -0.0427918509, -0.0545208976, -0.0477518663, -0.0412822142,\n",
       "        -0.0209204704, -0.0300314054, -0.0293104649, -0.0264056399,\n",
       "        -0.0275592357, -0.0191155896, -0.0356644392, -0.0459561870,\n",
       "        -0.0309918001, -0.0114772990, -0.0291209668, -0.0452819541,\n",
       "        -0.0443792343, -0.0494013950, -0.0558650717, -0.0489054546,\n",
       "        -0.0485163033, -0.0337925255, -0.0338551551, -0.0389672369,\n",
       "        -0.0200077072, -0.0259416103, -0.0390317291, -0.0233662426,\n",
       "        -0.0301516727, -0.0318173021, -0.0408766046, -0.0199986771,\n",
       "        -0.0432815403, -0.0479567200, -0.0441375375, -0.0462778881,\n",
       "        -0.0325338840, -0.0162592083, -0.0373526141, -0.0256365463,\n",
       "        -0.0264285877, -0.0199202672, -0.0306679308, -0.0173792765,\n",
       "        -0.0293007195, -0.0116040111, -0.0317181125, -0.0285086110,\n",
       "        -0.0183983445, -0.0234064907, -0.0320712477, -0.0334158540,\n",
       "        -0.0276749358, -0.0115311556, -0.0235552713, -0.0127498284,\n",
       "        -0.0149848014, -0.0211438462, -0.0142297521, -0.0115602054,\n",
       "        -0.0361391604, -0.0435454324, -0.0241312459, -0.0058194250,\n",
       "        -0.0121933520, -0.0210484266, -0.0129552931, -0.0210167244,\n",
       "        -0.0201813728, -0.0299581364, -0.0311069489, -0.0257262439,\n",
       "        -0.0280790254, -0.0202071443, -0.0282063410, -0.0272857174,\n",
       "        -0.0193408057, -0.0151069574, -0.0101568066, -0.0065920018,\n",
       "        -0.0218520761, -0.0224700123, -0.0132632554, -0.0184254944,\n",
       "        -0.0215937421, -0.0187870488, -0.0297757685, -0.0203726590,\n",
       "        -0.0136854686, -0.0205921307, -0.0214001760, -0.0333658680,\n",
       "        -0.0445289835, -0.0063443743, -0.0162887722, -0.0216433331,\n",
       "        -0.0120892748, -0.0121244229, -0.0181729570, -0.0289050862,\n",
       "        -0.0153276250, -0.0233076885, -0.0054450035,  0.0073172599,\n",
       "         0.0184078775], device='cuda:0', grad_fn=<SliceBackward0>)"
      ]
     },
     "execution_count": 47,
     "metadata": {},
     "output_type": "execute_result"
    }
   ],
   "source": [
    "outputs2[0,:]"
   ]
  },
  {
   "cell_type": "code",
   "execution_count": null,
   "metadata": {},
   "outputs": [],
   "source": [
    "m = nn.Sigmoid()\n",
    "probs = m(outputs2)"
   ]
  },
  {
   "cell_type": "code",
   "execution_count": null,
   "metadata": {},
   "outputs": [
    {
     "data": {
      "text/plain": [
       "tensor([0.5031316280, 0.4923630059, 0.4882842898, 0.4877800941, 0.4902320802,\n",
       "        0.4924897850, 0.4887770116, 0.4896684289, 0.4886046052, 0.4933273792,\n",
       "        0.4897944629, 0.4911900163, 0.4900868535, 0.4885035157, 0.4901591241,\n",
       "        0.4897157848, 0.4910209179, 0.4901307821, 0.4896396399, 0.4864921272,\n",
       "        0.4920317531, 0.4907867610, 0.4892153442, 0.4889356196, 0.4904960692,\n",
       "        0.4874242246, 0.4849896431, 0.4852839112, 0.4888647497, 0.4869835377,\n",
       "        0.4862327576, 0.4887111783, 0.4885486960, 0.4882102311, 0.4870402515,\n",
       "        0.4898419380, 0.4896703959, 0.4881352484, 0.4904320538, 0.4915081561,\n",
       "        0.4885614514, 0.4893611968, 0.4873071611, 0.4853157997, 0.4888099730,\n",
       "        0.4920020998, 0.4902067482, 0.4931480289, 0.4894672930, 0.4906793535,\n",
       "        0.4902188778, 0.4919020236, 0.4925732911, 0.4874093831, 0.4880323112,\n",
       "        0.4850503504, 0.4882877767, 0.4876057804, 0.4880566299, 0.4871735871,\n",
       "        0.4867578745, 0.4908548295, 0.4923704565, 0.4892777205, 0.4861461818,\n",
       "        0.4882159829, 0.4871891439, 0.4870901406, 0.4881319404, 0.4867411554,\n",
       "        0.4881020784, 0.4854018390, 0.4861350358, 0.4845323563, 0.4868505895,\n",
       "        0.4872259498, 0.4869988561, 0.4851797819, 0.4858024716, 0.4846729040,\n",
       "        0.4894854128, 0.4883463085, 0.4885864258, 0.4894695282, 0.4891881347,\n",
       "        0.4911890328, 0.4872207344, 0.4841558337, 0.4876542091, 0.4935193956,\n",
       "        0.4894373715, 0.4850637317, 0.4848375022, 0.4837455153, 0.4822675586,\n",
       "        0.4840540290, 0.4849377275, 0.4885610044, 0.4869714975, 0.4854932725,\n",
       "        0.4906678200, 0.4891579449, 0.4872716665, 0.4914296567, 0.4900994599,\n",
       "        0.4883117080, 0.4871727526, 0.4903516769, 0.4847135544, 0.4854103923,\n",
       "        0.4836251736, 0.4832277596, 0.4872578084, 0.4915554523, 0.4857984781,\n",
       "        0.4877520204, 0.4884229898, 0.4884153008, 0.4867055714, 0.4891694188,\n",
       "        0.4881136417, 0.4916448593, 0.4863736033, 0.4885044396, 0.4906879663,\n",
       "        0.4903723300, 0.4884927273, 0.4875178337, 0.4876958728, 0.4909190536,\n",
       "        0.4903423488, 0.4921411574, 0.4911804795, 0.4888655841, 0.4902305305,\n",
       "        0.4924632311, 0.4863553941, 0.4852330387, 0.4880869687, 0.4925931990,\n",
       "        0.4927996993, 0.4894677401, 0.4915023446, 0.4901822209, 0.4898627698,\n",
       "        0.4886610210, 0.4873289764, 0.4877344966, 0.4877432287, 0.4895575643,\n",
       "        0.4872283041, 0.4881192744, 0.4901317060, 0.4910152853, 0.4921761453,\n",
       "        0.4926002622, 0.4888810217, 0.4882671833, 0.4903354049, 0.4894606769,\n",
       "        0.4879011214, 0.4887286425, 0.4871289432, 0.4903767407, 0.4908076823,\n",
       "        0.4894320071, 0.4890726209, 0.4868077040, 0.4842199981, 0.4933431149,\n",
       "        0.4904285669, 0.4898912609, 0.4922437370, 0.4921697378, 0.4902060032,\n",
       "        0.4873903692, 0.4907709360, 0.4893491864, 0.4949351251, 0.4974852502,\n",
       "        0.5032137036], device='cuda:0', grad_fn=<SliceBackward0>)"
      ]
     },
     "execution_count": 95,
     "metadata": {},
     "output_type": "execute_result"
    }
   ],
   "source": [
    "probs[0,:]"
   ]
  },
  {
   "cell_type": "code",
   "execution_count": null,
   "metadata": {},
   "outputs": [],
   "source": [
    "if len(probs.shape) == 1:\n",
    "    probs.unsqueeze_(0)\n",
    "    outputs2.unsqueeze_(0)\n",
    "\n",
    "y_true  = torch.max(labels, dim =1)[0]\n",
    "y_pred  = torch.max(probs, dim=1)[0]\n",
    "\n",
    "if cont == 1:\n",
    "    Y_true = y_true\n",
    "    Y_pred= y_pred\n",
    "\n",
    "else:                \n",
    "    Y_true = torch.cat((Y_true, y_true), axis=0)\n",
    "    Y_pred = torch.cat((Y_pred, y_pred), axis=0)"
   ]
  },
  {
   "cell_type": "code",
   "execution_count": null,
   "metadata": {},
   "outputs": [],
   "source": [
    "loss = criterion(outputs2, labels)\n",
    "valid_losses.append(loss.item())"
   ]
  },
  {
   "cell_type": "code",
   "execution_count": null,
   "metadata": {},
   "outputs": [
    {
     "data": {
      "text/plain": [
       "tensor(0.6687840343, device='cuda:0', dtype=torch.float64,\n",
       "       grad_fn=<BinaryCrossEntropyWithLogitsBackward0>)"
      ]
     },
     "execution_count": 98,
     "metadata": {},
     "output_type": "execute_result"
    }
   ],
   "source": [
    "loss"
   ]
  },
  {
   "cell_type": "code",
   "execution_count": null,
   "metadata": {},
   "outputs": [],
   "source": [
    "del eeg, loss\n",
    "torch.cuda.empty_cache()    "
   ]
  },
  {
   "cell_type": "code",
   "execution_count": null,
   "metadata": {},
   "outputs": [
    {
     "name": "stderr",
     "output_type": "stream",
     "text": [
      "/home/martin/Documentos/environments/env_thalamus/lib/python3.10/site-packages/sklearn/metrics/_ranking.py:993: UserWarning: No positive class found in y_true, recall is set to one for all thresholds.\n",
      "  warnings.warn(\n"
     ]
    }
   ],
   "source": [
    "valid_aucpr = average_precision_score(Y_true.to('cpu').detach().numpy(), Y_pred.to('cpu').detach().numpy())"
   ]
  },
  {
   "cell_type": "code",
   "execution_count": null,
   "metadata": {},
   "outputs": [
    {
     "data": {
      "text/plain": [
       "(np.float64(0.6687840342847116), np.float64(-0.0))"
      ]
     },
     "execution_count": 101,
     "metadata": {},
     "output_type": "execute_result"
    }
   ],
   "source": [
    "np.mean(valid_losses), valid_aucpr"
   ]
  }
 ],
 "metadata": {
  "kernelspec": {
   "display_name": "Python (env_thalamus)",
   "language": "python",
   "name": "env_thalamus"
  },
  "language_info": {
   "codemirror_mode": {
    "name": "ipython",
    "version": 3
   },
   "file_extension": ".py",
   "mimetype": "text/x-python",
   "name": "python",
   "nbconvert_exporter": "python",
   "pygments_lexer": "ipython3",
   "version": "3.10.12"
  }
 },
 "nbformat": 4,
 "nbformat_minor": 2
}
