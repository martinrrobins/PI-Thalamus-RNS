{
 "cells": [
  {
   "cell_type": "markdown",
   "metadata": {},
   "source": [
    "# Creación de Espectrograma y guardado local de los mismos con preprocesamiento "
   ]
  },
  {
   "cell_type": "code",
   "execution_count": 1,
   "metadata": {},
   "outputs": [],
   "source": [
    "import pandas as pd\n",
    "import sys\n",
    "import os\n",
    "\n",
    "sys.path.insert(1, '/home/martin/Documentos/env_thalamus/01 Thalamus-PI/iESPnet_SRC_main/utilities')\n",
    "import IO # customized functions for navigating throught the folders and files\n",
    "import Epochs\n",
    "\n",
    "import torch\n",
    "import torchaudio.transforms as T\n",
    "import numpy as np\n",
    "import mne\n",
    "mne.set_log_level(verbose='warning') #to avoid info at terminal\n",
    "import matplotlib.pyplot as plt\n",
    "import librosa\n",
    "\n",
    "from scipy import fft as sp_fft\n",
    "from itertools import permutations\n",
    "from utilit import get_data_files, get_annot_files, get_epochs_zeropad_all, get_events, get_patient_PE, get_spectrogram"
   ]
  },
  {
   "cell_type": "code",
   "execution_count": 2,
   "metadata": {},
   "outputs": [],
   "source": [
    "DATA_DIR = '/media/martin/Disco2/Rns_Data/RNS_ESPM_datatransfer/Data'\n",
    "OUTDATA_DIR = '/media/martin/Disco2/Rns_Data/PITT_PI_v2/'\n",
    "OUTMETADATA_DIR = '/media/martin/Disco2/Rns_Data/PITT_PI_v2/METADATA_v2/'"
   ]
  },
  {
   "cell_type": "code",
   "execution_count": 3,
   "metadata": {},
   "outputs": [],
   "source": [
    "# crear las carpetas en caso de que no existan\n",
    "if not os.path.exists(OUTDATA_DIR):\n",
    "    os.makedirs(OUTDATA_DIR)\n",
    "\n",
    "if not os.path.exists(OUTMETADATA_DIR):\n",
    "    os.makedirs(OUTMETADATA_DIR)"
   ]
  },
  {
   "cell_type": "code",
   "execution_count": 4,
   "metadata": {},
   "outputs": [],
   "source": [
    "# Definición de variables para crear el espectrograma \n",
    "\n",
    "ECOG_SAMPLE_RATE = 250\n",
    "ECOG_CHANNELS    = 4\n",
    "TT               = 1000 # window length\n",
    "SPEC_WIN_LEN     = int(ECOG_SAMPLE_RATE * TT / 1000 ) # win size\n",
    "overlap          = 500 \n",
    "SPEC_HOP_LEN     = int(ECOG_SAMPLE_RATE * (TT - overlap) / 1000) # Length of hop between windows.\n",
    "SPEC_NFFT        = 500  # to see changes in 0.5 reso\n",
    "top_db           = 40.0"
   ]
  },
  {
   "cell_type": "code",
   "execution_count": 5,
   "metadata": {},
   "outputs": [],
   "source": [
    "RNSIDS = IO.get_subfolders(DATA_DIR)"
   ]
  },
  {
   "cell_type": "code",
   "execution_count": 6,
   "metadata": {},
   "outputs": [],
   "source": [
    "df = pd.DataFrame(columns=['rns_id', 'data', 'label', 'time'])"
   ]
  },
  {
   "cell_type": "code",
   "execution_count": 7,
   "metadata": {},
   "outputs": [
    {
     "name": "stdout",
     "output_type": "stream",
     "text": [
      "Running subject PIT-RNS1603 [s]: 0\n"
     ]
    },
    {
     "name": "stderr",
     "output_type": "stream",
     "text": [
      "/tmp/ipykernel_152025/1411219911.py:66: FutureWarning: The behavior of DataFrame concatenation with empty or all-NA entries is deprecated. In a future version, this will no longer exclude empty or all-NA columns when determining the result dtypes. To retain the old behavior, exclude the relevant entries before the concat operation.\n",
      "  df = pd.concat([df, pd.DataFrame([df_aux])], ignore_index=True)\n"
     ]
    },
    {
     "name": "stdout",
     "output_type": "stream",
     "text": [
      "Running subject PIT-RNS6989 [s]: 1\n",
      "Running subject PIT-RNS3016 [s]: 2\n",
      "Running subject PIT-RNS1529 [s]: 3\n",
      "Running subject PIT-RNS7168 [s]: 4\n",
      "Running subject PIT-RNS4098 [s]: 5\n",
      "Running subject PIT-RNS1836 [s]: 6\n",
      "Running subject PIT-RNS9183 [s]: 7\n",
      "Running subject PIT-RNS1440 [s]: 8\n",
      "Running subject PIT-RNS1713 [s]: 9\n",
      "Running subject PIT-RNS9536 [s]: 10\n",
      "Running subject PIT-RNS2543 [s]: 11\n",
      "Running subject PIT-RNS1438 [s]: 12\n",
      "Running subject PIT-RNS1534 [s]: 13\n",
      "Running subject PIT-RNS9793 [s]: 14\n",
      "Running subject PIT-RNS1703 [s]: 15\n",
      "Running subject PIT-RNS1556 [s]: 16\n",
      "Running subject PIT-RNS1597 [s]: 17\n",
      "Running subject PIT-RNS6992 [s]: 18\n",
      "Running subject PIT-RNS8326 [s]: 19\n",
      "Running subject PIT-RNS2227 [s]: 20\n",
      "Running subject PIT-RNS8163 [s]: 21\n",
      "Running subject PIT-RNS4998 [s]: 22\n",
      "Running subject PIT-RNS8973 [s]: 23\n",
      "Running subject PIT-RNS6806 [s]: 24\n",
      "Running subject PIT-RNS1090 [s]: 25\n",
      "Running subject PIT-RNS2368 [s]: 26\n",
      "Running subject PIT-RNS6762 [s]: 27\n",
      "Running subject PIT-RNS2938 [s]: 28\n",
      "Running subject PIT-RNS7525 [s]: 29\n",
      "Running subject PIT-RNS0427 [s]: 30\n",
      "Running subject PIT-RNS8076 [s]: 31\n"
     ]
    }
   ],
   "source": [
    "for s in range(len(RNSIDS)):\n",
    "    \n",
    "    print('Running subject ' + RNSIDS[s] + ' [s]: ' + str(s))\n",
    "    data_files = get_data_files(DATA_DIR, RNSIDS[s], Verbose=False)\n",
    "    annot_files = get_annot_files(DATA_DIR, RNSIDS[s], Verbose=False)\n",
    "\n",
    "    for nepoch in range(len(data_files)):\n",
    "\n",
    "        events = get_events(annot_files[nepoch])\n",
    "        X, labels, times = get_epochs_zeropad_all(data_files[nepoch], events)\n",
    "\n",
    "        # creo que no hace falta\n",
    "        if len(X) == 0:\n",
    "            continue\n",
    "        # hasta aca\n",
    "\n",
    "        [nt, nc, ns] = np.shape(X)\n",
    "        \n",
    "\n",
    "        hosp_id, subject_id, PE_id = get_patient_PE(data_files[nepoch],RNSIDS[s])\n",
    "\n",
    "        for nfile in range(nt):\n",
    "            file = X[nfile, :, :]\n",
    "            signal = torch.from_numpy(file)\n",
    "\n",
    "            # normalize the waveform\n",
    "            signal = (signal - signal.mean()) / signal.std()\n",
    "\n",
    "            # Calcular los cuartiles y el rango intercuartil\n",
    "            Q1 = signal.quantile(0.25)\n",
    "            Q3 = signal.quantile(0.75)\n",
    "            IQR = Q3 - Q1\n",
    "\n",
    "            # Definir los límites para los valores atípicos\n",
    "            lim_inf = Q1 - 1.5 * IQR\n",
    "            lim_sup = Q3 + 1.5 * IQR\n",
    "\n",
    "            outliers = (signal < lim_inf) | (signal > lim_sup)\n",
    "            signal[outliers] = 0\n",
    "\n",
    "            spec, t, f = get_spectrogram(signal, ECOG_SAMPLE_RATE, SPEC_NFFT, SPEC_WIN_LEN, SPEC_HOP_LEN)\n",
    "\n",
    "            # spec to DB\n",
    "            spec = librosa.power_to_db(spec, top_db=top_db)\n",
    "\n",
    "            # save up to 60 Hz\n",
    "            idx_60 = np.where(f<= 60)[0][-1]\n",
    "            spec = spec[:, :idx_60,:]\n",
    "\n",
    "            # label time\n",
    "            label_time = np.zeros((spec.shape[2],))\n",
    "                \n",
    "            if labels[nfile] !=0:\n",
    "                idx_t = np.where(t<=times[nfile])[0][-1]\n",
    "                label_time[idx_t]=1\n",
    "\n",
    "            data = {'spectrogram': spec, 'label': label_time}\n",
    "\n",
    "            file_name = hosp_id + '_' + subject_id + '_' + PE_id + '_E' + str(nfile)\n",
    "\n",
    "            df_aux = {'rns_id': hosp_id + '-' + subject_id, \n",
    "                    'data'  : file_name,\n",
    "                    'label' : labels[nfile],\n",
    "                    'time'  : times[nfile]}\n",
    "            \n",
    "            df = pd.concat([df, pd.DataFrame([df_aux])], ignore_index=True)\n",
    "\n",
    "            np.save(OUTDATA_DIR + file_name, data)\n",
    "\n",
    "    df.to_csv(OUTMETADATA_DIR + 'allfiles_metadata.csv', index=False)"
   ]
  },
  {
   "cell_type": "code",
   "execution_count": 81,
   "metadata": {},
   "outputs": [
    {
     "data": {
      "text/html": [
       "<div>\n",
       "<style scoped>\n",
       "    .dataframe tbody tr th:only-of-type {\n",
       "        vertical-align: middle;\n",
       "    }\n",
       "\n",
       "    .dataframe tbody tr th {\n",
       "        vertical-align: top;\n",
       "    }\n",
       "\n",
       "    .dataframe thead th {\n",
       "        text-align: right;\n",
       "    }\n",
       "</style>\n",
       "<table border=\"1\" class=\"dataframe\">\n",
       "  <thead>\n",
       "    <tr style=\"text-align: right;\">\n",
       "      <th></th>\n",
       "      <th>Channel 1</th>\n",
       "      <th>Channel 2</th>\n",
       "      <th>Channel 3</th>\n",
       "      <th>Channel 4</th>\n",
       "    </tr>\n",
       "  </thead>\n",
       "  <tbody>\n",
       "    <tr>\n",
       "      <th>count</th>\n",
       "      <td>22500.000000</td>\n",
       "      <td>22500.000000</td>\n",
       "      <td>22500.000000</td>\n",
       "      <td>22500.000000</td>\n",
       "    </tr>\n",
       "    <tr>\n",
       "      <th>mean</th>\n",
       "      <td>-0.060367</td>\n",
       "      <td>0.031505</td>\n",
       "      <td>-0.000932</td>\n",
       "      <td>0.029794</td>\n",
       "    </tr>\n",
       "    <tr>\n",
       "      <th>std</th>\n",
       "      <td>1.096207</td>\n",
       "      <td>0.640362</td>\n",
       "      <td>1.307625</td>\n",
       "      <td>0.820361</td>\n",
       "    </tr>\n",
       "    <tr>\n",
       "      <th>min</th>\n",
       "      <td>-15.585439</td>\n",
       "      <td>-4.030300</td>\n",
       "      <td>-15.585439</td>\n",
       "      <td>-2.417189</td>\n",
       "    </tr>\n",
       "    <tr>\n",
       "      <th>25%</th>\n",
       "      <td>-0.277349</td>\n",
       "      <td>-0.310269</td>\n",
       "      <td>-0.211507</td>\n",
       "      <td>-0.244428</td>\n",
       "    </tr>\n",
       "    <tr>\n",
       "      <th>50%</th>\n",
       "      <td>-0.013984</td>\n",
       "      <td>0.051858</td>\n",
       "      <td>0.084778</td>\n",
       "      <td>-0.046904</td>\n",
       "    </tr>\n",
       "    <tr>\n",
       "      <th>75%</th>\n",
       "      <td>0.183540</td>\n",
       "      <td>0.413985</td>\n",
       "      <td>0.315223</td>\n",
       "      <td>0.183540</td>\n",
       "    </tr>\n",
       "    <tr>\n",
       "      <th>max</th>\n",
       "      <td>4.989951</td>\n",
       "      <td>2.422143</td>\n",
       "      <td>4.364460</td>\n",
       "      <td>16.545091</td>\n",
       "    </tr>\n",
       "  </tbody>\n",
       "</table>\n",
       "</div>"
      ],
      "text/plain": [
       "          Channel 1     Channel 2     Channel 3     Channel 4\n",
       "count  22500.000000  22500.000000  22500.000000  22500.000000\n",
       "mean      -0.060367      0.031505     -0.000932      0.029794\n",
       "std        1.096207      0.640362      1.307625      0.820361\n",
       "min      -15.585439     -4.030300    -15.585439     -2.417189\n",
       "25%       -0.277349     -0.310269     -0.211507     -0.244428\n",
       "50%       -0.013984      0.051858      0.084778     -0.046904\n",
       "75%        0.183540      0.413985      0.315223      0.183540\n",
       "max        4.989951      2.422143      4.364460     16.545091"
      ]
     },
     "execution_count": 81,
     "metadata": {},
     "output_type": "execute_result"
    }
   ],
   "source": [
    "#df = pd.DataFrame(signal.T, columns=['Channel 1', 'Channel 2', 'Channel 3', 'Channel 4'])\n",
    "#df.describe()"
   ]
  }
 ],
 "metadata": {
  "kernelspec": {
   "display_name": "env_thalamus",
   "language": "python",
   "name": "python3"
  },
  "language_info": {
   "codemirror_mode": {
    "name": "ipython",
    "version": 3
   },
   "file_extension": ".py",
   "mimetype": "text/x-python",
   "name": "python",
   "nbconvert_exporter": "python",
   "pygments_lexer": "ipython3",
   "version": "3.10.12"
  }
 },
 "nbformat": 4,
 "nbformat_minor": 2
}
