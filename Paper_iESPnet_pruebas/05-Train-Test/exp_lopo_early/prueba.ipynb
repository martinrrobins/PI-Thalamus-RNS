{
 "cells": [
  {
   "cell_type": "code",
   "execution_count": 3,
   "metadata": {},
   "outputs": [],
   "source": [
    "import sys\n",
    "import os\n",
    "import torch\n",
    "import random\n",
    "import gc\n",
    "\n",
    "import matplotlib.pyplot        as plt\n",
    "import torchaudio.transforms    as T\n",
    "import torch.optim              as optim\n",
    "import pandas                   as pd\n",
    "import numpy                    as np\n",
    "\n",
    "from torchvision       import transforms\n",
    "\n",
    "sys.path.append(os.path.abspath(os.path.join('..')))\n",
    "from utilit_train_test import make_weights_for_balanced_classes\n",
    "\n",
    "sys.path.append(os.path.abspath(os.path.join('..','..','..','iESPnet_SRC_main','utilities')))\n",
    "from Generator         import SeizureDatasetLabelTimev2, permute_spec, smoothing_label\n",
    "from Model             import iESPnet\n",
    "from TrainEval         import train_model_dsf_iespnet_abl_early, test_model_dsf_iespnet_abl, get_performance_indices\n",
    "\n",
    "sys.path.append(os.path.abspath(os.path.join('../../../..','03 Dynamic-Spatial-Filtering')))\n",
    "from models            import DynamicSpatialFilter"
   ]
  },
  {
   "cell_type": "code",
   "execution_count": 4,
   "metadata": {},
   "outputs": [],
   "source": [
    "SPE_DIR        = '/media/martin/Disco2/Rns_Data/PITT_PI_EEG/'\n",
    "meta_data_file = '/media/martin/Disco2/Rns_Data/PITT_PI_EEG/METADATA/allfiles_metadata.csv'\n",
    "\n",
    "df_meta        = pd.read_csv(meta_data_file)\n"
   ]
  },
  {
   "cell_type": "code",
   "execution_count": 5,
   "metadata": {},
   "outputs": [],
   "source": [
    "patients = df_meta['rns_id'].unique().tolist()"
   ]
  },
  {
   "cell_type": "code",
   "execution_count": 6,
   "metadata": {},
   "outputs": [],
   "source": [
    "save_path = 'dsf_iespnet_lopo_early/'"
   ]
  },
  {
   "cell_type": "code",
   "execution_count": 7,
   "metadata": {},
   "outputs": [],
   "source": [
    "s=0\n",
    "save_runs        = save_path + patients[s] + '/runs/'\n",
    "save_models      = save_path + patients[s] + '/models/'\n",
    "save_predictions = save_path + patients[s] + '/results/'\n",
    "save_figs        = save_path + patients[s] + '/figs/'\n",
    "\n",
    "if not os.path.exists(save_path):\n",
    "    os.makedirs(save_path)\n",
    "\n",
    "if not os.path.exists(save_runs):\n",
    "    os.makedirs(save_runs)\n",
    "\n",
    "if not os.path.exists(save_models):\n",
    "    os.makedirs(save_models)\n",
    "\n",
    "if not os.path.exists(save_predictions):\n",
    "    os.makedirs(save_predictions)\n",
    "\n",
    "if not os.path.exists(save_figs):\n",
    "    os.makedirs(save_figs)"
   ]
  },
  {
   "cell_type": "code",
   "execution_count": 8,
   "metadata": {},
   "outputs": [
    {
     "name": "stdout",
     "output_type": "stream",
     "text": [
      "Running training for subject PIT-RNS1603 [s]: 0\n"
     ]
    }
   ],
   "source": [
    "print('Running training for subject ' + patients[s] + ' [s]: ' + str(s))"
   ]
  },
  {
   "cell_type": "code",
   "execution_count": 9,
   "metadata": {},
   "outputs": [],
   "source": [
    "# define train y test de df_meta\n",
    "train_df = df_meta.copy()\n",
    "test_df  = df_meta[df_meta['rns_id'] == patients[s]]\n",
    "test_df.reset_index(drop=True, inplace=True)\n",
    "train_df.drop(train_df[train_df['rns_id'] == patients[s]].index, inplace = True)\n",
    "\n",
    "patients_lopo = train_df[train_df['rns_id'] != patients[s]]['rns_id'].unique()"
   ]
  },
  {
   "cell_type": "code",
   "execution_count": 10,
   "metadata": {},
   "outputs": [
    {
     "data": {
      "text/plain": [
       "'PIT-RNS1603'"
      ]
     },
     "execution_count": 10,
     "metadata": {},
     "output_type": "execute_result"
    }
   ],
   "source": [
    "patients[s]"
   ]
  },
  {
   "cell_type": "code",
   "execution_count": 11,
   "metadata": {},
   "outputs": [],
   "source": [
    "#np.random.seed(1)\n",
    "patients_validation = []"
   ]
  },
  {
   "cell_type": "code",
   "execution_count": 12,
   "metadata": {},
   "outputs": [],
   "source": [
    "# define train y test de df_meta\n",
    "train_df = df_meta.copy()\n",
    "test_df  = df_meta[df_meta['rns_id'] == patients[s]]\n",
    "test_df.reset_index(drop=True, inplace=True)\n",
    "train_df.drop(train_df[train_df['rns_id'] == patients[s]].index, inplace = True)"
   ]
  },
  {
   "cell_type": "code",
   "execution_count": 13,
   "metadata": {},
   "outputs": [],
   "source": [
    "patients_lopo = [p for p in patients if p not in patients_validation and p != patients[s]]"
   ]
  },
  {
   "cell_type": "code",
   "execution_count": 25,
   "metadata": {},
   "outputs": [],
   "source": [
    "torch.manual_seed(0)\n",
    "random.seed(0)"
   ]
  },
  {
   "cell_type": "code",
   "execution_count": 26,
   "metadata": {},
   "outputs": [
    {
     "name": "stdout",
     "output_type": "stream",
     "text": [
      "PIT-RNS6806\n"
     ]
    }
   ],
   "source": [
    "random_patient = np.random.choice(patients_lopo)\n",
    "print(random_patient)"
   ]
  },
  {
   "cell_type": "code",
   "execution_count": 232,
   "metadata": {},
   "outputs": [
    {
     "data": {
      "text/plain": [
       "np.str_('PIT-RNS1534')"
      ]
     },
     "execution_count": 232,
     "metadata": {},
     "output_type": "execute_result"
    }
   ],
   "source": [
    "random_patient"
   ]
  },
  {
   "cell_type": "code",
   "execution_count": 182,
   "metadata": {},
   "outputs": [
    {
     "data": {
      "text/plain": [
       "np.str_('PIT-RNS1534')"
      ]
     },
     "execution_count": 182,
     "metadata": {},
     "output_type": "execute_result"
    }
   ],
   "source": [
    "random_patient"
   ]
  },
  {
   "cell_type": "code",
   "execution_count": 183,
   "metadata": {},
   "outputs": [],
   "source": [
    "val_df = train_df[train_df['rns_id'] == random_patient].copy()"
   ]
  },
  {
   "cell_type": "code",
   "execution_count": 184,
   "metadata": {},
   "outputs": [
    {
     "data": {
      "text/html": [
       "<div>\n",
       "<style scoped>\n",
       "    .dataframe tbody tr th:only-of-type {\n",
       "        vertical-align: middle;\n",
       "    }\n",
       "\n",
       "    .dataframe tbody tr th {\n",
       "        vertical-align: top;\n",
       "    }\n",
       "\n",
       "    .dataframe thead th {\n",
       "        text-align: right;\n",
       "    }\n",
       "</style>\n",
       "<table border=\"1\" class=\"dataframe\">\n",
       "  <thead>\n",
       "    <tr style=\"text-align: right;\">\n",
       "      <th></th>\n",
       "      <th>rns_id</th>\n",
       "      <th>data</th>\n",
       "      <th>label</th>\n",
       "      <th>time</th>\n",
       "    </tr>\n",
       "  </thead>\n",
       "  <tbody>\n",
       "    <tr>\n",
       "      <th>22584</th>\n",
       "      <td>PIT-RNS1534</td>\n",
       "      <td>PIT_RNS1534_20161220-1_E0</td>\n",
       "      <td>0</td>\n",
       "      <td>0.0</td>\n",
       "    </tr>\n",
       "    <tr>\n",
       "      <th>22585</th>\n",
       "      <td>PIT-RNS1534</td>\n",
       "      <td>PIT_RNS1534_20161220-1_E1</td>\n",
       "      <td>0</td>\n",
       "      <td>0.0</td>\n",
       "    </tr>\n",
       "    <tr>\n",
       "      <th>22586</th>\n",
       "      <td>PIT-RNS1534</td>\n",
       "      <td>PIT_RNS1534_20161220-1_E2</td>\n",
       "      <td>0</td>\n",
       "      <td>0.0</td>\n",
       "    </tr>\n",
       "    <tr>\n",
       "      <th>22587</th>\n",
       "      <td>PIT-RNS1534</td>\n",
       "      <td>PIT_RNS1534_20161220-1_E3</td>\n",
       "      <td>0</td>\n",
       "      <td>0.0</td>\n",
       "    </tr>\n",
       "    <tr>\n",
       "      <th>22588</th>\n",
       "      <td>PIT-RNS1534</td>\n",
       "      <td>PIT_RNS1534_20161220-1_E4</td>\n",
       "      <td>0</td>\n",
       "      <td>0.0</td>\n",
       "    </tr>\n",
       "    <tr>\n",
       "      <th>...</th>\n",
       "      <td>...</td>\n",
       "      <td>...</td>\n",
       "      <td>...</td>\n",
       "      <td>...</td>\n",
       "    </tr>\n",
       "    <tr>\n",
       "      <th>23660</th>\n",
       "      <td>PIT-RNS1534</td>\n",
       "      <td>PIT_RNS1534_20171115-1_E165</td>\n",
       "      <td>0</td>\n",
       "      <td>0.0</td>\n",
       "    </tr>\n",
       "    <tr>\n",
       "      <th>23661</th>\n",
       "      <td>PIT-RNS1534</td>\n",
       "      <td>PIT_RNS1534_20171115-1_E166</td>\n",
       "      <td>0</td>\n",
       "      <td>0.0</td>\n",
       "    </tr>\n",
       "    <tr>\n",
       "      <th>23662</th>\n",
       "      <td>PIT-RNS1534</td>\n",
       "      <td>PIT_RNS1534_20171115-1_E167</td>\n",
       "      <td>0</td>\n",
       "      <td>0.0</td>\n",
       "    </tr>\n",
       "    <tr>\n",
       "      <th>23663</th>\n",
       "      <td>PIT-RNS1534</td>\n",
       "      <td>PIT_RNS1534_20171115-1_E168</td>\n",
       "      <td>0</td>\n",
       "      <td>0.0</td>\n",
       "    </tr>\n",
       "    <tr>\n",
       "      <th>23664</th>\n",
       "      <td>PIT-RNS1534</td>\n",
       "      <td>PIT_RNS1534_20171115-1_E169</td>\n",
       "      <td>0</td>\n",
       "      <td>0.0</td>\n",
       "    </tr>\n",
       "  </tbody>\n",
       "</table>\n",
       "<p>1081 rows × 4 columns</p>\n",
       "</div>"
      ],
      "text/plain": [
       "            rns_id                         data  label  time\n",
       "22584  PIT-RNS1534    PIT_RNS1534_20161220-1_E0      0   0.0\n",
       "22585  PIT-RNS1534    PIT_RNS1534_20161220-1_E1      0   0.0\n",
       "22586  PIT-RNS1534    PIT_RNS1534_20161220-1_E2      0   0.0\n",
       "22587  PIT-RNS1534    PIT_RNS1534_20161220-1_E3      0   0.0\n",
       "22588  PIT-RNS1534    PIT_RNS1534_20161220-1_E4      0   0.0\n",
       "...            ...                          ...    ...   ...\n",
       "23660  PIT-RNS1534  PIT_RNS1534_20171115-1_E165      0   0.0\n",
       "23661  PIT-RNS1534  PIT_RNS1534_20171115-1_E166      0   0.0\n",
       "23662  PIT-RNS1534  PIT_RNS1534_20171115-1_E167      0   0.0\n",
       "23663  PIT-RNS1534  PIT_RNS1534_20171115-1_E168      0   0.0\n",
       "23664  PIT-RNS1534  PIT_RNS1534_20171115-1_E169      0   0.0\n",
       "\n",
       "[1081 rows x 4 columns]"
      ]
     },
     "execution_count": 184,
     "metadata": {},
     "output_type": "execute_result"
    }
   ],
   "source": [
    "val_df"
   ]
  },
  {
   "cell_type": "code",
   "execution_count": 160,
   "metadata": {},
   "outputs": [],
   "source": [
    "train_df.drop(train_df[train_df['rns_id'] == random_patient].index, inplace=True)"
   ]
  },
  {
   "cell_type": "code",
   "execution_count": 161,
   "metadata": {},
   "outputs": [],
   "source": [
    "patients_validation.append(random_patient)"
   ]
  },
  {
   "cell_type": "code",
   "execution_count": 162,
   "metadata": {},
   "outputs": [],
   "source": [
    "# Resetear índices si es necesario\n",
    "val_df.reset_index(drop=True, inplace=True)\n",
    "train_df.reset_index(drop=True, inplace=True)"
   ]
  },
  {
   "cell_type": "code",
   "execution_count": 163,
   "metadata": {},
   "outputs": [
    {
     "data": {
      "text/plain": [
       "28"
      ]
     },
     "execution_count": 163,
     "metadata": {},
     "output_type": "execute_result"
    }
   ],
   "source": [
    "len(train_df.rns_id.unique())"
   ]
  },
  {
   "cell_type": "code",
   "execution_count": 165,
   "metadata": {},
   "outputs": [
    {
     "data": {
      "text/html": [
       "<div>\n",
       "<style scoped>\n",
       "    .dataframe tbody tr th:only-of-type {\n",
       "        vertical-align: middle;\n",
       "    }\n",
       "\n",
       "    .dataframe tbody tr th {\n",
       "        vertical-align: top;\n",
       "    }\n",
       "\n",
       "    .dataframe thead th {\n",
       "        text-align: right;\n",
       "    }\n",
       "</style>\n",
       "<table border=\"1\" class=\"dataframe\">\n",
       "  <thead>\n",
       "    <tr style=\"text-align: right;\">\n",
       "      <th></th>\n",
       "      <th>rns_id</th>\n",
       "      <th>data</th>\n",
       "      <th>label</th>\n",
       "      <th>time</th>\n",
       "    </tr>\n",
       "  </thead>\n",
       "  <tbody>\n",
       "    <tr>\n",
       "      <th>0</th>\n",
       "      <td>PIT-RNS1603</td>\n",
       "      <td>PIT_RNS1603_20150804-1_E0</td>\n",
       "      <td>0</td>\n",
       "      <td>0.0</td>\n",
       "    </tr>\n",
       "    <tr>\n",
       "      <th>1</th>\n",
       "      <td>PIT-RNS1603</td>\n",
       "      <td>PIT_RNS1603_20150804-1_E1</td>\n",
       "      <td>0</td>\n",
       "      <td>0.0</td>\n",
       "    </tr>\n",
       "    <tr>\n",
       "      <th>2</th>\n",
       "      <td>PIT-RNS1603</td>\n",
       "      <td>PIT_RNS1603_20150804-1_E2</td>\n",
       "      <td>0</td>\n",
       "      <td>0.0</td>\n",
       "    </tr>\n",
       "    <tr>\n",
       "      <th>3</th>\n",
       "      <td>PIT-RNS1603</td>\n",
       "      <td>PIT_RNS1603_20150804-1_E3</td>\n",
       "      <td>0</td>\n",
       "      <td>0.0</td>\n",
       "    </tr>\n",
       "    <tr>\n",
       "      <th>4</th>\n",
       "      <td>PIT-RNS1603</td>\n",
       "      <td>PIT_RNS1603_20150804-1_E4</td>\n",
       "      <td>0</td>\n",
       "      <td>0.0</td>\n",
       "    </tr>\n",
       "    <tr>\n",
       "      <th>...</th>\n",
       "      <td>...</td>\n",
       "      <td>...</td>\n",
       "      <td>...</td>\n",
       "      <td>...</td>\n",
       "    </tr>\n",
       "    <tr>\n",
       "      <th>37121</th>\n",
       "      <td>PIT-RNS8076</td>\n",
       "      <td>PIT_RNS8076_20190806-1_E21</td>\n",
       "      <td>0</td>\n",
       "      <td>0.0</td>\n",
       "    </tr>\n",
       "    <tr>\n",
       "      <th>37122</th>\n",
       "      <td>PIT-RNS8076</td>\n",
       "      <td>PIT_RNS8076_20190806-1_E22</td>\n",
       "      <td>0</td>\n",
       "      <td>0.0</td>\n",
       "    </tr>\n",
       "    <tr>\n",
       "      <th>37123</th>\n",
       "      <td>PIT-RNS8076</td>\n",
       "      <td>PIT_RNS8076_20190806-1_E23</td>\n",
       "      <td>0</td>\n",
       "      <td>0.0</td>\n",
       "    </tr>\n",
       "    <tr>\n",
       "      <th>37124</th>\n",
       "      <td>PIT-RNS8076</td>\n",
       "      <td>PIT_RNS8076_20190806-1_E24</td>\n",
       "      <td>0</td>\n",
       "      <td>0.0</td>\n",
       "    </tr>\n",
       "    <tr>\n",
       "      <th>37125</th>\n",
       "      <td>PIT-RNS8076</td>\n",
       "      <td>PIT_RNS8076_20190806-1_E25</td>\n",
       "      <td>0</td>\n",
       "      <td>0.0</td>\n",
       "    </tr>\n",
       "  </tbody>\n",
       "</table>\n",
       "<p>37126 rows × 4 columns</p>\n",
       "</div>"
      ],
      "text/plain": [
       "            rns_id                        data  label  time\n",
       "0      PIT-RNS1603   PIT_RNS1603_20150804-1_E0      0   0.0\n",
       "1      PIT-RNS1603   PIT_RNS1603_20150804-1_E1      0   0.0\n",
       "2      PIT-RNS1603   PIT_RNS1603_20150804-1_E2      0   0.0\n",
       "3      PIT-RNS1603   PIT_RNS1603_20150804-1_E3      0   0.0\n",
       "4      PIT-RNS1603   PIT_RNS1603_20150804-1_E4      0   0.0\n",
       "...            ...                         ...    ...   ...\n",
       "37121  PIT-RNS8076  PIT_RNS8076_20190806-1_E21      0   0.0\n",
       "37122  PIT-RNS8076  PIT_RNS8076_20190806-1_E22      0   0.0\n",
       "37123  PIT-RNS8076  PIT_RNS8076_20190806-1_E23      0   0.0\n",
       "37124  PIT-RNS8076  PIT_RNS8076_20190806-1_E24      0   0.0\n",
       "37125  PIT-RNS8076  PIT_RNS8076_20190806-1_E25      0   0.0\n",
       "\n",
       "[37126 rows x 4 columns]"
      ]
     },
     "execution_count": 165,
     "metadata": {},
     "output_type": "execute_result"
    }
   ],
   "source": [
    "train_df"
   ]
  },
  {
   "cell_type": "code",
   "execution_count": 233,
   "metadata": {},
   "outputs": [],
   "source": [
    "test_patient  = patients[s]\n",
    "patients_lopo = [p for p in patients if p != test_patient]"
   ]
  },
  {
   "cell_type": "code",
   "execution_count": 237,
   "metadata": {},
   "outputs": [
    {
     "data": {
      "text/plain": [
       "['PIT-RNS1603',\n",
       " 'PIT-RNS6989',\n",
       " 'PIT-RNS1529',\n",
       " 'PIT-RNS7168',\n",
       " 'PIT-RNS4098',\n",
       " 'PIT-RNS1836',\n",
       " 'PIT-RNS9183',\n",
       " 'PIT-RNS1440',\n",
       " 'PIT-RNS1713',\n",
       " 'PIT-RNS9536',\n",
       " 'PIT-RNS2543',\n",
       " 'PIT-RNS1438',\n",
       " 'PIT-RNS1534',\n",
       " 'PIT-RNS1703',\n",
       " 'PIT-RNS1556',\n",
       " 'PIT-RNS1597',\n",
       " 'PIT-RNS6992',\n",
       " 'PIT-RNS8326',\n",
       " 'PIT-RNS2227',\n",
       " 'PIT-RNS8163',\n",
       " 'PIT-RNS8973',\n",
       " 'PIT-RNS6806',\n",
       " 'PIT-RNS1090',\n",
       " 'PIT-RNS2368',\n",
       " 'PIT-RNS6762',\n",
       " 'PIT-RNS2938',\n",
       " 'PIT-RNS7525',\n",
       " 'PIT-RNS0427',\n",
       " 'PIT-RNS8076']"
      ]
     },
     "execution_count": 237,
     "metadata": {},
     "output_type": "execute_result"
    }
   ],
   "source": [
    "patients_lopo"
   ]
  },
  {
   "cell_type": "code",
   "execution_count": 8,
   "metadata": {},
   "outputs": [
    {
     "data": {
      "text/plain": [
       "'dsf_iespnet_lopo_early/PIT-RNS1603/models/model'"
      ]
     },
     "execution_count": 8,
     "metadata": {},
     "output_type": "execute_result"
    }
   ],
   "source": [
    "outputfile = save_models + 'model'\n",
    "outputfile"
   ]
  },
  {
   "cell_type": "code",
   "execution_count": 27,
   "metadata": {},
   "outputs": [
    {
     "name": "stdout",
     "output_type": "stream",
     "text": [
      "0\n",
      "1\n",
      "2\n",
      "3\n",
      "4\n",
      "5\n",
      "6\n"
     ]
    }
   ],
   "source": [
    "for s in range (0,7):\n",
    "    print(s)"
   ]
  },
  {
   "cell_type": "code",
   "execution_count": null,
   "metadata": {},
   "outputs": [],
   "source": []
  }
 ],
 "metadata": {
  "kernelspec": {
   "display_name": "Python (env_thalamus)",
   "language": "python",
   "name": "env_thalamus"
  },
  "language_info": {
   "codemirror_mode": {
    "name": "ipython",
    "version": 3
   },
   "file_extension": ".py",
   "mimetype": "text/x-python",
   "name": "python",
   "nbconvert_exporter": "python",
   "pygments_lexer": "ipython3",
   "version": "3.10.12"
  }
 },
 "nbformat": 4,
 "nbformat_minor": 2
}
