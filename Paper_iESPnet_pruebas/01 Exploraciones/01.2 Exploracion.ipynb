{
 "cells": [
  {
   "cell_type": "code",
   "execution_count": 1,
   "metadata": {},
   "outputs": [
    {
     "data": {
      "text/plain": [
       "<torch._C.Generator at 0x783e50865ab0>"
      ]
     },
     "execution_count": 1,
     "metadata": {},
     "output_type": "execute_result"
    }
   ],
   "source": [
    "import os\n",
    "import pandas as pd\n",
    "import sys\n",
    "sys.path.append(os.path.abspath(os.path.join('..','iESPnet_SRC_main','utilities')))\n",
    "from Generator import SeizureDatasetLabelTime, scale_spec, permute_spec, smoothing_label\n",
    "from Model import iESPnet\n",
    "from TrainEval import train_model_opt, test_model, train_model, get_thr_output, get_performance_indices\n",
    "import IO\n",
    "import Epochs\n",
    "import torch\n",
    "from torch.utils.data import DataLoader, Dataset\n",
    "from torchvision import datasets, transforms\n",
    "from torchvision.transforms import ToTensor, Lambda, Compose\n",
    "import torchaudio.transforms as T\n",
    "import numpy as np\n",
    "import mne\n",
    "mne.set_log_level(verbose='warning') #to avoid info at terminal\n",
    "import matplotlib.pyplot as plt\n",
    "import librosa\n",
    "from scipy import fft as sp_fft\n",
    "from matplotlib.backends.backend_pdf import PdfPages\n",
    "\n",
    "# set the seed for reproducibility\n",
    "torch.manual_seed(0)"
   ]
  },
  {
   "cell_type": "code",
   "execution_count": 2,
   "metadata": {},
   "outputs": [],
   "source": [
    "meta_data_file = '/media/martin/Disco2/Rns_Data/PITT_PI_v2/METADATA_v2/allfiles_metadata.csv'\n",
    "df_meta = pd.read_csv(meta_data_file)"
   ]
  },
  {
   "cell_type": "code",
   "execution_count": 3,
   "metadata": {},
   "outputs": [
    {
     "name": "stdout",
     "output_type": "stream",
     "text": [
      "<class 'pandas.core.frame.DataFrame'>\n",
      "RangeIndex: 44223 entries, 0 to 44222\n",
      "Data columns (total 4 columns):\n",
      " #   Column  Non-Null Count  Dtype  \n",
      "---  ------  --------------  -----  \n",
      " 0   rns_id  44223 non-null  object \n",
      " 1   data    44223 non-null  object \n",
      " 2   label   44223 non-null  int64  \n",
      " 3   time    44223 non-null  float64\n",
      "dtypes: float64(1), int64(1), object(2)\n",
      "memory usage: 1.3+ MB\n"
     ]
    }
   ],
   "source": [
    "# muestra la informacion del dataframe\n",
    "df_meta.info()"
   ]
  },
  {
   "cell_type": "code",
   "execution_count": 4,
   "metadata": {},
   "outputs": [
    {
     "data": {
      "text/html": [
       "<div>\n",
       "<style scoped>\n",
       "    .dataframe tbody tr th:only-of-type {\n",
       "        vertical-align: middle;\n",
       "    }\n",
       "\n",
       "    .dataframe tbody tr th {\n",
       "        vertical-align: top;\n",
       "    }\n",
       "\n",
       "    .dataframe thead th {\n",
       "        text-align: right;\n",
       "    }\n",
       "</style>\n",
       "<table border=\"1\" class=\"dataframe\">\n",
       "  <thead>\n",
       "    <tr style=\"text-align: right;\">\n",
       "      <th></th>\n",
       "      <th>rns_id</th>\n",
       "      <th>data</th>\n",
       "      <th>label</th>\n",
       "      <th>time</th>\n",
       "    </tr>\n",
       "  </thead>\n",
       "  <tbody>\n",
       "    <tr>\n",
       "      <th>0</th>\n",
       "      <td>PIT-RNS1603</td>\n",
       "      <td>PIT_RNS1603_20150804-1_E0</td>\n",
       "      <td>0</td>\n",
       "      <td>0.0</td>\n",
       "    </tr>\n",
       "    <tr>\n",
       "      <th>1</th>\n",
       "      <td>PIT-RNS1603</td>\n",
       "      <td>PIT_RNS1603_20150804-1_E1</td>\n",
       "      <td>0</td>\n",
       "      <td>0.0</td>\n",
       "    </tr>\n",
       "    <tr>\n",
       "      <th>2</th>\n",
       "      <td>PIT-RNS1603</td>\n",
       "      <td>PIT_RNS1603_20150804-1_E2</td>\n",
       "      <td>0</td>\n",
       "      <td>0.0</td>\n",
       "    </tr>\n",
       "    <tr>\n",
       "      <th>3</th>\n",
       "      <td>PIT-RNS1603</td>\n",
       "      <td>PIT_RNS1603_20150804-1_E3</td>\n",
       "      <td>0</td>\n",
       "      <td>0.0</td>\n",
       "    </tr>\n",
       "    <tr>\n",
       "      <th>4</th>\n",
       "      <td>PIT-RNS1603</td>\n",
       "      <td>PIT_RNS1603_20150804-1_E4</td>\n",
       "      <td>0</td>\n",
       "      <td>0.0</td>\n",
       "    </tr>\n",
       "  </tbody>\n",
       "</table>\n",
       "</div>"
      ],
      "text/plain": [
       "        rns_id                       data  label  time\n",
       "0  PIT-RNS1603  PIT_RNS1603_20150804-1_E0      0   0.0\n",
       "1  PIT-RNS1603  PIT_RNS1603_20150804-1_E1      0   0.0\n",
       "2  PIT-RNS1603  PIT_RNS1603_20150804-1_E2      0   0.0\n",
       "3  PIT-RNS1603  PIT_RNS1603_20150804-1_E3      0   0.0\n",
       "4  PIT-RNS1603  PIT_RNS1603_20150804-1_E4      0   0.0"
      ]
     },
     "execution_count": 4,
     "metadata": {},
     "output_type": "execute_result"
    }
   ],
   "source": [
    "# muestra los primeros 5 datos del dataframe \n",
    "df_meta.head()"
   ]
  },
  {
   "cell_type": "code",
   "execution_count": 5,
   "metadata": {},
   "outputs": [
    {
     "data": {
      "text/plain": [
       "Index(['rns_id', 'data', 'label', 'time'], dtype='object')"
      ]
     },
     "execution_count": 5,
     "metadata": {},
     "output_type": "execute_result"
    }
   ],
   "source": [
    "# muestra las columnas del dataframe, tambien pueden verse en el df.info()\n",
    "df_meta.columns"
   ]
  },
  {
   "cell_type": "code",
   "execution_count": 6,
   "metadata": {},
   "outputs": [
    {
     "data": {
      "text/plain": [
       "(44223, 4)"
      ]
     },
     "execution_count": 6,
     "metadata": {},
     "output_type": "execute_result"
    }
   ],
   "source": [
    "# muestra el tamaño del dataframe\n",
    "df_meta.shape"
   ]
  },
  {
   "cell_type": "code",
   "execution_count": 7,
   "metadata": {},
   "outputs": [
    {
     "data": {
      "text/plain": [
       "pandas.core.frame.DataFrame"
      ]
     },
     "execution_count": 7,
     "metadata": {},
     "output_type": "execute_result"
    }
   ],
   "source": [
    "# muestra el tipo de dato de df_meta\n",
    "type(df_meta)"
   ]
  },
  {
   "cell_type": "code",
   "execution_count": 8,
   "metadata": {},
   "outputs": [
    {
     "data": {
      "text/plain": [
       "array(['PIT-RNS1603', 'PIT-RNS6989', 'PIT-RNS3016', 'PIT-RNS1529',\n",
       "       'PIT-RNS7168', 'PIT-RNS4098', 'PIT-RNS1836', 'PIT-RNS9183',\n",
       "       'PIT-RNS1440', 'PIT-RNS1713', 'PIT-RNS9536', 'PIT-RNS2543',\n",
       "       'PIT-RNS1438', 'PIT-RNS1534', 'PIT-RNS9793', 'PIT-RNS1703',\n",
       "       'PIT-RNS1556', 'PIT-RNS1597', 'PIT-RNS6992', 'PIT-RNS8326',\n",
       "       'PIT-RNS2227', 'PIT-RNS8163', 'PIT-RNS4998', 'PIT-RNS8973',\n",
       "       'PIT-RNS6806', 'PIT-RNS1090', 'PIT-RNS2368', 'PIT-RNS6762',\n",
       "       'PIT-RNS2938', 'PIT-RNS7525', 'PIT-RNS0427', 'PIT-RNS8076'],\n",
       "      dtype=object)"
      ]
     },
     "execution_count": 8,
     "metadata": {},
     "output_type": "execute_result"
    }
   ],
   "source": [
    "# muestras los valores unicos \n",
    "df_meta['rns_id'].unique()"
   ]
  },
  {
   "cell_type": "code",
   "execution_count": 9,
   "metadata": {},
   "outputs": [
    {
     "name": "stdout",
     "output_type": "stream",
     "text": [
      "La cantidad de pacientes es: 32\n"
     ]
    }
   ],
   "source": [
    "# muestra la cantidad de pacientes\n",
    "len(df_meta['rns_id'].unique())\n",
    "print('La cantidad de pacientes es:', len(df_meta['rns_id'].unique()))"
   ]
  },
  {
   "cell_type": "code",
   "execution_count": 10,
   "metadata": {},
   "outputs": [
    {
     "name": "stdout",
     "output_type": "stream",
     "text": [
      "['PIT-RNS1603', 'PIT-RNS6989', 'PIT-RNS3016', 'PIT-RNS1529', 'PIT-RNS7168', 'PIT-RNS4098', 'PIT-RNS1836', 'PIT-RNS9183', 'PIT-RNS1440', 'PIT-RNS1713', 'PIT-RNS9536', 'PIT-RNS2543', 'PIT-RNS1438', 'PIT-RNS1534', 'PIT-RNS9793', 'PIT-RNS1703', 'PIT-RNS1556', 'PIT-RNS1597', 'PIT-RNS6992', 'PIT-RNS8326', 'PIT-RNS2227', 'PIT-RNS8163', 'PIT-RNS4998', 'PIT-RNS8973', 'PIT-RNS6806', 'PIT-RNS1090', 'PIT-RNS2368', 'PIT-RNS6762', 'PIT-RNS2938', 'PIT-RNS7525', 'PIT-RNS0427', 'PIT-RNS8076'] \n",
      "\n",
      "Se tienen los registros de 32 pacientes\n"
     ]
    }
   ],
   "source": [
    "# se quiere hacer una lista con los id de los pacientes una unica vez\n",
    "patients = df_meta['rns_id'].unique().tolist()\n",
    "print(patients,'\\n')\n",
    "print('Se tienen los registros de {} pacientes'.format(len(patients)))"
   ]
  },
  {
   "cell_type": "code",
   "execution_count": 13,
   "metadata": {},
   "outputs": [
    {
     "data": {
      "text/plain": [
       "rns_id\n",
       "PIT-RNS4098    3882\n",
       "PIT-RNS1440    3077\n",
       "PIT-RNS1597    2477\n",
       "PIT-RNS1836    2477\n",
       "PIT-RNS2368    2460\n",
       "PIT-RNS1438    2147\n",
       "PIT-RNS9536    1948\n",
       "PIT-RNS2543    1839\n",
       "PIT-RNS1603    1808\n",
       "PIT-RNS4998    1628\n",
       "PIT-RNS0427    1585\n",
       "PIT-RNS6989    1569\n",
       "PIT-RNS1090    1567\n",
       "PIT-RNS8326    1512\n",
       "PIT-RNS3016    1490\n",
       "PIT-RNS1703    1471\n",
       "PIT-RNS6806    1468\n",
       "PIT-RNS1529    1255\n",
       "PIT-RNS8973    1251\n",
       "PIT-RNS2938    1103\n",
       "PIT-RNS1534    1081\n",
       "PIT-RNS6992     950\n",
       "PIT-RNS8163     689\n",
       "PIT-RNS1556     657\n",
       "PIT-RNS8076     577\n",
       "PIT-RNS7168     530\n",
       "PIT-RNS2227     426\n",
       "PIT-RNS9183     386\n",
       "PIT-RNS7525     360\n",
       "PIT-RNS6762     328\n",
       "PIT-RNS1713     193\n",
       "PIT-RNS9793      32\n",
       "Name: count, dtype: int64"
      ]
     },
     "execution_count": 13,
     "metadata": {},
     "output_type": "execute_result"
    }
   ],
   "source": [
    "df_meta['rns_id'].value_counts()"
   ]
  },
  {
   "cell_type": "code",
   "execution_count": 15,
   "metadata": {},
   "outputs": [
    {
     "data": {
      "text/plain": [
       "label\n",
       "0    34681\n",
       "1     9477\n",
       "2       65\n",
       "Name: count, dtype: int64"
      ]
     },
     "execution_count": 15,
     "metadata": {},
     "output_type": "execute_result"
    }
   ],
   "source": [
    "# a que se le asigno label=2 --> esto si lo saque en el entrenamiento\n",
    "df_meta['label'].value_counts()"
   ]
  },
  {
   "cell_type": "code",
   "execution_count": 16,
   "metadata": {},
   "outputs": [
    {
     "data": {
      "text/html": [
       "<div>\n",
       "<style scoped>\n",
       "    .dataframe tbody tr th:only-of-type {\n",
       "        vertical-align: middle;\n",
       "    }\n",
       "\n",
       "    .dataframe tbody tr th {\n",
       "        vertical-align: top;\n",
       "    }\n",
       "\n",
       "    .dataframe thead th {\n",
       "        text-align: right;\n",
       "    }\n",
       "</style>\n",
       "<table border=\"1\" class=\"dataframe\">\n",
       "  <thead>\n",
       "    <tr style=\"text-align: right;\">\n",
       "      <th></th>\n",
       "      <th>rns_id</th>\n",
       "      <th>data</th>\n",
       "      <th>label</th>\n",
       "      <th>time</th>\n",
       "    </tr>\n",
       "  </thead>\n",
       "  <tbody>\n",
       "    <tr>\n",
       "      <th>18130</th>\n",
       "      <td>PIT-RNS9536</td>\n",
       "      <td>PIT_RNS9536_20161215-1_E62</td>\n",
       "      <td>2</td>\n",
       "      <td>0.091463</td>\n",
       "    </tr>\n",
       "    <tr>\n",
       "      <th>19498</th>\n",
       "      <td>PIT-RNS2543</td>\n",
       "      <td>PIT_RNS2543_20200225-1_E71</td>\n",
       "      <td>2</td>\n",
       "      <td>0.114000</td>\n",
       "    </tr>\n",
       "    <tr>\n",
       "      <th>19499</th>\n",
       "      <td>PIT-RNS2543</td>\n",
       "      <td>PIT_RNS2543_20200225-1_E72</td>\n",
       "      <td>2</td>\n",
       "      <td>0.103000</td>\n",
       "    </tr>\n",
       "    <tr>\n",
       "      <th>19501</th>\n",
       "      <td>PIT-RNS2543</td>\n",
       "      <td>PIT_RNS2543_20200225-1_E74</td>\n",
       "      <td>2</td>\n",
       "      <td>0.089000</td>\n",
       "    </tr>\n",
       "    <tr>\n",
       "      <th>19502</th>\n",
       "      <td>PIT-RNS2543</td>\n",
       "      <td>PIT_RNS2543_20200225-1_E75</td>\n",
       "      <td>2</td>\n",
       "      <td>0.088000</td>\n",
       "    </tr>\n",
       "    <tr>\n",
       "      <th>...</th>\n",
       "      <td>...</td>\n",
       "      <td>...</td>\n",
       "      <td>...</td>\n",
       "      <td>...</td>\n",
       "    </tr>\n",
       "    <tr>\n",
       "      <th>27200</th>\n",
       "      <td>PIT-RNS1597</td>\n",
       "      <td>PIT_RNS1597_20161012-1_E371</td>\n",
       "      <td>2</td>\n",
       "      <td>0.101626</td>\n",
       "    </tr>\n",
       "    <tr>\n",
       "      <th>30976</th>\n",
       "      <td>PIT-RNS2227</td>\n",
       "      <td>PIT_RNS2227_20160811-1_E96</td>\n",
       "      <td>2</td>\n",
       "      <td>0.066683</td>\n",
       "    </tr>\n",
       "    <tr>\n",
       "      <th>31017</th>\n",
       "      <td>PIT-RNS2227</td>\n",
       "      <td>PIT_RNS2227_20161012-1_E8</td>\n",
       "      <td>2</td>\n",
       "      <td>0.077000</td>\n",
       "    </tr>\n",
       "    <tr>\n",
       "      <th>31079</th>\n",
       "      <td>PIT-RNS2227</td>\n",
       "      <td>PIT_RNS2227_20161012-1_E70</td>\n",
       "      <td>2</td>\n",
       "      <td>0.095203</td>\n",
       "    </tr>\n",
       "    <tr>\n",
       "      <th>31192</th>\n",
       "      <td>PIT-RNS2227</td>\n",
       "      <td>PIT_RNS2227_20161215-1_E77</td>\n",
       "      <td>2</td>\n",
       "      <td>0.131000</td>\n",
       "    </tr>\n",
       "  </tbody>\n",
       "</table>\n",
       "<p>65 rows × 4 columns</p>\n",
       "</div>"
      ],
      "text/plain": [
       "            rns_id                         data  label      time\n",
       "18130  PIT-RNS9536   PIT_RNS9536_20161215-1_E62      2  0.091463\n",
       "19498  PIT-RNS2543   PIT_RNS2543_20200225-1_E71      2  0.114000\n",
       "19499  PIT-RNS2543   PIT_RNS2543_20200225-1_E72      2  0.103000\n",
       "19501  PIT-RNS2543   PIT_RNS2543_20200225-1_E74      2  0.089000\n",
       "19502  PIT-RNS2543   PIT_RNS2543_20200225-1_E75      2  0.088000\n",
       "...            ...                          ...    ...       ...\n",
       "27200  PIT-RNS1597  PIT_RNS1597_20161012-1_E371      2  0.101626\n",
       "30976  PIT-RNS2227   PIT_RNS2227_20160811-1_E96      2  0.066683\n",
       "31017  PIT-RNS2227    PIT_RNS2227_20161012-1_E8      2  0.077000\n",
       "31079  PIT-RNS2227   PIT_RNS2227_20161012-1_E70      2  0.095203\n",
       "31192  PIT-RNS2227   PIT_RNS2227_20161215-1_E77      2  0.131000\n",
       "\n",
       "[65 rows x 4 columns]"
      ]
     },
     "execution_count": 16,
     "metadata": {},
     "output_type": "execute_result"
    }
   ],
   "source": [
    "# se puede visualizar como el onset esta cercano a 0 segundos en estos casos\n",
    "df_meta[df_meta['label']==2]"
   ]
  },
  {
   "cell_type": "code",
   "execution_count": 17,
   "metadata": {},
   "outputs": [
    {
     "data": {
      "text/html": [
       "<div>\n",
       "<style scoped>\n",
       "    .dataframe tbody tr th:only-of-type {\n",
       "        vertical-align: middle;\n",
       "    }\n",
       "\n",
       "    .dataframe tbody tr th {\n",
       "        vertical-align: top;\n",
       "    }\n",
       "\n",
       "    .dataframe thead th {\n",
       "        text-align: right;\n",
       "    }\n",
       "</style>\n",
       "<table border=\"1\" class=\"dataframe\">\n",
       "  <thead>\n",
       "    <tr style=\"text-align: right;\">\n",
       "      <th></th>\n",
       "      <th>rns_id</th>\n",
       "      <th>data</th>\n",
       "      <th>label</th>\n",
       "      <th>time</th>\n",
       "    </tr>\n",
       "  </thead>\n",
       "  <tbody>\n",
       "    <tr>\n",
       "      <th>95</th>\n",
       "      <td>PIT-RNS1603</td>\n",
       "      <td>PIT_RNS1603_20150909-1_E23</td>\n",
       "      <td>1</td>\n",
       "      <td>38.261325</td>\n",
       "    </tr>\n",
       "    <tr>\n",
       "      <th>119</th>\n",
       "      <td>PIT-RNS1603</td>\n",
       "      <td>PIT_RNS1603_20150909-1_E47</td>\n",
       "      <td>1</td>\n",
       "      <td>9.438130</td>\n",
       "    </tr>\n",
       "    <tr>\n",
       "      <th>159</th>\n",
       "      <td>PIT-RNS1603</td>\n",
       "      <td>PIT_RNS1603_20151021-1_E4</td>\n",
       "      <td>1</td>\n",
       "      <td>31.906845</td>\n",
       "    </tr>\n",
       "    <tr>\n",
       "      <th>170</th>\n",
       "      <td>PIT-RNS1603</td>\n",
       "      <td>PIT_RNS1603_20151021-1_E15</td>\n",
       "      <td>1</td>\n",
       "      <td>38.072439</td>\n",
       "    </tr>\n",
       "    <tr>\n",
       "      <th>178</th>\n",
       "      <td>PIT-RNS1603</td>\n",
       "      <td>PIT_RNS1603_20151021-1_E23</td>\n",
       "      <td>1</td>\n",
       "      <td>37.034439</td>\n",
       "    </tr>\n",
       "    <tr>\n",
       "      <th>...</th>\n",
       "      <td>...</td>\n",
       "      <td>...</td>\n",
       "      <td>...</td>\n",
       "      <td>...</td>\n",
       "    </tr>\n",
       "    <tr>\n",
       "      <th>44175</th>\n",
       "      <td>PIT-RNS8076</td>\n",
       "      <td>PIT_RNS8076_20160406-2_E24</td>\n",
       "      <td>1</td>\n",
       "      <td>21.743000</td>\n",
       "    </tr>\n",
       "    <tr>\n",
       "      <th>44176</th>\n",
       "      <td>PIT-RNS8076</td>\n",
       "      <td>PIT_RNS8076_20160406-2_E25</td>\n",
       "      <td>1</td>\n",
       "      <td>25.253000</td>\n",
       "    </tr>\n",
       "    <tr>\n",
       "      <th>44177</th>\n",
       "      <td>PIT-RNS8076</td>\n",
       "      <td>PIT_RNS8076_20160406-2_E26</td>\n",
       "      <td>1</td>\n",
       "      <td>24.033000</td>\n",
       "    </tr>\n",
       "    <tr>\n",
       "      <th>44178</th>\n",
       "      <td>PIT-RNS8076</td>\n",
       "      <td>PIT_RNS8076_20160406-2_E27</td>\n",
       "      <td>1</td>\n",
       "      <td>18.728000</td>\n",
       "    </tr>\n",
       "    <tr>\n",
       "      <th>44182</th>\n",
       "      <td>PIT-RNS8076</td>\n",
       "      <td>PIT_RNS8076_20160406-2_E31</td>\n",
       "      <td>1</td>\n",
       "      <td>56.720000</td>\n",
       "    </tr>\n",
       "  </tbody>\n",
       "</table>\n",
       "<p>9477 rows × 4 columns</p>\n",
       "</div>"
      ],
      "text/plain": [
       "            rns_id                        data  label       time\n",
       "95     PIT-RNS1603  PIT_RNS1603_20150909-1_E23      1  38.261325\n",
       "119    PIT-RNS1603  PIT_RNS1603_20150909-1_E47      1   9.438130\n",
       "159    PIT-RNS1603   PIT_RNS1603_20151021-1_E4      1  31.906845\n",
       "170    PIT-RNS1603  PIT_RNS1603_20151021-1_E15      1  38.072439\n",
       "178    PIT-RNS1603  PIT_RNS1603_20151021-1_E23      1  37.034439\n",
       "...            ...                         ...    ...        ...\n",
       "44175  PIT-RNS8076  PIT_RNS8076_20160406-2_E24      1  21.743000\n",
       "44176  PIT-RNS8076  PIT_RNS8076_20160406-2_E25      1  25.253000\n",
       "44177  PIT-RNS8076  PIT_RNS8076_20160406-2_E26      1  24.033000\n",
       "44178  PIT-RNS8076  PIT_RNS8076_20160406-2_E27      1  18.728000\n",
       "44182  PIT-RNS8076  PIT_RNS8076_20160406-2_E31      1  56.720000\n",
       "\n",
       "[9477 rows x 4 columns]"
      ]
     },
     "execution_count": 17,
     "metadata": {},
     "output_type": "execute_result"
    }
   ],
   "source": [
    "# en este caso se visualiza que el onset esta en tiempos mayores a un segundo\n",
    "df_meta[df_meta['label']==1]"
   ]
  },
  {
   "cell_type": "code",
   "execution_count": 18,
   "metadata": {},
   "outputs": [
    {
     "data": {
      "text/plain": [
       "label\n",
       "0    34681\n",
       "1     9477\n",
       "Name: count, dtype: int64"
      ]
     },
     "execution_count": 18,
     "metadata": {},
     "output_type": "execute_result"
    }
   ],
   "source": [
    "# se hace un drop de los datos con label = 2\n",
    "df_meta.drop(df_meta[df_meta['label'] == 2].index, inplace = True)\n",
    "df_meta['label'].value_counts()"
   ]
  },
  {
   "cell_type": "code",
   "execution_count": 19,
   "metadata": {},
   "outputs": [
    {
     "data": {
      "text/plain": [
       "(291, 4)"
      ]
     },
     "execution_count": 19,
     "metadata": {},
     "output_type": "execute_result"
    }
   ],
   "source": [
    "df_meta[(df_meta['rns_id']=='PIT-RNS1603') & (df_meta['label']== 1)].shape"
   ]
  },
  {
   "cell_type": "code",
   "execution_count": 20,
   "metadata": {},
   "outputs": [
    {
     "data": {
      "text/plain": [
       "(1808, 4)"
      ]
     },
     "execution_count": 20,
     "metadata": {},
     "output_type": "execute_result"
    }
   ],
   "source": [
    "df_meta[df_meta['rns_id']=='PIT-RNS1603'].shape"
   ]
  },
  {
   "attachments": {
    "image.png": {
     "image/png": "[encoded data removed]"
    }
   },
   "cell_type": "markdown",
   "metadata": {},
   "source": [
    "Pacientes que estan implantados en el talamo\n",
    "\n",
    "![image.png](attachment:image.png)"
   ]
  },
  {
   "cell_type": "code",
   "execution_count": 21,
   "metadata": {},
   "outputs": [],
   "source": [
    "# direccion de donde se encuentran los espectrogramas\n",
    "SPE_DIR  = '/media/martin/Disco2/Rns_Data/PITT_PI_v2/'"
   ]
  },
  {
   "cell_type": "code",
   "execution_count": 22,
   "metadata": {},
   "outputs": [],
   "source": [
    "# separación de datos de entrenamiento y testeo\n",
    "\n",
    "s=0 # es el paciente que se deja afuera para el entrenamiento\n",
    "\n",
    "train_df = df_meta.copy()\n",
    "test_df  = df_meta[df_meta['rns_id'] == patients[s]]\n",
    "test_df.reset_index(drop=True, inplace=True)\n",
    "train_df.drop(train_df[train_df['rns_id'] == patients[s]].index, inplace = True)"
   ]
  },
  {
   "cell_type": "code",
   "execution_count": null,
   "metadata": {},
   "outputs": [],
   "source": [
    "# Hace falta sacar el paciente que no tiene definido en donde esta implantado?"
   ]
  },
  {
   "cell_type": "code",
   "execution_count": 26,
   "metadata": {},
   "outputs": [
    {
     "data": {
      "text/html": [
       "<div>\n",
       "<style scoped>\n",
       "    .dataframe tbody tr th:only-of-type {\n",
       "        vertical-align: middle;\n",
       "    }\n",
       "\n",
       "    .dataframe tbody tr th {\n",
       "        vertical-align: top;\n",
       "    }\n",
       "\n",
       "    .dataframe thead th {\n",
       "        text-align: right;\n",
       "    }\n",
       "</style>\n",
       "<table border=\"1\" class=\"dataframe\">\n",
       "  <thead>\n",
       "    <tr style=\"text-align: right;\">\n",
       "      <th></th>\n",
       "      <th>rns_id</th>\n",
       "      <th>data</th>\n",
       "      <th>label</th>\n",
       "      <th>time</th>\n",
       "    </tr>\n",
       "  </thead>\n",
       "  <tbody>\n",
       "    <tr>\n",
       "      <th>0</th>\n",
       "      <td>PIT-RNS1603</td>\n",
       "      <td>PIT_RNS1603_20150804-1_E0</td>\n",
       "      <td>0</td>\n",
       "      <td>0.0</td>\n",
       "    </tr>\n",
       "    <tr>\n",
       "      <th>1</th>\n",
       "      <td>PIT-RNS1603</td>\n",
       "      <td>PIT_RNS1603_20150804-1_E1</td>\n",
       "      <td>0</td>\n",
       "      <td>0.0</td>\n",
       "    </tr>\n",
       "    <tr>\n",
       "      <th>2</th>\n",
       "      <td>PIT-RNS1603</td>\n",
       "      <td>PIT_RNS1603_20150804-1_E2</td>\n",
       "      <td>0</td>\n",
       "      <td>0.0</td>\n",
       "    </tr>\n",
       "    <tr>\n",
       "      <th>3</th>\n",
       "      <td>PIT-RNS1603</td>\n",
       "      <td>PIT_RNS1603_20150804-1_E3</td>\n",
       "      <td>0</td>\n",
       "      <td>0.0</td>\n",
       "    </tr>\n",
       "    <tr>\n",
       "      <th>4</th>\n",
       "      <td>PIT-RNS1603</td>\n",
       "      <td>PIT_RNS1603_20150804-1_E4</td>\n",
       "      <td>0</td>\n",
       "      <td>0.0</td>\n",
       "    </tr>\n",
       "    <tr>\n",
       "      <th>...</th>\n",
       "      <td>...</td>\n",
       "      <td>...</td>\n",
       "      <td>...</td>\n",
       "      <td>...</td>\n",
       "    </tr>\n",
       "    <tr>\n",
       "      <th>44218</th>\n",
       "      <td>PIT-RNS8076</td>\n",
       "      <td>PIT_RNS8076_20190806-1_E21</td>\n",
       "      <td>0</td>\n",
       "      <td>0.0</td>\n",
       "    </tr>\n",
       "    <tr>\n",
       "      <th>44219</th>\n",
       "      <td>PIT-RNS8076</td>\n",
       "      <td>PIT_RNS8076_20190806-1_E22</td>\n",
       "      <td>0</td>\n",
       "      <td>0.0</td>\n",
       "    </tr>\n",
       "    <tr>\n",
       "      <th>44220</th>\n",
       "      <td>PIT-RNS8076</td>\n",
       "      <td>PIT_RNS8076_20190806-1_E23</td>\n",
       "      <td>0</td>\n",
       "      <td>0.0</td>\n",
       "    </tr>\n",
       "    <tr>\n",
       "      <th>44221</th>\n",
       "      <td>PIT-RNS8076</td>\n",
       "      <td>PIT_RNS8076_20190806-1_E24</td>\n",
       "      <td>0</td>\n",
       "      <td>0.0</td>\n",
       "    </tr>\n",
       "    <tr>\n",
       "      <th>44222</th>\n",
       "      <td>PIT-RNS8076</td>\n",
       "      <td>PIT_RNS8076_20190806-1_E25</td>\n",
       "      <td>0</td>\n",
       "      <td>0.0</td>\n",
       "    </tr>\n",
       "  </tbody>\n",
       "</table>\n",
       "<p>44126 rows × 4 columns</p>\n",
       "</div>"
      ],
      "text/plain": [
       "            rns_id                        data  label  time\n",
       "0      PIT-RNS1603   PIT_RNS1603_20150804-1_E0      0   0.0\n",
       "1      PIT-RNS1603   PIT_RNS1603_20150804-1_E1      0   0.0\n",
       "2      PIT-RNS1603   PIT_RNS1603_20150804-1_E2      0   0.0\n",
       "3      PIT-RNS1603   PIT_RNS1603_20150804-1_E3      0   0.0\n",
       "4      PIT-RNS1603   PIT_RNS1603_20150804-1_E4      0   0.0\n",
       "...            ...                         ...    ...   ...\n",
       "44218  PIT-RNS8076  PIT_RNS8076_20190806-1_E21      0   0.0\n",
       "44219  PIT-RNS8076  PIT_RNS8076_20190806-1_E22      0   0.0\n",
       "44220  PIT-RNS8076  PIT_RNS8076_20190806-1_E23      0   0.0\n",
       "44221  PIT-RNS8076  PIT_RNS8076_20190806-1_E24      0   0.0\n",
       "44222  PIT-RNS8076  PIT_RNS8076_20190806-1_E25      0   0.0\n",
       "\n",
       "[44126 rows x 4 columns]"
      ]
     },
     "execution_count": 26,
     "metadata": {},
     "output_type": "execute_result"
    }
   ],
   "source": [
    "df_meta.drop(df_meta[df_meta['rns_id']=='PIT-RNS9793'].index, inplace = True)\n",
    "df_meta"
   ]
  },
  {
   "cell_type": "code",
   "execution_count": 27,
   "metadata": {},
   "outputs": [
    {
     "name": "stdout",
     "output_type": "stream",
     "text": [
      "0\n",
      "1\n",
      "2\n",
      "3\n",
      "4\n",
      "5\n",
      "6\n",
      "7\n",
      "8\n",
      "9\n",
      "10\n",
      "11\n",
      "12\n",
      "13\n",
      "14\n"
     ]
    }
   ],
   "source": [
    "for s in range(0,15):\n",
    "    print(s)"
   ]
  }
 ],
 "metadata": {
  "kernelspec": {
   "display_name": "env_thalamus",
   "language": "python",
   "name": "python3"
  },
  "language_info": {
   "codemirror_mode": {
    "name": "ipython",
    "version": 3
   },
   "file_extension": ".py",
   "mimetype": "text/x-python",
   "name": "python",
   "nbconvert_exporter": "python",
   "pygments_lexer": "ipython3",
   "version": "3.10.12"
  }
 },
 "nbformat": 4,
 "nbformat_minor": 2
}
