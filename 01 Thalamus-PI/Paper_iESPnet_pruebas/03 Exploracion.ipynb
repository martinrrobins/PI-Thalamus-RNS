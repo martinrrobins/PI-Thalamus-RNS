{
 "cells": [
  {
   "cell_type": "markdown",
   "metadata": {},
   "source": [
    "# Exploración del modelo entrenado"
   ]
  },
  {
   "cell_type": "code",
   "execution_count": 1,
   "metadata": {},
   "outputs": [],
   "source": [
    "import sys\n",
    "import os \n",
    "import torch\n",
    "import pandas as pd\n",
    "import torchaudio.transforms as T\n",
    "import torch.optim as optim\n",
    "import numpy as np\n",
    "\n",
    "from torch.utils.data import DataLoader, Dataset\n",
    "from torchvision import transforms\n",
    "\n",
    "sys.path.append(os.path.abspath(os.path.join('..','iESPnet_SRC_main','utilities')))\n",
    "from Generator import SeizureDatasetLabelTime, scale_spec, permute_spec, smoothing_label\n",
    "from Model import iESPnet\n",
    "from TrainEval import train_model_opt, test_model, train_model, get_thr_output, get_performance_indices\n",
    "from utilit import make_weights_for_balanced_classes"
   ]
  },
  {
   "cell_type": "code",
   "execution_count": 6,
   "metadata": {},
   "outputs": [],
   "source": [
    "meta_data_file = '/media/martin/Disco2/Rns_Data/PITT/METADATA/allfiles_metadata.csv'\n",
    "df_meta = pd.read_csv(meta_data_file)\n",
    "df_meta.drop(df_meta[df_meta['label'] == 2].index, inplace = True)"
   ]
  },
  {
   "cell_type": "code",
   "execution_count": 17,
   "metadata": {},
   "outputs": [],
   "source": [
    "# se crea el modelo\n",
    "\n",
    "N_CLASSES       = 1\n",
    "learning_rate   = 1e-3\n",
    "batch_size      = 128\n",
    "epochs          = 20\n",
    "num_workers     = 4\n",
    "\n",
    "hparams = {\n",
    "        \"n_cnn_layers\" : 3,\n",
    "        \"n_rnn_layers\" : 3,\n",
    "        \"rnn_dim\"      : [150, 100, 50],\n",
    "        \"n_class\"      : N_CLASSES,\n",
    "        \"out_ch\"       : [8,8,16],\n",
    "        \"dropout\"      : 0.3,\n",
    "        \"learning_rate\": learning_rate,\n",
    "        \"batch_size\"   : batch_size,\n",
    "        \"num_workers\"  : num_workers,\n",
    "        \"epochs\"       : epochs\n",
    "        }\n",
    "\n",
    "model = iESPnet(hparams['n_cnn_layers'],\n",
    "                hparams['n_rnn_layers'],\n",
    "                hparams['rnn_dim'],\n",
    "                hparams['n_class'],\n",
    "                hparams['out_ch'],\n",
    "                hparams['dropout'],\n",
    "                )"
   ]
  },
  {
   "cell_type": "code",
   "execution_count": 8,
   "metadata": {},
   "outputs": [],
   "source": [
    "s=0\n",
    "\n",
    "patients         = df_meta['rns_id'].unique().tolist()\n",
    "save_path        = 'SAVEPATH/'\n",
    "save_runs        = save_path + patients[s] + '/runs/'\n",
    "save_models      = save_path + patients[s] + '/models/'\n",
    "save_predictions = save_path + patients[s] + '/results/'\n",
    "save_figs        = save_path + patients[s] + '/figs/'"
   ]
  },
  {
   "cell_type": "code",
   "execution_count": 10,
   "metadata": {},
   "outputs": [
    {
     "name": "stdout",
     "output_type": "stream",
     "text": [
      "Using cuda device\n"
     ]
    }
   ],
   "source": [
    "# pregunta si esta disponible la gpu\n",
    "\n",
    "use_cuda = torch.cuda.is_available()\n",
    "device = torch.device(\"cuda\" if use_cuda else \"cpu\")\n",
    "print('Using {} device'.format(device))"
   ]
  },
  {
   "cell_type": "code",
   "execution_count": 18,
   "metadata": {},
   "outputs": [
    {
     "data": {
      "text/plain": [
       "<All keys matched successfully>"
      ]
     },
     "execution_count": 18,
     "metadata": {},
     "output_type": "execute_result"
    }
   ],
   "source": [
    " # load model\n",
    "\n",
    "model_path = save_models + 'model_opt.pth'\n",
    "checkpoint = torch.load(model_path)\n",
    "model.load_state_dict(checkpoint['model_state_dict'])"
   ]
  },
  {
   "cell_type": "code",
   "execution_count": 77,
   "metadata": {},
   "outputs": [
    {
     "data": {
      "text/plain": [
       "dict_keys(['train_losses', 'train_acupr', 'prediction_te', 'prediction_tr', 'hparams', 'threshold', 'train_size'])"
      ]
     },
     "execution_count": 77,
     "metadata": {},
     "output_type": "execute_result"
    }
   ],
   "source": [
    "path_results = save_predictions+ patients[s]+ 'results.npy'\n",
    "path_results\n",
    "\n",
    "results_patient_0 = np.load(path_results, allow_pickle=True)\n",
    "results_patient_0=results_patient_0.item()\n",
    "results_patient_0.keys()"
   ]
  },
  {
   "cell_type": "code",
   "execution_count": 78,
   "metadata": {},
   "outputs": [],
   "source": [
    "train_losses_  = results_patient_0.get(\"train_losses\")\n",
    "train_acupr_   = results_patient_0.get(\"train_acupr\") \n",
    "prediction_te_ = results_patient_0.get(\"prediction_te\") \n",
    "prediction_tr_ = results_patient_0.get(\"prediction_tr\") "
   ]
  },
  {
   "cell_type": "code",
   "execution_count": 82,
   "metadata": {},
   "outputs": [
    {
     "data": {
      "text/html": [
       "<div>\n",
       "<style scoped>\n",
       "    .dataframe tbody tr th:only-of-type {\n",
       "        vertical-align: middle;\n",
       "    }\n",
       "\n",
       "    .dataframe tbody tr th {\n",
       "        vertical-align: top;\n",
       "    }\n",
       "\n",
       "    .dataframe thead th {\n",
       "        text-align: right;\n",
       "    }\n",
       "</style>\n",
       "<table border=\"1\" class=\"dataframe\">\n",
       "  <thead>\n",
       "    <tr style=\"text-align: right;\">\n",
       "      <th></th>\n",
       "      <th>train_losses</th>\n",
       "      <th>train_acupr</th>\n",
       "    </tr>\n",
       "  </thead>\n",
       "  <tbody>\n",
       "    <tr>\n",
       "      <th>0</th>\n",
       "      <td>0.141611</td>\n",
       "      <td>0.497843</td>\n",
       "    </tr>\n",
       "    <tr>\n",
       "      <th>1</th>\n",
       "      <td>0.056635</td>\n",
       "      <td>0.871250</td>\n",
       "    </tr>\n",
       "    <tr>\n",
       "      <th>2</th>\n",
       "      <td>0.035553</td>\n",
       "      <td>0.965430</td>\n",
       "    </tr>\n",
       "    <tr>\n",
       "      <th>3</th>\n",
       "      <td>0.031739</td>\n",
       "      <td>0.974281</td>\n",
       "    </tr>\n",
       "    <tr>\n",
       "      <th>4</th>\n",
       "      <td>0.029610</td>\n",
       "      <td>0.975429</td>\n",
       "    </tr>\n",
       "    <tr>\n",
       "      <th>5</th>\n",
       "      <td>0.027870</td>\n",
       "      <td>0.978386</td>\n",
       "    </tr>\n",
       "    <tr>\n",
       "      <th>6</th>\n",
       "      <td>0.026205</td>\n",
       "      <td>0.982568</td>\n",
       "    </tr>\n",
       "    <tr>\n",
       "      <th>7</th>\n",
       "      <td>0.024391</td>\n",
       "      <td>0.984402</td>\n",
       "    </tr>\n",
       "    <tr>\n",
       "      <th>8</th>\n",
       "      <td>0.023292</td>\n",
       "      <td>0.986604</td>\n",
       "    </tr>\n",
       "    <tr>\n",
       "      <th>9</th>\n",
       "      <td>0.022210</td>\n",
       "      <td>0.988455</td>\n",
       "    </tr>\n",
       "    <tr>\n",
       "      <th>10</th>\n",
       "      <td>0.021141</td>\n",
       "      <td>0.989624</td>\n",
       "    </tr>\n",
       "    <tr>\n",
       "      <th>11</th>\n",
       "      <td>0.020360</td>\n",
       "      <td>0.991807</td>\n",
       "    </tr>\n",
       "    <tr>\n",
       "      <th>12</th>\n",
       "      <td>0.019572</td>\n",
       "      <td>0.991799</td>\n",
       "    </tr>\n",
       "    <tr>\n",
       "      <th>13</th>\n",
       "      <td>0.019078</td>\n",
       "      <td>0.993543</td>\n",
       "    </tr>\n",
       "    <tr>\n",
       "      <th>14</th>\n",
       "      <td>0.018717</td>\n",
       "      <td>0.993634</td>\n",
       "    </tr>\n",
       "    <tr>\n",
       "      <th>15</th>\n",
       "      <td>0.018192</td>\n",
       "      <td>0.995367</td>\n",
       "    </tr>\n",
       "    <tr>\n",
       "      <th>16</th>\n",
       "      <td>0.017886</td>\n",
       "      <td>0.995292</td>\n",
       "    </tr>\n",
       "    <tr>\n",
       "      <th>17</th>\n",
       "      <td>0.017600</td>\n",
       "      <td>0.995641</td>\n",
       "    </tr>\n",
       "    <tr>\n",
       "      <th>18</th>\n",
       "      <td>0.017359</td>\n",
       "      <td>0.995714</td>\n",
       "    </tr>\n",
       "    <tr>\n",
       "      <th>19</th>\n",
       "      <td>0.017032</td>\n",
       "      <td>0.996341</td>\n",
       "    </tr>\n",
       "  </tbody>\n",
       "</table>\n",
       "</div>"
      ],
      "text/plain": [
       "    train_losses  train_acupr\n",
       "0       0.141611     0.497843\n",
       "1       0.056635     0.871250\n",
       "2       0.035553     0.965430\n",
       "3       0.031739     0.974281\n",
       "4       0.029610     0.975429\n",
       "5       0.027870     0.978386\n",
       "6       0.026205     0.982568\n",
       "7       0.024391     0.984402\n",
       "8       0.023292     0.986604\n",
       "9       0.022210     0.988455\n",
       "10      0.021141     0.989624\n",
       "11      0.020360     0.991807\n",
       "12      0.019572     0.991799\n",
       "13      0.019078     0.993543\n",
       "14      0.018717     0.993634\n",
       "15      0.018192     0.995367\n",
       "16      0.017886     0.995292\n",
       "17      0.017600     0.995641\n",
       "18      0.017359     0.995714\n",
       "19      0.017032     0.996341"
      ]
     },
     "execution_count": 82,
     "metadata": {},
     "output_type": "execute_result"
    }
   ],
   "source": [
    "df_train = pd.DataFrame({ 'train_losses': train_losses_, 'train_acupr':train_acupr_})\n",
    "df_train"
   ]
  },
  {
   "cell_type": "code",
   "execution_count": 74,
   "metadata": {},
   "outputs": [
    {
     "name": "stdout",
     "output_type": "stream",
     "text": [
      "dict_keys(['accuracy', 'f1', 'precision', 'recall', 'y_true', 'y_pred', 't_true', 't_pred', 'l_true', 'l_pred', 'proba', 'MAE_time'])\n"
     ]
    }
   ],
   "source": [
    "print(prediction_te_.keys())\n"
   ]
  }
 ],
 "metadata": {
  "kernelspec": {
   "display_name": "env_thalamus",
   "language": "python",
   "name": "python3"
  },
  "language_info": {
   "codemirror_mode": {
    "name": "ipython",
    "version": 3
   },
   "file_extension": ".py",
   "mimetype": "text/x-python",
   "name": "python",
   "nbconvert_exporter": "python",
   "pygments_lexer": "ipython3",
   "version": "3.10.12"
  }
 },
 "nbformat": 4,
 "nbformat_minor": 2
}
