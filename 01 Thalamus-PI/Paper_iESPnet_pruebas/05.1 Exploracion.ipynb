{
 "cells": [
  {
   "cell_type": "markdown",
   "metadata": {},
   "source": [
    "# Creación de Espectrograma y guardado local de los mismos"
   ]
  },
  {
   "cell_type": "code",
   "execution_count": 2,
   "metadata": {},
   "outputs": [],
   "source": [
    "import pandas as pd\n",
    "import sys\n",
    "import os\n",
    "\n",
    "sys.path.insert(1, '/home/martin/Documentos/env_thalamus/01 Thalamus-PI/iESPnet_SRC_main/utilities')\n",
    "import IO # customized functions for navigating throught the folders and files\n",
    "import Epochs\n",
    "\n",
    "import torch\n",
    "import torchaudio.transforms as T\n",
    "import numpy as np\n",
    "import mne\n",
    "mne.set_log_level(verbose='warning') #to avoid info at terminal\n",
    "import matplotlib.pyplot as plt\n",
    "import librosa\n",
    "\n",
    "from scipy import fft as sp_fft\n",
    "from itertools import permutations\n",
    "from utilit import get_data_files, get_annot_files, get_epochs_zeropad_all, get_events, get_patient_PE, get_spectrogram"
   ]
  },
  {
   "cell_type": "markdown",
   "metadata": {},
   "source": [
    "1. OUTDATA_DIR es el path de la carpeta donde se van a guardar los espectrogramas\n",
    "\n",
    "2. OUTMETADATA_DIR es el path de la carpeta donde se va a guardar la metadata"
   ]
  },
  {
   "cell_type": "code",
   "execution_count": 2,
   "metadata": {},
   "outputs": [],
   "source": [
    "DATA_DIR = '/media/martin/Disco2/Rns_Data/RNS_ESPM_datatransfer/Data'\n",
    "OUTDATA_DIR = '/media/martin/Disco2/Rns_Data/PITT_PI/'\n",
    "OUTMETADATA_DIR = '/media/martin/Disco2/Rns_Data/PITT_PI/METADATA/'"
   ]
  },
  {
   "cell_type": "code",
   "execution_count": 3,
   "metadata": {},
   "outputs": [],
   "source": [
    "# crear las carpetas en caso de que no existan\n",
    "if not os.path.exists(OUTDATA_DIR):\n",
    "    os.makedirs(OUTDATA_DIR)\n",
    "\n",
    "if not os.path.exists(OUTMETADATA_DIR):\n",
    "    os.makedirs(OUTMETADATA_DIR)"
   ]
  },
  {
   "cell_type": "code",
   "execution_count": 4,
   "metadata": {},
   "outputs": [],
   "source": [
    "# Definición de variables para crear el espectrograma \n",
    "\n",
    "ECOG_SAMPLE_RATE = 250\n",
    "ECOG_CHANNELS    = 4\n",
    "TT               = 1000 # window length\n",
    "SPEC_WIN_LEN     = int(ECOG_SAMPLE_RATE * TT / 1000 ) # win size\n",
    "overlap          = 500 \n",
    "SPEC_HOP_LEN     = int(ECOG_SAMPLE_RATE * (TT - overlap) / 1000) # Length of hop between windows.\n",
    "SPEC_NFFT        = 500  # to see changes in 0.5 reso\n",
    "top_db           = 40.0"
   ]
  },
  {
   "cell_type": "code",
   "execution_count": 5,
   "metadata": {},
   "outputs": [
    {
     "name": "stdout",
     "output_type": "stream",
     "text": [
      "['PIT-RNS1603', 'PIT-RNS6989', 'PIT-RNS3016', 'PIT-RNS1529', 'PIT-RNS7168', 'PIT-RNS4098', 'PIT-RNS1836', 'PIT-RNS9183', 'PIT-RNS1440', 'PIT-RNS1713', 'PIT-RNS9536', 'PIT-RNS2543', 'PIT-RNS1438', 'PIT-RNS1534', 'PIT-RNS9793', 'PIT-RNS1703', 'PIT-RNS1556', 'PIT-RNS1597', 'PIT-RNS6992', 'PIT-RNS8326', 'PIT-RNS2227', 'PIT-RNS8163', 'PIT-RNS4998', 'PIT-RNS8973', 'PIT-RNS6806', 'PIT-RNS1090', 'PIT-RNS2368', 'PIT-RNS6762', 'PIT-RNS2938', 'PIT-RNS7525', 'PIT-RNS0427', 'PIT-RNS8076']\n",
      "\n",
      "32\n"
     ]
    }
   ],
   "source": [
    "# lista con ids de pacientes\n",
    "RNSIDS = IO.get_subfolders(DATA_DIR)\n",
    "print(RNSIDS)\n",
    "print()\n",
    "print(len(RNSIDS))"
   ]
  },
  {
   "cell_type": "markdown",
   "metadata": {},
   "source": [
    "Creación de Dataframe en donde se va a tener la METADATA"
   ]
  },
  {
   "cell_type": "code",
   "execution_count": 6,
   "metadata": {},
   "outputs": [],
   "source": [
    "df = pd.DataFrame(columns=['rns_id', 'data', 'label', 'time'])"
   ]
  },
  {
   "cell_type": "code",
   "execution_count": 7,
   "metadata": {},
   "outputs": [
    {
     "name": "stdout",
     "output_type": "stream",
     "text": [
      "Running subject PIT-RNS1603 [s]: 0\n"
     ]
    },
    {
     "name": "stderr",
     "output_type": "stream",
     "text": [
      "/tmp/ipykernel_106295/3148561400.py:54: FutureWarning: The behavior of DataFrame concatenation with empty or all-NA entries is deprecated. In a future version, this will no longer exclude empty or all-NA columns when determining the result dtypes. To retain the old behavior, exclude the relevant entries before the concat operation.\n",
      "  df = pd.concat([df, pd.DataFrame([df_aux])], ignore_index=True)\n"
     ]
    },
    {
     "name": "stdout",
     "output_type": "stream",
     "text": [
      "Running subject PIT-RNS6989 [s]: 1\n",
      "Running subject PIT-RNS3016 [s]: 2\n",
      "Running subject PIT-RNS1529 [s]: 3\n",
      "Running subject PIT-RNS7168 [s]: 4\n",
      "Running subject PIT-RNS4098 [s]: 5\n",
      "Running subject PIT-RNS1836 [s]: 6\n",
      "Running subject PIT-RNS9183 [s]: 7\n",
      "Running subject PIT-RNS1440 [s]: 8\n",
      "Running subject PIT-RNS1713 [s]: 9\n",
      "Running subject PIT-RNS9536 [s]: 10\n",
      "Running subject PIT-RNS2543 [s]: 11\n",
      "Running subject PIT-RNS1438 [s]: 12\n",
      "Running subject PIT-RNS1534 [s]: 13\n",
      "Running subject PIT-RNS9793 [s]: 14\n",
      "Running subject PIT-RNS1703 [s]: 15\n",
      "Running subject PIT-RNS1556 [s]: 16\n",
      "Running subject PIT-RNS1597 [s]: 17\n",
      "Running subject PIT-RNS6992 [s]: 18\n",
      "Running subject PIT-RNS8326 [s]: 19\n",
      "Running subject PIT-RNS2227 [s]: 20\n",
      "Running subject PIT-RNS8163 [s]: 21\n",
      "Running subject PIT-RNS4998 [s]: 22\n",
      "Running subject PIT-RNS8973 [s]: 23\n",
      "Running subject PIT-RNS6806 [s]: 24\n",
      "Running subject PIT-RNS1090 [s]: 25\n",
      "Running subject PIT-RNS2368 [s]: 26\n",
      "Running subject PIT-RNS6762 [s]: 27\n",
      "Running subject PIT-RNS2938 [s]: 28\n",
      "Running subject PIT-RNS7525 [s]: 29\n",
      "Running subject PIT-RNS0427 [s]: 30\n",
      "Running subject PIT-RNS8076 [s]: 31\n"
     ]
    }
   ],
   "source": [
    "for s in range(len(RNSIDS)):\n",
    "    \n",
    "    print('Running subject ' + RNSIDS[s] + ' [s]: ' + str(s))\n",
    "    data_files = get_data_files(DATA_DIR, RNSIDS[s], Verbose=False)\n",
    "    annot_files = get_annot_files(DATA_DIR, RNSIDS[s], Verbose=False)\n",
    "\n",
    "    for nepoch in range(len(data_files)):\n",
    "\n",
    "        events = get_events(annot_files[nepoch])\n",
    "        X, labels, times = get_epochs_zeropad_all(data_files[nepoch], events)\n",
    "\n",
    "        # creo que no hace falta\n",
    "        if len(X) == 0:\n",
    "            continue\n",
    "        # hasta aca\n",
    "\n",
    "        [nt, nc, ns] = np.shape(X)\n",
    "        \n",
    "\n",
    "        hosp_id, subject_id, PE_id = get_patient_PE(data_files[nepoch],RNSIDS[s])\n",
    "\n",
    "        for nfile in range(nt):\n",
    "            file = X[nfile, :, :]\n",
    "            signal = torch.from_numpy(file)\n",
    "\n",
    "            # normalize the waveform\n",
    "            signal = (signal - signal.mean()) / signal.std()\n",
    "\n",
    "            spec, t, f = get_spectrogram(signal, ECOG_SAMPLE_RATE, SPEC_NFFT, SPEC_WIN_LEN, SPEC_HOP_LEN)\n",
    "\n",
    "            # spec to DB\n",
    "            spec = librosa.power_to_db(spec, top_db=top_db)\n",
    "\n",
    "            # save up to 60 Hz\n",
    "            idx_60 = np.where(f<= 60)[0][-1]\n",
    "            spec = spec[:, :idx_60,:]\n",
    "\n",
    "            # label time\n",
    "            label_time = np.zeros((spec.shape[2],))\n",
    "                \n",
    "            if labels[nfile] !=0:\n",
    "                idx_t = np.where(t<=times[nfile])[0][-1]\n",
    "                label_time[idx_t]=1\n",
    "\n",
    "            data = {'spectrogram': spec, 'label': label_time}\n",
    "\n",
    "            file_name = hosp_id + '_' + subject_id + '_' + PE_id + '_E' + str(nfile)\n",
    "\n",
    "            df_aux = {'rns_id': hosp_id + '-' + subject_id, \n",
    "                    'data'  : file_name,\n",
    "                    'label' : labels[nfile],\n",
    "                    'time'  : times[nfile]}\n",
    "            \n",
    "            df = pd.concat([df, pd.DataFrame([df_aux])], ignore_index=True)\n",
    "\n",
    "            np.save(OUTDATA_DIR + file_name, data)\n",
    "\n",
    "    df.to_csv(OUTMETADATA_DIR + 'allfiles_metadata.csv', index=False)"
   ]
  }
 ],
 "metadata": {
  "kernelspec": {
   "display_name": "env_thalamus",
   "language": "python",
   "name": "python3"
  },
  "language_info": {
   "codemirror_mode": {
    "name": "ipython",
    "version": 3
   },
   "file_extension": ".py",
   "mimetype": "text/x-python",
   "name": "python",
   "nbconvert_exporter": "python",
   "pygments_lexer": "ipython3",
   "version": "3.10.12"
  }
 },
 "nbformat": 4,
 "nbformat_minor": 2
}
