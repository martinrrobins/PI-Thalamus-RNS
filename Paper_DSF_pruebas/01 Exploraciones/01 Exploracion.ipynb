{
 "cells": [
  {
   "cell_type": "code",
   "execution_count": 1,
   "metadata": {},
   "outputs": [],
   "source": [
    "import os\n",
    "import os.path as op\n",
    "\n",
    "import mne\n",
    "import wfdb\n",
    "import numpy as np\n",
    "import pandas as pd\n",
    "from mne.datasets.utils import _get_path\n",
    "from mne.datasets.sleep_physionet._utils import _fetch_one\n",
    "from braindecode.datasets import BaseDataset, BaseConcatDataset\n",
    "from braindecode.preprocessing.preprocess import _preprocess\n",
    "from joblib import Parallel, delayed"
   ]
  },
  {
   "cell_type": "code",
   "execution_count": 5,
   "metadata": {},
   "outputs": [],
   "source": [
    "PC18_DIR           = op.join('..','..','03 Dynamic Spatial Filtering', 'data', 'pc18')\n",
    "PC18_RECORDS       = op.join(PC18_DIR, 'sleep_records.csv')\n",
    "PC18_INFO          = op.join(PC18_DIR, 'age-sex.csv')\n",
    "PC18_SHA1_TRAINING = op.join(PC18_DIR, 'training_SHA1SUMS')\n",
    "PC18_SHA1_TEST     = op.join(PC18_DIR, 'test_SHA1SUMS')\n",
    "PC18_URL           = 'https://physionet.org/files/challenge-2018/1.0.0/'"
   ]
  }
 ],
 "metadata": {
  "kernelspec": {
   "display_name": "env_dsf",
   "language": "python",
   "name": "python3"
  },
  "language_info": {
   "codemirror_mode": {
    "name": "ipython",
    "version": 3
   },
   "file_extension": ".py",
   "mimetype": "text/x-python",
   "name": "python",
   "nbconvert_exporter": "python",
   "pygments_lexer": "ipython3",
   "version": "3.10.12"
  }
 },
 "nbformat": 4,
 "nbformat_minor": 2
}
