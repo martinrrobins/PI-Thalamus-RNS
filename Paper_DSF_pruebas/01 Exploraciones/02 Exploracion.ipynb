{
 "cells": [
  {
   "cell_type": "markdown",
   "metadata": {},
   "source": [
    "# Entrenamiento y exploración del dimensionamiento de los datos"
   ]
  },
  {
   "cell_type": "code",
   "execution_count": 12,
   "metadata": {},
   "outputs": [],
   "source": [
    "import os\n",
    "import torch\n",
    "\n",
    "from utilit_exploracion             import get_exp_name, load_data, apply_autoreject, split_dataset\n",
    "from sklearn.utils.class_weight     import compute_class_weight"
   ]
  },
  {
   "cell_type": "code",
   "execution_count": 2,
   "metadata": {},
   "outputs": [],
   "source": [
    "cuda   = torch.cuda.is_available()  # check if GPU is available\n",
    "device = 'cuda' if torch.cuda.is_available() else 'cpu'\n",
    "\n",
    "if cuda:\n",
    "    torch.backends.cudnn.enabled       = True\n",
    "    torch.backends.cudnn.benchmark     = not True # args.deterministic\n",
    "    torch.backends.cudnn.deterministic = True     # args.deterministic"
   ]
  },
  {
   "cell_type": "code",
   "execution_count": 3,
   "metadata": {},
   "outputs": [],
   "source": [
    "# create savedir\n",
    "\n",
    "dir_name  = get_exp_name('pc18_debug', 'stager_net', 'dsfd', 'autoreject') # 'no_denoising')\n",
    "save_dir  = './runs/pc18_debug/'\n",
    "save_path = os.path.join(save_dir, dir_name)\n",
    "\n",
    "if not os.path.exists(save_path):\n",
    "    os.makedirs(save_path)"
   ]
  },
  {
   "cell_type": "code",
   "execution_count": null,
   "metadata": {},
   "outputs": [],
   "source": [
    "# load, preprocess and window data\n",
    "\n",
    "windows_dataset = load_data('pc18_debug', 30, 4)\n",
    "if  True:                                                      #args.denoising == 'autoreject':\n",
    "    windows_dataset = apply_autoreject(windows_dataset, 87, 4) # apply_autoreject(windows_dataset, args.seed, args.n_jobs)"
   ]
  },
  {
   "cell_type": "code",
   "execution_count": 6,
   "metadata": {},
   "outputs": [],
   "source": [
    "# split into train, valid and test sets\n",
    "\n",
    "available_classes = windows_dataset.get_metadata()['target'].unique()\n",
    "\n",
    "train_set, valid_set, test_set = split_dataset(\n",
    "                                                windows_dataset, \n",
    "                                                0.2,                     # args.valid_size, \n",
    "                                                0.2,                     # args.test_size,\n",
    "                                                random_state_valid = 87, # =args.random_state_valid,\n",
    "                                                random_state_test  = 87  # =args.random_state_test\n",
    "                                              )\n",
    "del windows_dataset"
   ]
  },
  {
   "cell_type": "code",
   "execution_count": 7,
   "metadata": {},
   "outputs": [
    {
     "data": {
      "text/plain": [
       "array([0, 1, 2, 3, 4])"
      ]
     },
     "execution_count": 7,
     "metadata": {},
     "output_type": "execute_result"
    }
   ],
   "source": [
    "available_classes"
   ]
  },
  {
   "cell_type": "code",
   "execution_count": 13,
   "metadata": {},
   "outputs": [],
   "source": [
    "# Extract weights to balance the loss function\n",
    "y_true_train = train_set.get_metadata()['target'].to_numpy()\n",
    "train_weights = torch.Tensor(compute_class_weight('balanced', classes=available_classes, y=y_true_train)).to(device)"
   ]
  },
  {
   "cell_type": "markdown",
   "metadata": {},
   "source": [
    "### Create model"
   ]
  },
  {
   "cell_type": "code",
   "execution_count": null,
   "metadata": {},
   "outputs": [],
   "source": []
  }
 ],
 "metadata": {
  "kernelspec": {
   "display_name": "env_dsf",
   "language": "python",
   "name": "python3"
  },
  "language_info": {
   "codemirror_mode": {
    "name": "ipython",
    "version": 3
   },
   "file_extension": ".py",
   "mimetype": "text/x-python",
   "name": "python",
   "nbconvert_exporter": "python",
   "pygments_lexer": "ipython3",
   "version": "3.10.12"
  }
 },
 "nbformat": 4,
 "nbformat_minor": 2
}
